{
 "cells": [
  {
   "cell_type": "code",
   "execution_count": 1,
   "id": "b14323f5",
   "metadata": {
    "_cell_guid": "b1076dfc-b9ad-4769-8c92-a6c4dae69d19",
    "_uuid": "8f2839f25d086af736a60e9eeb907d3b93b6e0e5",
    "execution": {
     "iopub.execute_input": "2022-03-13T17:39:02.954049Z",
     "iopub.status.busy": "2022-03-13T17:39:02.953082Z",
     "iopub.status.idle": "2022-03-13T17:39:04.857418Z",
     "shell.execute_reply": "2022-03-13T17:39:04.858538Z"
    },
    "papermill": {
     "duration": 2.0824,
     "end_time": "2022-03-13T17:39:04.859055",
     "exception": false,
     "start_time": "2022-03-13T17:39:02.776655",
     "status": "completed"
    },
    "tags": []
   },
   "outputs": [
    {
     "name": "stdout",
     "output_type": "stream",
     "text": [
      "/kaggle/input/cmpe-257-lab-1-spring-2022/sample_submission.csv\n",
      "/kaggle/input/cmpe-257-lab-1-spring-2022/x_test.csv\n",
      "/kaggle/input/cmpe-257-lab-1-spring-2022/y_train.csv\n",
      "/kaggle/input/cmpe-257-lab-1-spring-2022/x_train.csv\n",
      "/kaggle/input/cmpe-257-lab-1-spring-2022/Lab 1.pdf\n"
     ]
    }
   ],
   "source": [
    "# This Python 3 environment comes with many helpful analytics libraries installed\n",
    "# It is defined by the kaggle/python Docker image: https://github.com/kaggle/docker-python\n",
    "# For example, here's several helpful packages to load\n",
    "\n",
    "import numpy as np # linear algebra\n",
    "import pandas as pd # data processing, CSV file I/O (e.g. pd.read_csv)\n",
    "import seaborn as sns\n",
    "import matplotlib.pyplot as plt\n",
    "import math\n",
    "from imblearn.over_sampling import SMOTE,ADASYN\n",
    "from sklearn.preprocessing import MinMaxScaler,StandardScaler\n",
    "from scipy.stats import ttest_1samp\n",
    "from sklearn.model_selection import train_test_split\n",
    "from sklearn.linear_model import LogisticRegression\n",
    "from sklearn.model_selection import KFold\n",
    "from sklearn.metrics import classification_report\n",
    "from sklearn.ensemble import RandomForestClassifier\n",
    "from sklearn.model_selection import train_test_split\n",
    "from sklearn.metrics import accuracy_score,roc_auc_score, confusion_matrix, classification_report,precision_score,recall_score,plot_roc_curve,log_loss\n",
    "from sklearn import metrics\n",
    "from sklearn.feature_selection import SelectKBest\n",
    "from sklearn.feature_selection import chi2\n",
    "from sklearn.model_selection import train_test_split, cross_val_score, StratifiedKFold, GridSearchCV, RandomizedSearchCV\n",
    "\n",
    "# Input data files are available in the read-only \"../input/\" directory\n",
    "# For example, running this (by clicking run or pressing Shift+Enter) will list all files under the input directory\n",
    "\n",
    "import os\n",
    "for dirname, _, filenames in os.walk('/kaggle/input'):\n",
    "    for filename in filenames:\n",
    "        print(os.path.join(dirname, filename))\n",
    "\n",
    "# You can write up to 20GB to the current directory (/kaggle/working/) that gets preserved as output when you create a version using \"Save & Run All\" \n",
    "# You can also write temporary files to /kaggle/temp/, but they won't be saved outside of the current session"
   ]
  },
  {
   "cell_type": "markdown",
   "id": "2baa6ed3",
   "metadata": {
    "papermill": {
     "duration": 0.157064,
     "end_time": "2022-03-13T17:39:05.178092",
     "exception": false,
     "start_time": "2022-03-13T17:39:05.021028",
     "status": "completed"
    },
    "tags": []
   },
   "source": [
    "# **Load the Dataset**"
   ]
  },
  {
   "cell_type": "code",
   "execution_count": 2,
   "id": "be7cd6e1",
   "metadata": {
    "execution": {
     "iopub.execute_input": "2022-03-13T17:39:05.495268Z",
     "iopub.status.busy": "2022-03-13T17:39:05.494232Z",
     "iopub.status.idle": "2022-03-13T17:39:05.598496Z",
     "shell.execute_reply": "2022-03-13T17:39:05.599090Z"
    },
    "papermill": {
     "duration": 0.266064,
     "end_time": "2022-03-13T17:39:05.599300",
     "exception": false,
     "start_time": "2022-03-13T17:39:05.333236",
     "status": "completed"
    },
    "tags": []
   },
   "outputs": [],
   "source": [
    "train_features = pd.read_csv(\"/kaggle/input/cmpe-257-lab-1-spring-2022/x_train.csv\")\n",
    "train_output = pd.read_csv(\"/kaggle/input/cmpe-257-lab-1-spring-2022/y_train.csv\")\n",
    "test_features = pd.read_csv(\"/kaggle/input/cmpe-257-lab-1-spring-2022/x_test.csv\")\n",
    "ss = pd.read_csv(\"/kaggle/input/cmpe-257-lab-1-spring-2022/sample_submission.csv\")"
   ]
  },
  {
   "cell_type": "markdown",
   "id": "e31ff28b",
   "metadata": {
    "papermill": {
     "duration": 0.155956,
     "end_time": "2022-03-13T17:39:05.914573",
     "exception": false,
     "start_time": "2022-03-13T17:39:05.758617",
     "status": "completed"
    },
    "tags": []
   },
   "source": [
    "**Viewing the Head**"
   ]
  },
  {
   "cell_type": "code",
   "execution_count": 3,
   "id": "29eed564",
   "metadata": {
    "execution": {
     "iopub.execute_input": "2022-03-13T17:39:06.246294Z",
     "iopub.status.busy": "2022-03-13T17:39:06.245254Z",
     "iopub.status.idle": "2022-03-13T17:39:06.265160Z",
     "shell.execute_reply": "2022-03-13T17:39:06.264548Z"
    },
    "papermill": {
     "duration": 0.189797,
     "end_time": "2022-03-13T17:39:06.265318",
     "exception": false,
     "start_time": "2022-03-13T17:39:06.075521",
     "status": "completed"
    },
    "tags": []
   },
   "outputs": [
    {
     "data": {
      "text/html": [
       "<div>\n",
       "<style scoped>\n",
       "    .dataframe tbody tr th:only-of-type {\n",
       "        vertical-align: middle;\n",
       "    }\n",
       "\n",
       "    .dataframe tbody tr th {\n",
       "        vertical-align: top;\n",
       "    }\n",
       "\n",
       "    .dataframe thead th {\n",
       "        text-align: right;\n",
       "    }\n",
       "</style>\n",
       "<table border=\"1\" class=\"dataframe\">\n",
       "  <thead>\n",
       "    <tr style=\"text-align: right;\">\n",
       "      <th></th>\n",
       "      <th>index</th>\n",
       "      <th>target</th>\n",
       "    </tr>\n",
       "  </thead>\n",
       "  <tbody>\n",
       "    <tr>\n",
       "      <th>0</th>\n",
       "      <td>16834</td>\n",
       "      <td>0.494894</td>\n",
       "    </tr>\n",
       "    <tr>\n",
       "      <th>1</th>\n",
       "      <td>15437</td>\n",
       "      <td>0.133882</td>\n",
       "    </tr>\n",
       "    <tr>\n",
       "      <th>2</th>\n",
       "      <td>8549</td>\n",
       "      <td>0.877003</td>\n",
       "    </tr>\n",
       "    <tr>\n",
       "      <th>3</th>\n",
       "      <td>7222</td>\n",
       "      <td>0.813989</td>\n",
       "    </tr>\n",
       "    <tr>\n",
       "      <th>4</th>\n",
       "      <td>17054</td>\n",
       "      <td>0.701272</td>\n",
       "    </tr>\n",
       "  </tbody>\n",
       "</table>\n",
       "</div>"
      ],
      "text/plain": [
       "   index    target\n",
       "0  16834  0.494894\n",
       "1  15437  0.133882\n",
       "2   8549  0.877003\n",
       "3   7222  0.813989\n",
       "4  17054  0.701272"
      ]
     },
     "execution_count": 3,
     "metadata": {},
     "output_type": "execute_result"
    }
   ],
   "source": [
    "ss.head()"
   ]
  },
  {
   "cell_type": "code",
   "execution_count": 4,
   "id": "b24030b4",
   "metadata": {
    "execution": {
     "iopub.execute_input": "2022-03-13T17:39:06.623657Z",
     "iopub.status.busy": "2022-03-13T17:39:06.622368Z",
     "iopub.status.idle": "2022-03-13T17:39:06.626953Z",
     "shell.execute_reply": "2022-03-13T17:39:06.626402Z"
    },
    "papermill": {
     "duration": 0.189903,
     "end_time": "2022-03-13T17:39:06.627095",
     "exception": false,
     "start_time": "2022-03-13T17:39:06.437192",
     "status": "completed"
    },
    "tags": []
   },
   "outputs": [
    {
     "data": {
      "text/html": [
       "<div>\n",
       "<style scoped>\n",
       "    .dataframe tbody tr th:only-of-type {\n",
       "        vertical-align: middle;\n",
       "    }\n",
       "\n",
       "    .dataframe tbody tr th {\n",
       "        vertical-align: top;\n",
       "    }\n",
       "\n",
       "    .dataframe thead th {\n",
       "        text-align: right;\n",
       "    }\n",
       "</style>\n",
       "<table border=\"1\" class=\"dataframe\">\n",
       "  <thead>\n",
       "    <tr style=\"text-align: right;\">\n",
       "      <th></th>\n",
       "      <th>index</th>\n",
       "      <th>city</th>\n",
       "      <th>city_development_index</th>\n",
       "      <th>gender</th>\n",
       "      <th>relevent_experience</th>\n",
       "      <th>enrolled_university</th>\n",
       "      <th>education_level</th>\n",
       "      <th>major_discipline</th>\n",
       "      <th>experience</th>\n",
       "      <th>company_size</th>\n",
       "      <th>company_type</th>\n",
       "      <th>last_new_job</th>\n",
       "      <th>training_hours</th>\n",
       "    </tr>\n",
       "  </thead>\n",
       "  <tbody>\n",
       "    <tr>\n",
       "      <th>0</th>\n",
       "      <td>17007</td>\n",
       "      <td>city_61</td>\n",
       "      <td>0.913</td>\n",
       "      <td>Male</td>\n",
       "      <td>Has relevent experience</td>\n",
       "      <td>no_enrollment</td>\n",
       "      <td>Masters</td>\n",
       "      <td>STEM</td>\n",
       "      <td>4</td>\n",
       "      <td>100-500</td>\n",
       "      <td>NGO</td>\n",
       "      <td>1</td>\n",
       "      <td>22</td>\n",
       "    </tr>\n",
       "    <tr>\n",
       "      <th>1</th>\n",
       "      <td>631</td>\n",
       "      <td>city_94</td>\n",
       "      <td>0.698</td>\n",
       "      <td>Male</td>\n",
       "      <td>Has relevent experience</td>\n",
       "      <td>NaN</td>\n",
       "      <td>High School</td>\n",
       "      <td>NaN</td>\n",
       "      <td>3</td>\n",
       "      <td>NaN</td>\n",
       "      <td>NaN</td>\n",
       "      <td>1</td>\n",
       "      <td>22</td>\n",
       "    </tr>\n",
       "    <tr>\n",
       "      <th>2</th>\n",
       "      <td>669</td>\n",
       "      <td>city_114</td>\n",
       "      <td>0.926</td>\n",
       "      <td>NaN</td>\n",
       "      <td>Has relevent experience</td>\n",
       "      <td>Full time course</td>\n",
       "      <td>Masters</td>\n",
       "      <td>STEM</td>\n",
       "      <td>9</td>\n",
       "      <td>50-99</td>\n",
       "      <td>Pvt Ltd</td>\n",
       "      <td>1</td>\n",
       "      <td>88</td>\n",
       "    </tr>\n",
       "    <tr>\n",
       "      <th>3</th>\n",
       "      <td>8949</td>\n",
       "      <td>city_114</td>\n",
       "      <td>0.926</td>\n",
       "      <td>Male</td>\n",
       "      <td>No relevent experience</td>\n",
       "      <td>Full time course</td>\n",
       "      <td>Graduate</td>\n",
       "      <td>STEM</td>\n",
       "      <td>14</td>\n",
       "      <td>NaN</td>\n",
       "      <td>NaN</td>\n",
       "      <td>4</td>\n",
       "      <td>91</td>\n",
       "    </tr>\n",
       "    <tr>\n",
       "      <th>4</th>\n",
       "      <td>2341</td>\n",
       "      <td>city_16</td>\n",
       "      <td>0.910</td>\n",
       "      <td>NaN</td>\n",
       "      <td>Has relevent experience</td>\n",
       "      <td>no_enrollment</td>\n",
       "      <td>Graduate</td>\n",
       "      <td>STEM</td>\n",
       "      <td>1</td>\n",
       "      <td>5000-9999</td>\n",
       "      <td>Pvt Ltd</td>\n",
       "      <td>1</td>\n",
       "      <td>92</td>\n",
       "    </tr>\n",
       "  </tbody>\n",
       "</table>\n",
       "</div>"
      ],
      "text/plain": [
       "   index      city  city_development_index gender      relevent_experience  \\\n",
       "0  17007   city_61                   0.913   Male  Has relevent experience   \n",
       "1    631   city_94                   0.698   Male  Has relevent experience   \n",
       "2    669  city_114                   0.926    NaN  Has relevent experience   \n",
       "3   8949  city_114                   0.926   Male   No relevent experience   \n",
       "4   2341   city_16                   0.910    NaN  Has relevent experience   \n",
       "\n",
       "  enrolled_university education_level major_discipline experience  \\\n",
       "0       no_enrollment         Masters             STEM          4   \n",
       "1                 NaN     High School              NaN          3   \n",
       "2    Full time course         Masters             STEM          9   \n",
       "3    Full time course        Graduate             STEM         14   \n",
       "4       no_enrollment        Graduate             STEM          1   \n",
       "\n",
       "  company_size company_type last_new_job  training_hours  \n",
       "0      100-500          NGO            1              22  \n",
       "1          NaN          NaN            1              22  \n",
       "2        50-99      Pvt Ltd            1              88  \n",
       "3          NaN          NaN            4              91  \n",
       "4    5000-9999      Pvt Ltd            1              92  "
      ]
     },
     "execution_count": 4,
     "metadata": {},
     "output_type": "execute_result"
    }
   ],
   "source": [
    "train_features.head()"
   ]
  },
  {
   "cell_type": "markdown",
   "id": "01fb87b8",
   "metadata": {
    "papermill": {
     "duration": 0.159317,
     "end_time": "2022-03-13T17:39:06.953511",
     "exception": false,
     "start_time": "2022-03-13T17:39:06.794194",
     "status": "completed"
    },
    "tags": []
   },
   "source": [
    "# Summarize the dataset\n",
    "**a. Number of columns and rows present**"
   ]
  },
  {
   "cell_type": "code",
   "execution_count": 5,
   "id": "84e235dc",
   "metadata": {
    "execution": {
     "iopub.execute_input": "2022-03-13T17:39:07.289948Z",
     "iopub.status.busy": "2022-03-13T17:39:07.288796Z",
     "iopub.status.idle": "2022-03-13T17:39:07.292617Z",
     "shell.execute_reply": "2022-03-13T17:39:07.293183Z"
    },
    "papermill": {
     "duration": 0.176535,
     "end_time": "2022-03-13T17:39:07.293371",
     "exception": false,
     "start_time": "2022-03-13T17:39:07.116836",
     "status": "completed"
    },
    "tags": []
   },
   "outputs": [
    {
     "data": {
      "text/plain": [
       "(14368, 13)"
      ]
     },
     "execution_count": 5,
     "metadata": {},
     "output_type": "execute_result"
    }
   ],
   "source": [
    "train_features.shape"
   ]
  },
  {
   "cell_type": "code",
   "execution_count": 6,
   "id": "a2ec2b57",
   "metadata": {
    "execution": {
     "iopub.execute_input": "2022-03-13T17:39:07.620575Z",
     "iopub.status.busy": "2022-03-13T17:39:07.619593Z",
     "iopub.status.idle": "2022-03-13T17:39:07.623042Z",
     "shell.execute_reply": "2022-03-13T17:39:07.623531Z"
    },
    "papermill": {
     "duration": 0.170596,
     "end_time": "2022-03-13T17:39:07.623736",
     "exception": false,
     "start_time": "2022-03-13T17:39:07.453140",
     "status": "completed"
    },
    "tags": []
   },
   "outputs": [
    {
     "data": {
      "text/plain": [
       "(4790, 13)"
      ]
     },
     "execution_count": 6,
     "metadata": {},
     "output_type": "execute_result"
    }
   ],
   "source": [
    "test_features.shape"
   ]
  },
  {
   "cell_type": "markdown",
   "id": "0f1ca097",
   "metadata": {
    "papermill": {
     "duration": 0.162636,
     "end_time": "2022-03-13T17:39:07.948016",
     "exception": false,
     "start_time": "2022-03-13T17:39:07.785380",
     "status": "completed"
    },
    "tags": []
   },
   "source": [
    "There are 14368 Rows and 13 Columns"
   ]
  },
  {
   "cell_type": "markdown",
   "id": "7f4c4789",
   "metadata": {
    "papermill": {
     "duration": 0.163556,
     "end_time": "2022-03-13T17:39:08.275581",
     "exception": false,
     "start_time": "2022-03-13T17:39:08.112025",
     "status": "completed"
    },
    "tags": []
   },
   "source": [
    "**Min, max, avg, std dev etc. stats for continuous features**"
   ]
  },
  {
   "cell_type": "code",
   "execution_count": 7,
   "id": "3d426d21",
   "metadata": {
    "execution": {
     "iopub.execute_input": "2022-03-13T17:39:08.616927Z",
     "iopub.status.busy": "2022-03-13T17:39:08.616205Z",
     "iopub.status.idle": "2022-03-13T17:39:08.634429Z",
     "shell.execute_reply": "2022-03-13T17:39:08.633730Z"
    },
    "papermill": {
     "duration": 0.198599,
     "end_time": "2022-03-13T17:39:08.634575",
     "exception": false,
     "start_time": "2022-03-13T17:39:08.435976",
     "status": "completed"
    },
    "tags": []
   },
   "outputs": [
    {
     "data": {
      "text/html": [
       "<div>\n",
       "<style scoped>\n",
       "    .dataframe tbody tr th:only-of-type {\n",
       "        vertical-align: middle;\n",
       "    }\n",
       "\n",
       "    .dataframe tbody tr th {\n",
       "        vertical-align: top;\n",
       "    }\n",
       "\n",
       "    .dataframe thead th {\n",
       "        text-align: right;\n",
       "    }\n",
       "</style>\n",
       "<table border=\"1\" class=\"dataframe\">\n",
       "  <thead>\n",
       "    <tr style=\"text-align: right;\">\n",
       "      <th></th>\n",
       "      <th>city_development_index</th>\n",
       "      <th>training_hours</th>\n",
       "    </tr>\n",
       "  </thead>\n",
       "  <tbody>\n",
       "    <tr>\n",
       "      <th>count</th>\n",
       "      <td>14368.000000</td>\n",
       "      <td>14368.000000</td>\n",
       "    </tr>\n",
       "    <tr>\n",
       "      <th>mean</th>\n",
       "      <td>0.828252</td>\n",
       "      <td>65.396645</td>\n",
       "    </tr>\n",
       "    <tr>\n",
       "      <th>std</th>\n",
       "      <td>0.123419</td>\n",
       "      <td>60.277583</td>\n",
       "    </tr>\n",
       "    <tr>\n",
       "      <th>min</th>\n",
       "      <td>0.448000</td>\n",
       "      <td>1.000000</td>\n",
       "    </tr>\n",
       "    <tr>\n",
       "      <th>25%</th>\n",
       "      <td>0.738000</td>\n",
       "      <td>23.000000</td>\n",
       "    </tr>\n",
       "    <tr>\n",
       "      <th>50%</th>\n",
       "      <td>0.899000</td>\n",
       "      <td>47.000000</td>\n",
       "    </tr>\n",
       "    <tr>\n",
       "      <th>75%</th>\n",
       "      <td>0.920000</td>\n",
       "      <td>88.000000</td>\n",
       "    </tr>\n",
       "    <tr>\n",
       "      <th>max</th>\n",
       "      <td>0.949000</td>\n",
       "      <td>336.000000</td>\n",
       "    </tr>\n",
       "  </tbody>\n",
       "</table>\n",
       "</div>"
      ],
      "text/plain": [
       "       city_development_index  training_hours\n",
       "count            14368.000000    14368.000000\n",
       "mean                 0.828252       65.396645\n",
       "std                  0.123419       60.277583\n",
       "min                  0.448000        1.000000\n",
       "25%                  0.738000       23.000000\n",
       "50%                  0.899000       47.000000\n",
       "75%                  0.920000       88.000000\n",
       "max                  0.949000      336.000000"
      ]
     },
     "execution_count": 7,
     "metadata": {},
     "output_type": "execute_result"
    }
   ],
   "source": [
    "train_features.iloc[:,1:].describe()"
   ]
  },
  {
   "cell_type": "markdown",
   "id": "c3b1ba5b",
   "metadata": {
    "papermill": {
     "duration": 0.162899,
     "end_time": "2022-03-13T17:39:08.960303",
     "exception": false,
     "start_time": "2022-03-13T17:39:08.797404",
     "status": "completed"
    },
    "tags": []
   },
   "source": [
    "Above we found the details for each column after the index column"
   ]
  },
  {
   "cell_type": "markdown",
   "id": "2be8aa56",
   "metadata": {
    "papermill": {
     "duration": 0.164752,
     "end_time": "2022-03-13T17:39:09.287973",
     "exception": false,
     "start_time": "2022-03-13T17:39:09.123221",
     "status": "completed"
    },
    "tags": []
   },
   "source": [
    "**Number of unique values for categorical features**"
   ]
  },
  {
   "cell_type": "code",
   "execution_count": 8,
   "id": "310749c7",
   "metadata": {
    "execution": {
     "iopub.execute_input": "2022-03-13T17:39:09.623612Z",
     "iopub.status.busy": "2022-03-13T17:39:09.621321Z",
     "iopub.status.idle": "2022-03-13T17:39:09.646119Z",
     "shell.execute_reply": "2022-03-13T17:39:09.645402Z"
    },
    "papermill": {
     "duration": 0.193046,
     "end_time": "2022-03-13T17:39:09.646295",
     "exception": false,
     "start_time": "2022-03-13T17:39:09.453249",
     "status": "completed"
    },
    "tags": []
   },
   "outputs": [
    {
     "data": {
      "text/plain": [
       "index                     14368\n",
       "city                        123\n",
       "city_development_index       93\n",
       "gender                        3\n",
       "relevent_experience           2\n",
       "enrolled_university           3\n",
       "education_level               5\n",
       "major_discipline              6\n",
       "experience                   22\n",
       "company_size                  8\n",
       "company_type                  6\n",
       "last_new_job                  6\n",
       "training_hours              241\n",
       "dtype: int64"
      ]
     },
     "execution_count": 8,
     "metadata": {},
     "output_type": "execute_result"
    }
   ],
   "source": [
    "train_features.nunique()"
   ]
  },
  {
   "cell_type": "markdown",
   "id": "4a699eb6",
   "metadata": {
    "papermill": {
     "duration": 0.162865,
     "end_time": "2022-03-13T17:39:09.975939",
     "exception": false,
     "start_time": "2022-03-13T17:39:09.813074",
     "status": "completed"
    },
    "tags": []
   },
   "source": [
    "Above we found the number of unique features for each columns"
   ]
  },
  {
   "cell_type": "markdown",
   "id": "8f5ae099",
   "metadata": {
    "papermill": {
     "duration": 0.160909,
     "end_time": "2022-03-13T17:39:10.298984",
     "exception": false,
     "start_time": "2022-03-13T17:39:10.138075",
     "status": "completed"
    },
    "tags": []
   },
   "source": [
    "**Number of nulls and Nans in each column**"
   ]
  },
  {
   "cell_type": "code",
   "execution_count": 9,
   "id": "536317bf",
   "metadata": {
    "execution": {
     "iopub.execute_input": "2022-03-13T17:39:10.629975Z",
     "iopub.status.busy": "2022-03-13T17:39:10.629186Z",
     "iopub.status.idle": "2022-03-13T17:39:10.650581Z",
     "shell.execute_reply": "2022-03-13T17:39:10.651216Z"
    },
    "papermill": {
     "duration": 0.188153,
     "end_time": "2022-03-13T17:39:10.651397",
     "exception": false,
     "start_time": "2022-03-13T17:39:10.463244",
     "status": "completed"
    },
    "tags": []
   },
   "outputs": [
    {
     "data": {
      "text/plain": [
       "index                        0\n",
       "city                         0\n",
       "city_development_index       0\n",
       "gender                    3393\n",
       "relevent_experience          0\n",
       "enrolled_university        292\n",
       "education_level            338\n",
       "major_discipline          2089\n",
       "experience                  45\n",
       "company_size              4430\n",
       "company_type              4598\n",
       "last_new_job               327\n",
       "training_hours               0\n",
       "dtype: int64"
      ]
     },
     "execution_count": 9,
     "metadata": {},
     "output_type": "execute_result"
    }
   ],
   "source": [
    "train_features.isnull().sum()"
   ]
  },
  {
   "cell_type": "markdown",
   "id": "b40f9807",
   "metadata": {
    "papermill": {
     "duration": 0.169154,
     "end_time": "2022-03-13T17:39:10.983395",
     "exception": false,
     "start_time": "2022-03-13T17:39:10.814241",
     "status": "completed"
    },
    "tags": []
   },
   "source": [
    "Above we have the number of NULL values in each column."
   ]
  },
  {
   "cell_type": "markdown",
   "id": "04477076",
   "metadata": {
    "papermill": {
     "duration": 0.176107,
     "end_time": "2022-03-13T17:39:11.339702",
     "exception": false,
     "start_time": "2022-03-13T17:39:11.163595",
     "status": "completed"
    },
    "tags": []
   },
   "source": [
    "**Visualize distribution of each feature using graphs**"
   ]
  },
  {
   "cell_type": "code",
   "execution_count": 10,
   "id": "cdcc9be9",
   "metadata": {
    "execution": {
     "iopub.execute_input": "2022-03-13T17:39:11.681620Z",
     "iopub.status.busy": "2022-03-13T17:39:11.680953Z",
     "iopub.status.idle": "2022-03-13T17:39:11.712153Z",
     "shell.execute_reply": "2022-03-13T17:39:11.713295Z"
    },
    "papermill": {
     "duration": 0.201777,
     "end_time": "2022-03-13T17:39:11.713526",
     "exception": false,
     "start_time": "2022-03-13T17:39:11.511749",
     "status": "completed"
    },
    "tags": []
   },
   "outputs": [
    {
     "name": "stdout",
     "output_type": "stream",
     "text": [
      "<class 'pandas.core.frame.DataFrame'>\n",
      "RangeIndex: 14368 entries, 0 to 14367\n",
      "Data columns (total 13 columns):\n",
      " #   Column                  Non-Null Count  Dtype  \n",
      "---  ------                  --------------  -----  \n",
      " 0   index                   14368 non-null  int64  \n",
      " 1   city                    14368 non-null  object \n",
      " 2   city_development_index  14368 non-null  float64\n",
      " 3   gender                  10975 non-null  object \n",
      " 4   relevent_experience     14368 non-null  object \n",
      " 5   enrolled_university     14076 non-null  object \n",
      " 6   education_level         14030 non-null  object \n",
      " 7   major_discipline        12279 non-null  object \n",
      " 8   experience              14323 non-null  object \n",
      " 9   company_size            9938 non-null   object \n",
      " 10  company_type            9770 non-null   object \n",
      " 11  last_new_job            14041 non-null  object \n",
      " 12  training_hours          14368 non-null  int64  \n",
      "dtypes: float64(1), int64(2), object(10)\n",
      "memory usage: 1.4+ MB\n"
     ]
    }
   ],
   "source": [
    "train_features.info()"
   ]
  },
  {
   "cell_type": "markdown",
   "id": "38ef212d",
   "metadata": {
    "papermill": {
     "duration": 0.163675,
     "end_time": "2022-03-13T17:39:12.046261",
     "exception": false,
     "start_time": "2022-03-13T17:39:11.882586",
     "status": "completed"
    },
    "tags": []
   },
   "source": [
    "**Distribution of Categorical Data**"
   ]
  },
  {
   "cell_type": "code",
   "execution_count": 11,
   "id": "17bd2693",
   "metadata": {
    "execution": {
     "iopub.execute_input": "2022-03-13T17:39:12.391506Z",
     "iopub.status.busy": "2022-03-13T17:39:12.390701Z",
     "iopub.status.idle": "2022-03-13T17:39:12.472242Z",
     "shell.execute_reply": "2022-03-13T17:39:12.471270Z"
    },
    "papermill": {
     "duration": 0.257961,
     "end_time": "2022-03-13T17:39:12.472499",
     "exception": false,
     "start_time": "2022-03-13T17:39:12.214538",
     "status": "completed"
    },
    "tags": []
   },
   "outputs": [
    {
     "data": {
      "text/html": [
       "<div>\n",
       "<style scoped>\n",
       "    .dataframe tbody tr th:only-of-type {\n",
       "        vertical-align: middle;\n",
       "    }\n",
       "\n",
       "    .dataframe tbody tr th {\n",
       "        vertical-align: top;\n",
       "    }\n",
       "\n",
       "    .dataframe thead th {\n",
       "        text-align: right;\n",
       "    }\n",
       "</style>\n",
       "<table border=\"1\" class=\"dataframe\">\n",
       "  <thead>\n",
       "    <tr style=\"text-align: right;\">\n",
       "      <th></th>\n",
       "      <th>city</th>\n",
       "      <th>gender</th>\n",
       "      <th>relevent_experience</th>\n",
       "      <th>enrolled_university</th>\n",
       "      <th>education_level</th>\n",
       "      <th>major_discipline</th>\n",
       "      <th>experience</th>\n",
       "      <th>company_size</th>\n",
       "      <th>company_type</th>\n",
       "      <th>last_new_job</th>\n",
       "    </tr>\n",
       "  </thead>\n",
       "  <tbody>\n",
       "    <tr>\n",
       "      <th>count</th>\n",
       "      <td>14368</td>\n",
       "      <td>10975</td>\n",
       "      <td>14368</td>\n",
       "      <td>14076</td>\n",
       "      <td>14030</td>\n",
       "      <td>12279</td>\n",
       "      <td>14323</td>\n",
       "      <td>9938</td>\n",
       "      <td>9770</td>\n",
       "      <td>14041</td>\n",
       "    </tr>\n",
       "    <tr>\n",
       "      <th>unique</th>\n",
       "      <td>123</td>\n",
       "      <td>3</td>\n",
       "      <td>2</td>\n",
       "      <td>3</td>\n",
       "      <td>5</td>\n",
       "      <td>6</td>\n",
       "      <td>22</td>\n",
       "      <td>8</td>\n",
       "      <td>6</td>\n",
       "      <td>6</td>\n",
       "    </tr>\n",
       "    <tr>\n",
       "      <th>top</th>\n",
       "      <td>city_103</td>\n",
       "      <td>Male</td>\n",
       "      <td>Has relevent experience</td>\n",
       "      <td>no_enrollment</td>\n",
       "      <td>Graduate</td>\n",
       "      <td>STEM</td>\n",
       "      <td>&gt;20</td>\n",
       "      <td>50-99</td>\n",
       "      <td>Pvt Ltd</td>\n",
       "      <td>1</td>\n",
       "    </tr>\n",
       "    <tr>\n",
       "      <th>freq</th>\n",
       "      <td>3229</td>\n",
       "      <td>9914</td>\n",
       "      <td>10385</td>\n",
       "      <td>10366</td>\n",
       "      <td>8679</td>\n",
       "      <td>10925</td>\n",
       "      <td>2425</td>\n",
       "      <td>2301</td>\n",
       "      <td>7410</td>\n",
       "      <td>6020</td>\n",
       "    </tr>\n",
       "  </tbody>\n",
       "</table>\n",
       "</div>"
      ],
      "text/plain": [
       "            city gender      relevent_experience enrolled_university  \\\n",
       "count      14368  10975                    14368               14076   \n",
       "unique       123      3                        2                   3   \n",
       "top     city_103   Male  Has relevent experience       no_enrollment   \n",
       "freq        3229   9914                    10385               10366   \n",
       "\n",
       "       education_level major_discipline experience company_size company_type  \\\n",
       "count            14030            12279      14323         9938         9770   \n",
       "unique               5                6         22            8            6   \n",
       "top           Graduate             STEM        >20        50-99      Pvt Ltd   \n",
       "freq              8679            10925       2425         2301         7410   \n",
       "\n",
       "       last_new_job  \n",
       "count         14041  \n",
       "unique            6  \n",
       "top               1  \n",
       "freq           6020  "
      ]
     },
     "execution_count": 11,
     "metadata": {},
     "output_type": "execute_result"
    }
   ],
   "source": [
    "train_features.describe(include=['O'])"
   ]
  },
  {
   "cell_type": "code",
   "execution_count": 12,
   "id": "9a626f64",
   "metadata": {
    "execution": {
     "iopub.execute_input": "2022-03-13T17:39:12.817127Z",
     "iopub.status.busy": "2022-03-13T17:39:12.816329Z",
     "iopub.status.idle": "2022-03-13T17:39:12.821017Z",
     "shell.execute_reply": "2022-03-13T17:39:12.821617Z"
    },
    "papermill": {
     "duration": 0.178951,
     "end_time": "2022-03-13T17:39:12.821847",
     "exception": false,
     "start_time": "2022-03-13T17:39:12.642896",
     "status": "completed"
    },
    "tags": []
   },
   "outputs": [],
   "source": [
    "categorical_variable = [\"gender\",\"relevent_experience\",\"enrolled_university\",\"education_level\",\"major_discipline\",\"experience\",\"company_size\",\"company_type\",\"last_new_job\"]"
   ]
  },
  {
   "cell_type": "code",
   "execution_count": 13,
   "id": "9efbc2cf",
   "metadata": {
    "execution": {
     "iopub.execute_input": "2022-03-13T17:39:13.231614Z",
     "iopub.status.busy": "2022-03-13T17:39:13.230422Z",
     "iopub.status.idle": "2022-03-13T17:39:13.232397Z",
     "shell.execute_reply": "2022-03-13T17:39:13.232981Z"
    },
    "papermill": {
     "duration": 0.220765,
     "end_time": "2022-03-13T17:39:13.233165",
     "exception": false,
     "start_time": "2022-03-13T17:39:13.012400",
     "status": "completed"
    },
    "tags": []
   },
   "outputs": [],
   "source": [
    "def categorical_plot(v):\n",
    "    feat = train_features[v]\n",
    "    feat_count = feat.value_counts()\n",
    "    plt.figure(figsize = (9,3))\n",
    "    plt.bar(feat_count.index,feat_count)\n",
    "    plt.xticks(feat_count.index,feat_count.index.values)\n",
    "    plt.ylabel(\"Frequency\")\n",
    "    plt.title(v)\n",
    "    plt.show()"
   ]
  },
  {
   "cell_type": "code",
   "execution_count": 14,
   "id": "f54c0564",
   "metadata": {
    "execution": {
     "iopub.execute_input": "2022-03-13T17:39:13.601473Z",
     "iopub.status.busy": "2022-03-13T17:39:13.600787Z",
     "iopub.status.idle": "2022-03-13T17:39:15.390363Z",
     "shell.execute_reply": "2022-03-13T17:39:15.389573Z"
    },
    "papermill": {
     "duration": 1.969314,
     "end_time": "2022-03-13T17:39:15.390516",
     "exception": false,
     "start_time": "2022-03-13T17:39:13.421202",
     "status": "completed"
    },
    "tags": []
   },
   "outputs": [
    {
     "data": {
      "image/png": "[encoded data removed]",
      "text/plain": [
       "<Figure size 648x216 with 1 Axes>"
      ]
     },
     "metadata": {
      "needs_background": "light"
     },
     "output_type": "display_data"
    },
    {
     "data": {
      "image/png": "[encoded data removed]",
      "text/plain": [
       "<Figure size 648x216 with 1 Axes>"
      ]
     },
     "metadata": {
      "needs_background": "light"
     },
     "output_type": "display_data"
    },
    {
     "data": {
      "image/png": "[encoded data removed]",
      "text/plain": [
       "<Figure size 648x216 with 1 Axes>"
      ]
     },
     "metadata": {
      "needs_background": "light"
     },
     "output_type": "display_data"
    },
    {
     "data": {
      "image/png": "[encoded data removed]",
      "text/plain": [
       "<Figure size 648x216 with 1 Axes>"
      ]
     },
     "metadata": {
      "needs_background": "light"
     },
     "output_type": "display_data"
    },
    {
     "data": {
      "image/png": "[encoded data removed]",
      "text/plain": [
       "<Figure size 648x216 with 1 Axes>"
      ]
     },
     "metadata": {
      "needs_background": "light"
     },
     "output_type": "display_data"
    },
    {
     "data": {
      "image/png": "[encoded data removed]",
      "text/plain": [
       "<Figure size 648x216 with 1 Axes>"
      ]
     },
     "metadata": {
      "needs_background": "light"
     },
     "output_type": "display_data"
    },
    {
     "data": {
      "image/png": "[encoded data removed]",
      "text/plain": [
       "<Figure size 648x216 with 1 Axes>"
      ]
     },
     "metadata": {
      "needs_background": "light"
     },
     "output_type": "display_data"
    },
    {
     "data": {
      "image/png": "[encoded data removed]",
      "text/plain": [
       "<Figure size 648x216 with 1 Axes>"
      ]
     },
     "metadata": {
      "needs_background": "light"
     },
     "output_type": "display_data"
    },
    {
     "data": {
      "image/png": "[encoded data removed]",
      "text/plain": [
       "<Figure size 648x216 with 1 Axes>"
      ]
     },
     "metadata": {
      "needs_background": "light"
     },
     "output_type": "display_data"
    }
   ],
   "source": [
    "for i in categorical_variable:\n",
    "    categorical_plot(i)"
   ]
  },
  {
   "cell_type": "markdown",
   "id": "318454e9",
   "metadata": {
    "papermill": {
     "duration": 0.172869,
     "end_time": "2022-03-13T17:39:15.735812",
     "exception": false,
     "start_time": "2022-03-13T17:39:15.562943",
     "status": "completed"
    },
    "tags": []
   },
   "source": [
    "**Distribution of Numeric data**"
   ]
  },
  {
   "cell_type": "code",
   "execution_count": 15,
   "id": "725bb428",
   "metadata": {
    "execution": {
     "iopub.execute_input": "2022-03-13T17:39:16.087796Z",
     "iopub.status.busy": "2022-03-13T17:39:16.087052Z",
     "iopub.status.idle": "2022-03-13T17:39:16.089064Z",
     "shell.execute_reply": "2022-03-13T17:39:16.089793Z"
    },
    "papermill": {
     "duration": 0.181797,
     "end_time": "2022-03-13T17:39:16.089968",
     "exception": false,
     "start_time": "2022-03-13T17:39:15.908171",
     "status": "completed"
    },
    "tags": []
   },
   "outputs": [],
   "source": [
    "def categorical_plot2(v):\n",
    "    feat = test_features[v]\n",
    "    feat_count = feat.value_counts()\n",
    "    plt.figure(figsize = (9,3))\n",
    "    plt.bar(feat_count.index,feat_count)\n",
    "    plt.xticks(feat_count.index,feat_count.index.values)\n",
    "    plt.ylabel(\"Frequency\")\n",
    "    plt.title(v)\n",
    "    plt.show()"
   ]
  },
  {
   "cell_type": "code",
   "execution_count": 16,
   "id": "a3c447f4",
   "metadata": {
    "execution": {
     "iopub.execute_input": "2022-03-13T17:39:16.486937Z",
     "iopub.status.busy": "2022-03-13T17:39:16.464287Z",
     "iopub.status.idle": "2022-03-13T17:39:18.126397Z",
     "shell.execute_reply": "2022-03-13T17:39:18.127082Z"
    },
    "papermill": {
     "duration": 1.864971,
     "end_time": "2022-03-13T17:39:18.127390",
     "exception": false,
     "start_time": "2022-03-13T17:39:16.262419",
     "status": "completed"
    },
    "tags": []
   },
   "outputs": [
    {
     "data": {
      "image/png": "[encoded data removed]",
      "text/plain": [
       "<Figure size 648x216 with 1 Axes>"
      ]
     },
     "metadata": {
      "needs_background": "light"
     },
     "output_type": "display_data"
    },
    {
     "data": {
      "image/png": "[encoded data removed]",
      "text/plain": [
       "<Figure size 648x216 with 1 Axes>"
      ]
     },
     "metadata": {
      "needs_background": "light"
     },
     "output_type": "display_data"
    },
    {
     "data": {
      "image/png": "[encoded data removed]",
      "text/plain": [
       "<Figure size 648x216 with 1 Axes>"
      ]
     },
     "metadata": {
      "needs_background": "light"
     },
     "output_type": "display_data"
    },
    {
     "data": {
      "image/png": "[encoded data removed]",
      "text/plain": [
       "<Figure size 648x216 with 1 Axes>"
      ]
     },
     "metadata": {
      "needs_background": "light"
     },
     "output_type": "display_data"
    },
    {
     "data": {
      "image/png": "[encoded data removed]",
      "text/plain": [
       "<Figure size 648x216 with 1 Axes>"
      ]
     },
     "metadata": {
      "needs_background": "light"
     },
     "output_type": "display_data"
    },
    {
     "data": {
      "image/png": "[encoded data removed]",
      "text/plain": [
       "<Figure size 648x216 with 1 Axes>"
      ]
     },
     "metadata": {
      "needs_background": "light"
     },
     "output_type": "display_data"
    },
    {
     "data": {
      "image/png": "[encoded data removed]",
      "text/plain": [
       "<Figure size 648x216 with 1 Axes>"
      ]
     },
     "metadata": {
      "needs_background": "light"
     },
     "output_type": "display_data"
    },
    {
     "data": {
      "image/png": "[encoded data removed]",
      "text/plain": [
       "<Figure size 648x216 with 1 Axes>"
      ]
     },
     "metadata": {
      "needs_background": "light"
     },
     "output_type": "display_data"
    },
    {
     "data": {
      "image/png": "[encoded data removed]",
      "text/plain": [
       "<Figure size 648x216 with 1 Axes>"
      ]
     },
     "metadata": {
      "needs_background": "light"
     },
     "output_type": "display_data"
    }
   ],
   "source": [
    "for i in categorical_variable:\n",
    "    categorical_plot2(i)"
   ]
  },
  {
   "cell_type": "code",
   "execution_count": 17,
   "id": "2bb34868",
   "metadata": {
    "execution": {
     "iopub.execute_input": "2022-03-13T17:39:18.498298Z",
     "iopub.status.busy": "2022-03-13T17:39:18.497288Z",
     "iopub.status.idle": "2022-03-13T17:39:18.502691Z",
     "shell.execute_reply": "2022-03-13T17:39:18.503170Z"
    },
    "papermill": {
     "duration": 0.19059,
     "end_time": "2022-03-13T17:39:18.503359",
     "exception": false,
     "start_time": "2022-03-13T17:39:18.312769",
     "status": "completed"
    },
    "tags": []
   },
   "outputs": [],
   "source": [
    "def numeric_plot(v):\n",
    "    plt.figure(figsize = (9,3))\n",
    "    plt.hist(train_features[v],bins = 50)\n",
    "    plt.xlabel(v)\n",
    "    plt.ylabel(\"Frequency\")\n",
    "    plt.title(\"{} distribution with hist\".format(v))\n",
    "    plt.show()"
   ]
  },
  {
   "cell_type": "code",
   "execution_count": 18,
   "id": "930fe3f3",
   "metadata": {
    "execution": {
     "iopub.execute_input": "2022-03-13T17:39:18.866746Z",
     "iopub.status.busy": "2022-03-13T17:39:18.865693Z",
     "iopub.status.idle": "2022-03-13T17:39:19.427867Z",
     "shell.execute_reply": "2022-03-13T17:39:19.428368Z"
    },
    "papermill": {
     "duration": 0.746634,
     "end_time": "2022-03-13T17:39:19.428567",
     "exception": false,
     "start_time": "2022-03-13T17:39:18.681933",
     "status": "completed"
    },
    "tags": []
   },
   "outputs": [
    {
     "data": {
      "image/png": "[encoded data removed]",
      "text/plain": [
       "<Figure size 648x216 with 1 Axes>"
      ]
     },
     "metadata": {
      "needs_background": "light"
     },
     "output_type": "display_data"
    },
    {
     "data": {
      "image/png": "[encoded data removed]",
      "text/plain": [
       "<Figure size 648x216 with 1 Axes>"
      ]
     },
     "metadata": {
      "needs_background": "light"
     },
     "output_type": "display_data"
    }
   ],
   "source": [
    "numeric_col = [\"training_hours\",\"city_development_index\"]\n",
    "for i in numeric_col:\n",
    "    numeric_plot(i)"
   ]
  },
  {
   "cell_type": "markdown",
   "id": "f580c0f9",
   "metadata": {
    "papermill": {
     "duration": 0.181711,
     "end_time": "2022-03-13T17:39:19.796740",
     "exception": false,
     "start_time": "2022-03-13T17:39:19.615029",
     "status": "completed"
    },
    "tags": []
   },
   "source": [
    "**Plotting city**"
   ]
  },
  {
   "cell_type": "code",
   "execution_count": 19,
   "id": "97cca6cf",
   "metadata": {
    "execution": {
     "iopub.execute_input": "2022-03-13T17:39:20.194812Z",
     "iopub.status.busy": "2022-03-13T17:39:20.166432Z",
     "iopub.status.idle": "2022-03-13T17:39:20.452399Z",
     "shell.execute_reply": "2022-03-13T17:39:20.451747Z"
    },
    "papermill": {
     "duration": 0.471078,
     "end_time": "2022-03-13T17:39:20.452542",
     "exception": false,
     "start_time": "2022-03-13T17:39:19.981464",
     "status": "completed"
    },
    "tags": []
   },
   "outputs": [
    {
     "data": {
      "text/plain": [
       "<function matplotlib.pyplot.show(close=None, block=None)>"
      ]
     },
     "execution_count": 19,
     "metadata": {},
     "output_type": "execute_result"
    },
    {
     "data": {
      "image/png": "[encoded data removed]",
      "text/plain": [
       "<Figure size 648x216 with 1 Axes>"
      ]
     },
     "metadata": {
      "needs_background": "light"
     },
     "output_type": "display_data"
    }
   ],
   "source": [
    "plt.figure(figsize = (9,3))\n",
    "plt.hist(train_features[\"city\"],bins = 50)\n",
    "plt.ylabel(\"Frequency\")\n",
    "plt.xticks(\"city\", \" \")\n",
    "plt.title(\"{} distribution with hist\".format(\"city\"))\n",
    "plt.show"
   ]
  },
  {
   "cell_type": "markdown",
   "id": "13510d8a",
   "metadata": {
    "papermill": {
     "duration": 0.182291,
     "end_time": "2022-03-13T17:39:20.822798",
     "exception": false,
     "start_time": "2022-03-13T17:39:20.640507",
     "status": "completed"
    },
    "tags": []
   },
   "source": [
    "# **Visualize the relationship of each feature with target variable**"
   ]
  },
  {
   "cell_type": "markdown",
   "id": "59750ed1",
   "metadata": {
    "papermill": {
     "duration": 0.185505,
     "end_time": "2022-03-13T17:39:21.193482",
     "exception": false,
     "start_time": "2022-03-13T17:39:21.007977",
     "status": "completed"
    },
    "tags": []
   },
   "source": [
    "**Adding Class to the train_features**"
   ]
  },
  {
   "cell_type": "code",
   "execution_count": 20,
   "id": "e58b99c5",
   "metadata": {
    "execution": {
     "iopub.execute_input": "2022-03-13T17:39:21.572375Z",
     "iopub.status.busy": "2022-03-13T17:39:21.571363Z",
     "iopub.status.idle": "2022-03-13T17:39:21.591355Z",
     "shell.execute_reply": "2022-03-13T17:39:21.591886Z"
    },
    "papermill": {
     "duration": 0.211976,
     "end_time": "2022-03-13T17:39:21.592078",
     "exception": false,
     "start_time": "2022-03-13T17:39:21.380102",
     "status": "completed"
    },
    "tags": []
   },
   "outputs": [
    {
     "data": {
      "text/html": [
       "<div>\n",
       "<style scoped>\n",
       "    .dataframe tbody tr th:only-of-type {\n",
       "        vertical-align: middle;\n",
       "    }\n",
       "\n",
       "    .dataframe tbody tr th {\n",
       "        vertical-align: top;\n",
       "    }\n",
       "\n",
       "    .dataframe thead th {\n",
       "        text-align: right;\n",
       "    }\n",
       "</style>\n",
       "<table border=\"1\" class=\"dataframe\">\n",
       "  <thead>\n",
       "    <tr style=\"text-align: right;\">\n",
       "      <th></th>\n",
       "      <th>index</th>\n",
       "      <th>city</th>\n",
       "      <th>city_development_index</th>\n",
       "      <th>gender</th>\n",
       "      <th>relevent_experience</th>\n",
       "      <th>enrolled_university</th>\n",
       "      <th>education_level</th>\n",
       "      <th>major_discipline</th>\n",
       "      <th>experience</th>\n",
       "      <th>company_size</th>\n",
       "      <th>company_type</th>\n",
       "      <th>last_new_job</th>\n",
       "      <th>training_hours</th>\n",
       "      <th>target</th>\n",
       "    </tr>\n",
       "  </thead>\n",
       "  <tbody>\n",
       "    <tr>\n",
       "      <th>0</th>\n",
       "      <td>17007</td>\n",
       "      <td>city_61</td>\n",
       "      <td>0.913</td>\n",
       "      <td>Male</td>\n",
       "      <td>Has relevent experience</td>\n",
       "      <td>no_enrollment</td>\n",
       "      <td>Masters</td>\n",
       "      <td>STEM</td>\n",
       "      <td>4</td>\n",
       "      <td>100-500</td>\n",
       "      <td>NGO</td>\n",
       "      <td>1</td>\n",
       "      <td>22</td>\n",
       "      <td>0.0</td>\n",
       "    </tr>\n",
       "    <tr>\n",
       "      <th>1</th>\n",
       "      <td>631</td>\n",
       "      <td>city_94</td>\n",
       "      <td>0.698</td>\n",
       "      <td>Male</td>\n",
       "      <td>Has relevent experience</td>\n",
       "      <td>NaN</td>\n",
       "      <td>High School</td>\n",
       "      <td>NaN</td>\n",
       "      <td>3</td>\n",
       "      <td>NaN</td>\n",
       "      <td>NaN</td>\n",
       "      <td>1</td>\n",
       "      <td>22</td>\n",
       "      <td>1.0</td>\n",
       "    </tr>\n",
       "    <tr>\n",
       "      <th>2</th>\n",
       "      <td>669</td>\n",
       "      <td>city_114</td>\n",
       "      <td>0.926</td>\n",
       "      <td>NaN</td>\n",
       "      <td>Has relevent experience</td>\n",
       "      <td>Full time course</td>\n",
       "      <td>Masters</td>\n",
       "      <td>STEM</td>\n",
       "      <td>9</td>\n",
       "      <td>50-99</td>\n",
       "      <td>Pvt Ltd</td>\n",
       "      <td>1</td>\n",
       "      <td>88</td>\n",
       "      <td>0.0</td>\n",
       "    </tr>\n",
       "    <tr>\n",
       "      <th>3</th>\n",
       "      <td>8949</td>\n",
       "      <td>city_114</td>\n",
       "      <td>0.926</td>\n",
       "      <td>Male</td>\n",
       "      <td>No relevent experience</td>\n",
       "      <td>Full time course</td>\n",
       "      <td>Graduate</td>\n",
       "      <td>STEM</td>\n",
       "      <td>14</td>\n",
       "      <td>NaN</td>\n",
       "      <td>NaN</td>\n",
       "      <td>4</td>\n",
       "      <td>91</td>\n",
       "      <td>0.0</td>\n",
       "    </tr>\n",
       "    <tr>\n",
       "      <th>4</th>\n",
       "      <td>2341</td>\n",
       "      <td>city_16</td>\n",
       "      <td>0.910</td>\n",
       "      <td>NaN</td>\n",
       "      <td>Has relevent experience</td>\n",
       "      <td>no_enrollment</td>\n",
       "      <td>Graduate</td>\n",
       "      <td>STEM</td>\n",
       "      <td>1</td>\n",
       "      <td>5000-9999</td>\n",
       "      <td>Pvt Ltd</td>\n",
       "      <td>1</td>\n",
       "      <td>92</td>\n",
       "      <td>0.0</td>\n",
       "    </tr>\n",
       "  </tbody>\n",
       "</table>\n",
       "</div>"
      ],
      "text/plain": [
       "   index      city  city_development_index gender      relevent_experience  \\\n",
       "0  17007   city_61                   0.913   Male  Has relevent experience   \n",
       "1    631   city_94                   0.698   Male  Has relevent experience   \n",
       "2    669  city_114                   0.926    NaN  Has relevent experience   \n",
       "3   8949  city_114                   0.926   Male   No relevent experience   \n",
       "4   2341   city_16                   0.910    NaN  Has relevent experience   \n",
       "\n",
       "  enrolled_university education_level major_discipline experience  \\\n",
       "0       no_enrollment         Masters             STEM          4   \n",
       "1                 NaN     High School              NaN          3   \n",
       "2    Full time course         Masters             STEM          9   \n",
       "3    Full time course        Graduate             STEM         14   \n",
       "4       no_enrollment        Graduate             STEM          1   \n",
       "\n",
       "  company_size company_type last_new_job  training_hours  target  \n",
       "0      100-500          NGO            1              22     0.0  \n",
       "1          NaN          NaN            1              22     1.0  \n",
       "2        50-99      Pvt Ltd            1              88     0.0  \n",
       "3          NaN          NaN            4              91     0.0  \n",
       "4    5000-9999      Pvt Ltd            1              92     0.0  "
      ]
     },
     "execution_count": 20,
     "metadata": {},
     "output_type": "execute_result"
    }
   ],
   "source": [
    "train_df = pd.concat([train_features, train_output['target']],axis = 1)\n",
    "train_df.head()"
   ]
  },
  {
   "cell_type": "code",
   "execution_count": 21,
   "id": "e6acc692",
   "metadata": {
    "execution": {
     "iopub.execute_input": "2022-03-13T17:39:21.974020Z",
     "iopub.status.busy": "2022-03-13T17:39:21.972983Z",
     "iopub.status.idle": "2022-03-13T17:39:21.978035Z",
     "shell.execute_reply": "2022-03-13T17:39:21.978594Z"
    },
    "papermill": {
     "duration": 0.202548,
     "end_time": "2022-03-13T17:39:21.978805",
     "exception": false,
     "start_time": "2022-03-13T17:39:21.776257",
     "status": "completed"
    },
    "tags": []
   },
   "outputs": [],
   "source": [
    "def target_visual(V):\n",
    "    sns.displot(train_df, x=V, hue='target', kind = \"kde\")\n",
    "    "
   ]
  },
  {
   "cell_type": "code",
   "execution_count": 22,
   "id": "a73ed8eb",
   "metadata": {
    "execution": {
     "iopub.execute_input": "2022-03-13T17:39:22.360622Z",
     "iopub.status.busy": "2022-03-13T17:39:22.359846Z",
     "iopub.status.idle": "2022-03-13T17:39:23.454969Z",
     "shell.execute_reply": "2022-03-13T17:39:23.454208Z"
    },
    "papermill": {
     "duration": 1.285176,
     "end_time": "2022-03-13T17:39:23.455200",
     "exception": false,
     "start_time": "2022-03-13T17:39:22.170024",
     "status": "completed"
    },
    "tags": []
   },
   "outputs": [
    {
     "data": {
      "image/png": "[encoded data removed]",
      "text/plain": [
       "<Figure size 411.875x360 with 1 Axes>"
      ]
     },
     "metadata": {
      "needs_background": "light"
     },
     "output_type": "display_data"
    },
    {
     "data": {
      "image/png": "[encoded data removed]",
      "text/plain": [
       "<Figure size 411.875x360 with 1 Axes>"
      ]
     },
     "metadata": {
      "needs_background": "light"
     },
     "output_type": "display_data"
    }
   ],
   "source": [
    "for i in numeric_col:\n",
    "    target_visual(i)"
   ]
  },
  {
   "cell_type": "markdown",
   "id": "389fc357",
   "metadata": {
    "papermill": {
     "duration": 0.195736,
     "end_time": "2022-03-13T17:39:23.855144",
     "exception": false,
     "start_time": "2022-03-13T17:39:23.659408",
     "status": "completed"
    },
    "tags": []
   },
   "source": [
    "**Observation**\n",
    "0 - no job change\n",
    "1- job change\n",
    "We see that people who have training hours less than 100 dont want to leave, however the most number of people who want to leave have training hours < 50.\n",
    "\n",
    "Also People are more comfortanble with their jobs where the city_development index is high."
   ]
  },
  {
   "cell_type": "markdown",
   "id": "aea59f9b",
   "metadata": {
    "papermill": {
     "duration": 0.189646,
     "end_time": "2022-03-13T17:39:24.234139",
     "exception": false,
     "start_time": "2022-03-13T17:39:24.044493",
     "status": "completed"
    },
    "tags": []
   },
   "source": [
    "**Cross Tab for Categorical Features**"
   ]
  },
  {
   "cell_type": "code",
   "execution_count": 23,
   "id": "30557cb6",
   "metadata": {
    "execution": {
     "iopub.execute_input": "2022-03-13T17:39:24.616785Z",
     "iopub.status.busy": "2022-03-13T17:39:24.616013Z",
     "iopub.status.idle": "2022-03-13T17:39:24.619882Z",
     "shell.execute_reply": "2022-03-13T17:39:24.620450Z"
    },
    "papermill": {
     "duration": 0.197756,
     "end_time": "2022-03-13T17:39:24.620630",
     "exception": false,
     "start_time": "2022-03-13T17:39:24.422874",
     "status": "completed"
    },
    "tags": []
   },
   "outputs": [],
   "source": [
    "def categorical_visual(V):\n",
    "    pd.crosstab(train_df[V], train_df['target']).plot(kind=\"bar\", stacked=\"True\")"
   ]
  },
  {
   "cell_type": "code",
   "execution_count": 24,
   "id": "8e803d9d",
   "metadata": {
    "execution": {
     "iopub.execute_input": "2022-03-13T17:39:25.005276Z",
     "iopub.status.busy": "2022-03-13T17:39:25.002832Z",
     "iopub.status.idle": "2022-03-13T17:39:27.639725Z",
     "shell.execute_reply": "2022-03-13T17:39:27.639041Z"
    },
    "papermill": {
     "duration": 2.830295,
     "end_time": "2022-03-13T17:39:27.639876",
     "exception": false,
     "start_time": "2022-03-13T17:39:24.809581",
     "status": "completed"
    },
    "tags": []
   },
   "outputs": [
    {
     "data": {
      "image/png": "[encoded data removed]",
      "text/plain": [
       "<Figure size 432x288 with 1 Axes>"
      ]
     },
     "metadata": {
      "needs_background": "light"
     },
     "output_type": "display_data"
    },
    {
     "data": {
      "image/png": "[encoded data removed]",
      "text/plain": [
       "<Figure size 432x288 with 1 Axes>"
      ]
     },
     "metadata": {
      "needs_background": "light"
     },
     "output_type": "display_data"
    },
    {
     "data": {
      "image/png": "[encoded data removed]",
      "text/plain": [
       "<Figure size 432x288 with 1 Axes>"
      ]
     },
     "metadata": {
      "needs_background": "light"
     },
     "output_type": "display_data"
    },
    {
     "data": {
      "image/png": "[encoded data removed]",
      "text/plain": [
       "<Figure size 432x288 with 1 Axes>"
      ]
     },
     "metadata": {
      "needs_background": "light"
     },
     "output_type": "display_data"
    },
    {
     "data": {
      "image/png": "[encoded data removed]",
      "text/plain": [
       "<Figure size 432x288 with 1 Axes>"
      ]
     },
     "metadata": {
      "needs_background": "light"
     },
     "output_type": "display_data"
    },
    {
     "data": {
      "image/png": "[encoded data removed]",
      "text/plain": [
       "<Figure size 432x288 with 1 Axes>"
      ]
     },
     "metadata": {
      "needs_background": "light"
     },
     "output_type": "display_data"
    },
    {
     "data": {
      "image/png": "[encoded data removed]",
      "text/plain": [
       "<Figure size 432x288 with 1 Axes>"
      ]
     },
     "metadata": {
      "needs_background": "light"
     },
     "output_type": "display_data"
    },
    {
     "data": {
      "image/png": "[encoded data removed]",
      "text/plain": [
       "<Figure size 432x288 with 1 Axes>"
      ]
     },
     "metadata": {
      "needs_background": "light"
     },
     "output_type": "display_data"
    },
    {
     "data": {
      "image/png": "[encoded data removed]",
      "text/plain": [
       "<Figure size 432x288 with 1 Axes>"
      ]
     },
     "metadata": {
      "needs_background": "light"
     },
     "output_type": "display_data"
    }
   ],
   "source": [
    "for i in categorical_variable:\n",
    "    categorical_visual(i)"
   ]
  },
  {
   "cell_type": "markdown",
   "id": "fa5f1f64",
   "metadata": {
    "papermill": {
     "duration": 0.199519,
     "end_time": "2022-03-13T17:39:28.040755",
     "exception": false,
     "start_time": "2022-03-13T17:39:27.841236",
     "status": "completed"
    },
    "tags": []
   },
   "source": [
    "1) Males gender has a high number of people who want to leave the job.\n",
    "2) There are more people with relevant experience who want to leave than the people with noe experience.\n",
    "3) Graduates have a high number of people who are looking for a job change.\n",
    "4) STEM has high number of people looking for job change.\n",
    "5) Those who got their job in past 1 year are looking for job change."
   ]
  },
  {
   "cell_type": "code",
   "execution_count": 25,
   "id": "b5b764da",
   "metadata": {
    "execution": {
     "iopub.execute_input": "2022-03-13T17:39:28.464344Z",
     "iopub.status.busy": "2022-03-13T17:39:28.463303Z",
     "iopub.status.idle": "2022-03-13T17:39:30.730802Z",
     "shell.execute_reply": "2022-03-13T17:39:30.730090Z"
    },
    "papermill": {
     "duration": 2.482221,
     "end_time": "2022-03-13T17:39:30.730964",
     "exception": false,
     "start_time": "2022-03-13T17:39:28.248743",
     "status": "completed"
    },
    "tags": []
   },
   "outputs": [
    {
     "data": {
      "text/plain": [
       "<AxesSubplot:xlabel='city'>"
      ]
     },
     "execution_count": 25,
     "metadata": {},
     "output_type": "execute_result"
    },
    {
     "data": {
      "image/png": "[encoded data removed]",
      "text/plain": [
       "<Figure size 432x288 with 1 Axes>"
      ]
     },
     "metadata": {
      "needs_background": "light"
     },
     "output_type": "display_data"
    }
   ],
   "source": [
    "pd.crosstab(train_df['city'], train_df['target']).plot(kind=\"bar\", stacked=\"True\")"
   ]
  },
  {
   "cell_type": "markdown",
   "id": "54371044",
   "metadata": {
    "papermill": {
     "duration": 0.19491,
     "end_time": "2022-03-13T17:39:31.125580",
     "exception": false,
     "start_time": "2022-03-13T17:39:30.930670",
     "status": "completed"
    },
    "tags": []
   },
   "source": [
    "# **Handle missing values: Use any three methods to handle missing values.**"
   ]
  },
  {
   "cell_type": "code",
   "execution_count": 26,
   "id": "dff4215d",
   "metadata": {
    "execution": {
     "iopub.execute_input": "2022-03-13T17:39:31.520754Z",
     "iopub.status.busy": "2022-03-13T17:39:31.520081Z",
     "iopub.status.idle": "2022-03-13T17:39:31.548333Z",
     "shell.execute_reply": "2022-03-13T17:39:31.547535Z"
    },
    "papermill": {
     "duration": 0.226844,
     "end_time": "2022-03-13T17:39:31.548489",
     "exception": false,
     "start_time": "2022-03-13T17:39:31.321645",
     "status": "completed"
    },
    "tags": []
   },
   "outputs": [],
   "source": [
    "train_df1 = train_df.copy(deep = True)\n",
    "train_df2 = train_df.copy(deep = True)\n",
    "train_df3 = train_df.copy(deep = True)\n",
    "train_df4 = train_df.copy(deep = True)\n",
    "train_df5 = train_df.copy(deep = True)\n",
    "\n",
    "test_df1 = test_features.copy(deep=True)\n",
    "test_df2 = test_features.copy(deep=True)\n",
    "test_df3 = test_features.copy(deep=True)\n",
    "test_df4 = test_features.copy(deep=True)\n",
    "test_df5 = test_features.copy(deep=True)"
   ]
  },
  {
   "cell_type": "code",
   "execution_count": 27,
   "id": "9138b861",
   "metadata": {
    "execution": {
     "iopub.execute_input": "2022-03-13T17:39:31.952199Z",
     "iopub.status.busy": "2022-03-13T17:39:31.951531Z",
     "iopub.status.idle": "2022-03-13T17:39:31.970613Z",
     "shell.execute_reply": "2022-03-13T17:39:31.970082Z"
    },
    "papermill": {
     "duration": 0.223162,
     "end_time": "2022-03-13T17:39:31.970783",
     "exception": false,
     "start_time": "2022-03-13T17:39:31.747621",
     "status": "completed"
    },
    "tags": []
   },
   "outputs": [
    {
     "data": {
      "text/plain": [
       "14888"
      ]
     },
     "execution_count": 27,
     "metadata": {},
     "output_type": "execute_result"
    }
   ],
   "source": [
    "train_df.nunique().sum()"
   ]
  },
  {
   "cell_type": "code",
   "execution_count": 28,
   "id": "1a5d244e",
   "metadata": {
    "execution": {
     "iopub.execute_input": "2022-03-13T17:39:32.380470Z",
     "iopub.status.busy": "2022-03-13T17:39:32.379120Z",
     "iopub.status.idle": "2022-03-13T17:39:32.383111Z",
     "shell.execute_reply": "2022-03-13T17:39:32.383623Z"
    },
    "papermill": {
     "duration": 0.213995,
     "end_time": "2022-03-13T17:39:32.383805",
     "exception": false,
     "start_time": "2022-03-13T17:39:32.169810",
     "status": "completed"
    },
    "tags": []
   },
   "outputs": [
    {
     "data": {
      "text/plain": [
       "(4790, 13)"
      ]
     },
     "execution_count": 28,
     "metadata": {},
     "output_type": "execute_result"
    }
   ],
   "source": [
    "test_df3.shape"
   ]
  },
  {
   "cell_type": "markdown",
   "id": "9e09d73b",
   "metadata": {
    "papermill": {
     "duration": 0.197687,
     "end_time": "2022-03-13T17:39:32.782836",
     "exception": false,
     "start_time": "2022-03-13T17:39:32.585149",
     "status": "completed"
    },
    "tags": []
   },
   "source": [
    "**1) First way is to drop the rows having null**"
   ]
  },
  {
   "cell_type": "code",
   "execution_count": 29,
   "id": "8d2a5cc3",
   "metadata": {
    "execution": {
     "iopub.execute_input": "2022-03-13T17:39:33.208597Z",
     "iopub.status.busy": "2022-03-13T17:39:33.207542Z",
     "iopub.status.idle": "2022-03-13T17:39:33.221201Z",
     "shell.execute_reply": "2022-03-13T17:39:33.221744Z"
    },
    "papermill": {
     "duration": 0.234839,
     "end_time": "2022-03-13T17:39:33.221936",
     "exception": false,
     "start_time": "2022-03-13T17:39:32.987097",
     "status": "completed"
    },
    "tags": []
   },
   "outputs": [],
   "source": [
    "train_df1.dropna(inplace=True)\n",
    "test_df1.dropna(inplace = True)"
   ]
  },
  {
   "cell_type": "code",
   "execution_count": 30,
   "id": "a3146558",
   "metadata": {
    "execution": {
     "iopub.execute_input": "2022-03-13T17:39:33.641691Z",
     "iopub.status.busy": "2022-03-13T17:39:33.640680Z",
     "iopub.status.idle": "2022-03-13T17:39:33.647608Z",
     "shell.execute_reply": "2022-03-13T17:39:33.648116Z"
    },
    "papermill": {
     "duration": 0.22323,
     "end_time": "2022-03-13T17:39:33.648302",
     "exception": false,
     "start_time": "2022-03-13T17:39:33.425072",
     "status": "completed"
    },
    "tags": []
   },
   "outputs": [
    {
     "data": {
      "text/plain": [
       "index                     0\n",
       "city                      0\n",
       "city_development_index    0\n",
       "gender                    0\n",
       "relevent_experience       0\n",
       "enrolled_university       0\n",
       "education_level           0\n",
       "major_discipline          0\n",
       "experience                0\n",
       "company_size              0\n",
       "company_type              0\n",
       "last_new_job              0\n",
       "training_hours            0\n",
       "target                    0\n",
       "dtype: int64"
      ]
     },
     "execution_count": 30,
     "metadata": {},
     "output_type": "execute_result"
    }
   ],
   "source": [
    "train_df1.isna().sum()"
   ]
  },
  {
   "cell_type": "code",
   "execution_count": 31,
   "id": "6ec0df46",
   "metadata": {
    "execution": {
     "iopub.execute_input": "2022-03-13T17:39:34.059901Z",
     "iopub.status.busy": "2022-03-13T17:39:34.058505Z",
     "iopub.status.idle": "2022-03-13T17:39:34.070395Z",
     "shell.execute_reply": "2022-03-13T17:39:34.070910Z"
    },
    "papermill": {
     "duration": 0.221702,
     "end_time": "2022-03-13T17:39:34.071102",
     "exception": false,
     "start_time": "2022-03-13T17:39:33.849400",
     "status": "completed"
    },
    "tags": []
   },
   "outputs": [
    {
     "data": {
      "text/plain": [
       "index                     0\n",
       "city                      0\n",
       "city_development_index    0\n",
       "gender                    0\n",
       "relevent_experience       0\n",
       "enrolled_university       0\n",
       "education_level           0\n",
       "major_discipline          0\n",
       "experience                0\n",
       "company_size              0\n",
       "company_type              0\n",
       "last_new_job              0\n",
       "training_hours            0\n",
       "dtype: int64"
      ]
     },
     "execution_count": 31,
     "metadata": {},
     "output_type": "execute_result"
    }
   ],
   "source": [
    "test_df1.isna().sum()"
   ]
  },
  {
   "cell_type": "markdown",
   "id": "7997087a",
   "metadata": {
    "papermill": {
     "duration": 0.231818,
     "end_time": "2022-03-13T17:39:34.514047",
     "exception": false,
     "start_time": "2022-03-13T17:39:34.282229",
     "status": "completed"
    },
    "tags": []
   },
   "source": [
    "**2) In second step we can convert the categorical columns to numeric and then replace them with average of that column**"
   ]
  },
  {
   "cell_type": "markdown",
   "id": "81ac0858",
   "metadata": {
    "papermill": {
     "duration": 0.267241,
     "end_time": "2022-03-13T17:39:34.986273",
     "exception": false,
     "start_time": "2022-03-13T17:39:34.719032",
     "status": "completed"
    },
    "tags": []
   },
   "source": [
    "**To convert the categorical columns to numeric we can declare a function, which returns a value for each**"
   ]
  },
  {
   "cell_type": "code",
   "execution_count": 32,
   "id": "91742376",
   "metadata": {
    "execution": {
     "iopub.execute_input": "2022-03-13T17:39:35.408545Z",
     "iopub.status.busy": "2022-03-13T17:39:35.407793Z",
     "iopub.status.idle": "2022-03-13T17:39:35.415368Z",
     "shell.execute_reply": "2022-03-13T17:39:35.415942Z"
    },
    "papermill": {
     "duration": 0.222323,
     "end_time": "2022-03-13T17:39:35.416153",
     "exception": false,
     "start_time": "2022-03-13T17:39:35.193830",
     "status": "completed"
    },
    "tags": []
   },
   "outputs": [
    {
     "data": {
      "text/plain": [
       "{'4': 4,\n",
       " '3': 3,\n",
       " '9': 9,\n",
       " '14': 14,\n",
       " '1': 1,\n",
       " '17': 17,\n",
       " '>20': 21,\n",
       " '12': 12,\n",
       " '11': 11,\n",
       " '13': 13,\n",
       " '20': 20,\n",
       " '7': 7,\n",
       " '6': 6,\n",
       " '15': 15,\n",
       " '8': 8,\n",
       " '19': 19,\n",
       " '2': 2,\n",
       " '10': 10,\n",
       " '5': 5,\n",
       " '16': 16,\n",
       " '<1': 0,\n",
       " '18': 18}"
      ]
     },
     "execution_count": 32,
     "metadata": {},
     "output_type": "execute_result"
    }
   ],
   "source": [
    "all_exp = set()\n",
    "exp_dict = {}\n",
    "def numeric_experience_dict():\n",
    "    k=1\n",
    "    for i in train_df2['experience']:\n",
    "        if i=='>20':\n",
    "            exp_dict[i]= 21\n",
    "            all_exp.add(i)\n",
    "        elif i=='<1':\n",
    "            exp_dict[i]= 0\n",
    "            all_exp.add(i)\n",
    "        elif math.isnan(float(i)):\n",
    "            continue\n",
    "        elif i in all_exp:\n",
    "            continue\n",
    "        else:\n",
    "            exp_dict[i]= int(i)\n",
    "            all_exp.add(i)\n",
    "numeric_experience_dict()\n",
    "\n",
    "#print(train_df2['experience'])\n",
    "\n",
    "exp_dict"
   ]
  },
  {
   "cell_type": "code",
   "execution_count": 33,
   "id": "2053c7bc",
   "metadata": {
    "execution": {
     "iopub.execute_input": "2022-03-13T17:39:35.833360Z",
     "iopub.status.busy": "2022-03-13T17:39:35.832646Z",
     "iopub.status.idle": "2022-03-13T17:39:35.856901Z",
     "shell.execute_reply": "2022-03-13T17:39:35.857441Z"
    },
    "papermill": {
     "duration": 0.235462,
     "end_time": "2022-03-13T17:39:35.857618",
     "exception": false,
     "start_time": "2022-03-13T17:39:35.622156",
     "status": "completed"
    },
    "tags": []
   },
   "outputs": [
    {
     "data": {
      "text/html": [
       "<div>\n",
       "<style scoped>\n",
       "    .dataframe tbody tr th:only-of-type {\n",
       "        vertical-align: middle;\n",
       "    }\n",
       "\n",
       "    .dataframe tbody tr th {\n",
       "        vertical-align: top;\n",
       "    }\n",
       "\n",
       "    .dataframe thead th {\n",
       "        text-align: right;\n",
       "    }\n",
       "</style>\n",
       "<table border=\"1\" class=\"dataframe\">\n",
       "  <thead>\n",
       "    <tr style=\"text-align: right;\">\n",
       "      <th></th>\n",
       "      <th>index</th>\n",
       "      <th>city</th>\n",
       "      <th>city_development_index</th>\n",
       "      <th>gender</th>\n",
       "      <th>relevent_experience</th>\n",
       "      <th>enrolled_university</th>\n",
       "      <th>education_level</th>\n",
       "      <th>major_discipline</th>\n",
       "      <th>experience</th>\n",
       "      <th>company_size</th>\n",
       "      <th>company_type</th>\n",
       "      <th>last_new_job</th>\n",
       "      <th>training_hours</th>\n",
       "      <th>target</th>\n",
       "    </tr>\n",
       "  </thead>\n",
       "  <tbody>\n",
       "    <tr>\n",
       "      <th>0</th>\n",
       "      <td>17007</td>\n",
       "      <td>city_61</td>\n",
       "      <td>0.913</td>\n",
       "      <td>Male</td>\n",
       "      <td>Has relevent experience</td>\n",
       "      <td>no_enrollment</td>\n",
       "      <td>Masters</td>\n",
       "      <td>STEM</td>\n",
       "      <td>4</td>\n",
       "      <td>100-500</td>\n",
       "      <td>NGO</td>\n",
       "      <td>1</td>\n",
       "      <td>22</td>\n",
       "      <td>0.0</td>\n",
       "    </tr>\n",
       "    <tr>\n",
       "      <th>1</th>\n",
       "      <td>631</td>\n",
       "      <td>city_94</td>\n",
       "      <td>0.698</td>\n",
       "      <td>Male</td>\n",
       "      <td>Has relevent experience</td>\n",
       "      <td>NaN</td>\n",
       "      <td>High School</td>\n",
       "      <td>NaN</td>\n",
       "      <td>3</td>\n",
       "      <td>NaN</td>\n",
       "      <td>NaN</td>\n",
       "      <td>1</td>\n",
       "      <td>22</td>\n",
       "      <td>1.0</td>\n",
       "    </tr>\n",
       "    <tr>\n",
       "      <th>2</th>\n",
       "      <td>669</td>\n",
       "      <td>city_114</td>\n",
       "      <td>0.926</td>\n",
       "      <td>NaN</td>\n",
       "      <td>Has relevent experience</td>\n",
       "      <td>Full time course</td>\n",
       "      <td>Masters</td>\n",
       "      <td>STEM</td>\n",
       "      <td>9</td>\n",
       "      <td>50-99</td>\n",
       "      <td>Pvt Ltd</td>\n",
       "      <td>1</td>\n",
       "      <td>88</td>\n",
       "      <td>0.0</td>\n",
       "    </tr>\n",
       "    <tr>\n",
       "      <th>3</th>\n",
       "      <td>8949</td>\n",
       "      <td>city_114</td>\n",
       "      <td>0.926</td>\n",
       "      <td>Male</td>\n",
       "      <td>No relevent experience</td>\n",
       "      <td>Full time course</td>\n",
       "      <td>Graduate</td>\n",
       "      <td>STEM</td>\n",
       "      <td>14</td>\n",
       "      <td>NaN</td>\n",
       "      <td>NaN</td>\n",
       "      <td>4</td>\n",
       "      <td>91</td>\n",
       "      <td>0.0</td>\n",
       "    </tr>\n",
       "    <tr>\n",
       "      <th>4</th>\n",
       "      <td>2341</td>\n",
       "      <td>city_16</td>\n",
       "      <td>0.910</td>\n",
       "      <td>NaN</td>\n",
       "      <td>Has relevent experience</td>\n",
       "      <td>no_enrollment</td>\n",
       "      <td>Graduate</td>\n",
       "      <td>STEM</td>\n",
       "      <td>1</td>\n",
       "      <td>5000-9999</td>\n",
       "      <td>Pvt Ltd</td>\n",
       "      <td>1</td>\n",
       "      <td>92</td>\n",
       "      <td>0.0</td>\n",
       "    </tr>\n",
       "    <tr>\n",
       "      <th>...</th>\n",
       "      <td>...</td>\n",
       "      <td>...</td>\n",
       "      <td>...</td>\n",
       "      <td>...</td>\n",
       "      <td>...</td>\n",
       "      <td>...</td>\n",
       "      <td>...</td>\n",
       "      <td>...</td>\n",
       "      <td>...</td>\n",
       "      <td>...</td>\n",
       "      <td>...</td>\n",
       "      <td>...</td>\n",
       "      <td>...</td>\n",
       "      <td>...</td>\n",
       "    </tr>\n",
       "    <tr>\n",
       "      <th>14363</th>\n",
       "      <td>16304</td>\n",
       "      <td>city_103</td>\n",
       "      <td>0.920</td>\n",
       "      <td>Male</td>\n",
       "      <td>Has relevent experience</td>\n",
       "      <td>no_enrollment</td>\n",
       "      <td>Graduate</td>\n",
       "      <td>STEM</td>\n",
       "      <td>&gt;20</td>\n",
       "      <td>NaN</td>\n",
       "      <td>NaN</td>\n",
       "      <td>&gt;4</td>\n",
       "      <td>157</td>\n",
       "      <td>0.0</td>\n",
       "    </tr>\n",
       "    <tr>\n",
       "      <th>14364</th>\n",
       "      <td>79</td>\n",
       "      <td>city_103</td>\n",
       "      <td>0.920</td>\n",
       "      <td>Female</td>\n",
       "      <td>Has relevent experience</td>\n",
       "      <td>no_enrollment</td>\n",
       "      <td>Masters</td>\n",
       "      <td>STEM</td>\n",
       "      <td>2</td>\n",
       "      <td>&lt;10</td>\n",
       "      <td>Early Stage Startup</td>\n",
       "      <td>1</td>\n",
       "      <td>4</td>\n",
       "      <td>0.0</td>\n",
       "    </tr>\n",
       "    <tr>\n",
       "      <th>14365</th>\n",
       "      <td>12119</td>\n",
       "      <td>city_21</td>\n",
       "      <td>0.624</td>\n",
       "      <td>Male</td>\n",
       "      <td>Has relevent experience</td>\n",
       "      <td>no_enrollment</td>\n",
       "      <td>Masters</td>\n",
       "      <td>STEM</td>\n",
       "      <td>1</td>\n",
       "      <td>50-99</td>\n",
       "      <td>Pvt Ltd</td>\n",
       "      <td>NaN</td>\n",
       "      <td>34</td>\n",
       "      <td>0.0</td>\n",
       "    </tr>\n",
       "    <tr>\n",
       "      <th>14366</th>\n",
       "      <td>14147</td>\n",
       "      <td>city_10</td>\n",
       "      <td>0.895</td>\n",
       "      <td>Male</td>\n",
       "      <td>Has relevent experience</td>\n",
       "      <td>no_enrollment</td>\n",
       "      <td>Masters</td>\n",
       "      <td>STEM</td>\n",
       "      <td>15</td>\n",
       "      <td>100-500</td>\n",
       "      <td>Public Sector</td>\n",
       "      <td>1</td>\n",
       "      <td>4</td>\n",
       "      <td>0.0</td>\n",
       "    </tr>\n",
       "    <tr>\n",
       "      <th>14367</th>\n",
       "      <td>5640</td>\n",
       "      <td>city_103</td>\n",
       "      <td>0.920</td>\n",
       "      <td>Male</td>\n",
       "      <td>Has relevent experience</td>\n",
       "      <td>no_enrollment</td>\n",
       "      <td>Graduate</td>\n",
       "      <td>STEM</td>\n",
       "      <td>16</td>\n",
       "      <td>10000+</td>\n",
       "      <td>Public Sector</td>\n",
       "      <td>&gt;4</td>\n",
       "      <td>17</td>\n",
       "      <td>0.0</td>\n",
       "    </tr>\n",
       "  </tbody>\n",
       "</table>\n",
       "<p>14368 rows × 14 columns</p>\n",
       "</div>"
      ],
      "text/plain": [
       "       index      city  city_development_index  gender  \\\n",
       "0      17007   city_61                   0.913    Male   \n",
       "1        631   city_94                   0.698    Male   \n",
       "2        669  city_114                   0.926     NaN   \n",
       "3       8949  city_114                   0.926    Male   \n",
       "4       2341   city_16                   0.910     NaN   \n",
       "...      ...       ...                     ...     ...   \n",
       "14363  16304  city_103                   0.920    Male   \n",
       "14364     79  city_103                   0.920  Female   \n",
       "14365  12119   city_21                   0.624    Male   \n",
       "14366  14147   city_10                   0.895    Male   \n",
       "14367   5640  city_103                   0.920    Male   \n",
       "\n",
       "           relevent_experience enrolled_university education_level  \\\n",
       "0      Has relevent experience       no_enrollment         Masters   \n",
       "1      Has relevent experience                 NaN     High School   \n",
       "2      Has relevent experience    Full time course         Masters   \n",
       "3       No relevent experience    Full time course        Graduate   \n",
       "4      Has relevent experience       no_enrollment        Graduate   \n",
       "...                        ...                 ...             ...   \n",
       "14363  Has relevent experience       no_enrollment        Graduate   \n",
       "14364  Has relevent experience       no_enrollment         Masters   \n",
       "14365  Has relevent experience       no_enrollment         Masters   \n",
       "14366  Has relevent experience       no_enrollment         Masters   \n",
       "14367  Has relevent experience       no_enrollment        Graduate   \n",
       "\n",
       "      major_discipline experience company_size         company_type  \\\n",
       "0                 STEM          4      100-500                  NGO   \n",
       "1                  NaN          3          NaN                  NaN   \n",
       "2                 STEM          9        50-99              Pvt Ltd   \n",
       "3                 STEM         14          NaN                  NaN   \n",
       "4                 STEM          1    5000-9999              Pvt Ltd   \n",
       "...                ...        ...          ...                  ...   \n",
       "14363             STEM        >20          NaN                  NaN   \n",
       "14364             STEM          2          <10  Early Stage Startup   \n",
       "14365             STEM          1        50-99              Pvt Ltd   \n",
       "14366             STEM         15      100-500        Public Sector   \n",
       "14367             STEM         16       10000+        Public Sector   \n",
       "\n",
       "      last_new_job  training_hours  target  \n",
       "0                1              22     0.0  \n",
       "1                1              22     1.0  \n",
       "2                1              88     0.0  \n",
       "3                4              91     0.0  \n",
       "4                1              92     0.0  \n",
       "...            ...             ...     ...  \n",
       "14363           >4             157     0.0  \n",
       "14364            1               4     0.0  \n",
       "14365          NaN              34     0.0  \n",
       "14366            1               4     0.0  \n",
       "14367           >4              17     0.0  \n",
       "\n",
       "[14368 rows x 14 columns]"
      ]
     },
     "execution_count": 33,
     "metadata": {},
     "output_type": "execute_result"
    }
   ],
   "source": [
    "train_df2"
   ]
  },
  {
   "cell_type": "code",
   "execution_count": 34,
   "id": "1f17b350",
   "metadata": {
    "_kg_hide-output": true,
    "execution": {
     "iopub.execute_input": "2022-03-13T17:39:36.282466Z",
     "iopub.status.busy": "2022-03-13T17:39:36.281690Z",
     "iopub.status.idle": "2022-03-13T17:39:36.292198Z",
     "shell.execute_reply": "2022-03-13T17:39:36.292756Z"
    },
    "papermill": {
     "duration": 0.227952,
     "end_time": "2022-03-13T17:39:36.293075",
     "exception": false,
     "start_time": "2022-03-13T17:39:36.065123",
     "status": "completed"
    },
    "tags": []
   },
   "outputs": [
    {
     "name": "stdout",
     "output_type": "stream",
     "text": [
      "56\n"
     ]
    }
   ],
   "source": [
    "all_city = set()\n",
    "city_dict = {}\n",
    "def numeric_experience_city():\n",
    "    k=1\n",
    "    for i in train_df2['city']:\n",
    "        if i in all_city:\n",
    "            continue\n",
    "        else:\n",
    "            city_dict[i]=k\n",
    "            k+=1\n",
    "            all_city.add(i)\n",
    "numeric_experience_city()\n",
    "print(city_dict['city_104'])"
   ]
  },
  {
   "cell_type": "code",
   "execution_count": 35,
   "id": "390a6666",
   "metadata": {
    "execution": {
     "iopub.execute_input": "2022-03-13T17:39:36.708656Z",
     "iopub.status.busy": "2022-03-13T17:39:36.707622Z",
     "iopub.status.idle": "2022-03-13T17:39:36.723149Z",
     "shell.execute_reply": "2022-03-13T17:39:36.723632Z"
    },
    "papermill": {
     "duration": 0.222651,
     "end_time": "2022-03-13T17:39:36.724018",
     "exception": false,
     "start_time": "2022-03-13T17:39:36.501367",
     "status": "completed"
    },
    "tags": []
   },
   "outputs": [],
   "source": [
    "def numeric_gender(x):\n",
    "    if x=='Female': return 2\n",
    "    if x=='Male':   return 1\n",
    "    if x=='Other':   return 3\n",
    "    \n",
    "def numeric_relevant_experience(x):\n",
    "    if x=='Has relevent experience': return 1\n",
    "    if x=='No relevent experience':   return 0\n",
    "    \n",
    "def numeric_enrollment(x):\n",
    "    if x=='no_enrollment'   : return 1\n",
    "    if x=='Full time course':   return 3 \n",
    "    if x=='Part time course':   return 2\n",
    "    \n",
    "def numeric_education(x):\n",
    "    if x=='Graduate'       :   return 3\n",
    "    if x=='Masters'        :   return 4 \n",
    "    if x=='High School'    :   return 2 \n",
    "    if x=='Phd'            :   return 5 \n",
    "    if x=='Primary School' :   return 1 \n",
    "    \n",
    "def numeric_major(x):\n",
    "    if x=='STEM'                   :   return 1\n",
    "    if x=='Business Degree'        :   return 2 \n",
    "    if x=='Arts'                   :   return 3 \n",
    "    if x=='Humanities'             :   return 4 \n",
    "    if x=='No Major'               :   return 5 \n",
    "    if x=='Other'                  :   return 6 \n",
    "    \n",
    "def numeric_experience(x):\n",
    "    if x=='>20':\n",
    "        return exp_dict[x]\n",
    "    elif x=='<1':\n",
    "        return exp_dict[x]\n",
    "    if math.isnan(float(x)) == False:\n",
    "        return exp_dict[x]\n",
    "\n",
    "def numeric_companytype(x):\n",
    "    if x=='Pvt Ltd'               :   return 1\n",
    "    if x=='Funded Startup'        :   return 2 \n",
    "    if x=='Early Stage Startup'   :   return 3 \n",
    "    if x=='Other'                 :   return 4 \n",
    "    if x=='Public Sector'         :   return 5 \n",
    "    if x=='NGO'                   :   return 6 \n",
    "    \n",
    "def numeric_companysize(x):\n",
    "    if x=='<10'          :   return 1\n",
    "    if x=='10/49'        :   return 2 \n",
    "    if x=='50-99'        :   return 3 \n",
    "    if x=='100-500'      :   return 4 \n",
    "    if x=='500-999'      :   return 5 \n",
    "    if x=='1000-4999'    :   return 6 \n",
    "    if x=='5000-9999'    :   return 7\n",
    "    if x=='10000+'       :   return 8 \n",
    "\n",
    "def numeric_lastjob(x):\n",
    "    if x=='never'        :   return 1\n",
    "    if x=='1'            :   return 2 \n",
    "    if x=='2'            :   return 3 \n",
    "    if x=='3'            :   return 4 \n",
    "    if x=='4'            :   return 5 \n",
    "    if x=='>4'           :   return 6\n",
    "\n",
    "def numeric_city(x):\n",
    "    return city_dict[x]"
   ]
  },
  {
   "cell_type": "markdown",
   "id": "41498b15",
   "metadata": {
    "papermill": {
     "duration": 0.207636,
     "end_time": "2022-03-13T17:39:37.139218",
     "exception": false,
     "start_time": "2022-03-13T17:39:36.931582",
     "status": "completed"
    },
    "tags": []
   },
   "source": [
    "**Use the above funciton to convert the categorical columns to numeric**"
   ]
  },
  {
   "cell_type": "code",
   "execution_count": 36,
   "id": "a33d6203",
   "metadata": {
    "execution": {
     "iopub.execute_input": "2022-03-13T17:39:37.548006Z",
     "iopub.status.busy": "2022-03-13T17:39:37.547006Z",
     "iopub.status.idle": "2022-03-13T17:39:37.601548Z",
     "shell.execute_reply": "2022-03-13T17:39:37.602203Z"
    },
    "papermill": {
     "duration": 0.261703,
     "end_time": "2022-03-13T17:39:37.602435",
     "exception": false,
     "start_time": "2022-03-13T17:39:37.340732",
     "status": "completed"
    },
    "tags": []
   },
   "outputs": [],
   "source": [
    "train_df2['gender'] = train_df2['gender'].fillna((train_df2['gender'].mode()[0]))\n",
    "train_df2['enrolled_university']=train_df2['enrolled_university'].fillna((train_df2['enrolled_university'].mode()[0]))\n",
    "train_df2['major_discipline']=train_df2['major_discipline'].fillna((train_df2['major_discipline'].mode()[0]))\n",
    "train_df2['company_size']=train_df2['company_size'].fillna((train_df2['company_size'].mode()[0]))\n",
    "train_df2['company_type']=train_df2['company_type'].fillna((train_df2['company_type'].mode()[0]))\n",
    "train_df2['relevent_experience']=train_df2['relevent_experience'].fillna((train_df2['relevent_experience'].mode()[0]))\n",
    "train_df2['education_level']=train_df2['education_level'].fillna((train_df2['education_level'].mode()[0]))\n",
    "train_df2['last_new_job']=train_df2['last_new_job'].fillna((train_df2['last_new_job'].mode()[0]))\n",
    "train_df2['city'] = train_df2['city'].fillna((train_df2['city'].mode()[0]))\n",
    "train_df2['experience'] = train_df2['experience'].fillna((train_df2['experience'].mode()[0]))"
   ]
  },
  {
   "cell_type": "code",
   "execution_count": 37,
   "id": "4ef0c6fb",
   "metadata": {
    "execution": {
     "iopub.execute_input": "2022-03-13T17:39:38.022559Z",
     "iopub.status.busy": "2022-03-13T17:39:38.021499Z",
     "iopub.status.idle": "2022-03-13T17:39:38.045548Z",
     "shell.execute_reply": "2022-03-13T17:39:38.046081Z"
    },
    "papermill": {
     "duration": 0.231623,
     "end_time": "2022-03-13T17:39:38.046261",
     "exception": false,
     "start_time": "2022-03-13T17:39:37.814638",
     "status": "completed"
    },
    "tags": []
   },
   "outputs": [
    {
     "data": {
      "text/plain": [
       "index                     0\n",
       "city                      0\n",
       "city_development_index    0\n",
       "gender                    0\n",
       "relevent_experience       0\n",
       "enrolled_university       0\n",
       "education_level           0\n",
       "major_discipline          0\n",
       "experience                0\n",
       "company_size              0\n",
       "company_type              0\n",
       "last_new_job              0\n",
       "training_hours            0\n",
       "target                    0\n",
       "dtype: int64"
      ]
     },
     "execution_count": 37,
     "metadata": {},
     "output_type": "execute_result"
    }
   ],
   "source": [
    "train_df2.isna().sum()"
   ]
  },
  {
   "cell_type": "code",
   "execution_count": 38,
   "id": "f15a7f0e",
   "metadata": {
    "execution": {
     "iopub.execute_input": "2022-03-13T17:39:38.461592Z",
     "iopub.status.busy": "2022-03-13T17:39:38.460573Z",
     "iopub.status.idle": "2022-03-13T17:39:38.598769Z",
     "shell.execute_reply": "2022-03-13T17:39:38.599335Z"
    },
    "papermill": {
     "duration": 0.348002,
     "end_time": "2022-03-13T17:39:38.599519",
     "exception": false,
     "start_time": "2022-03-13T17:39:38.251517",
     "status": "completed"
    },
    "tags": []
   },
   "outputs": [
    {
     "data": {
      "text/html": [
       "<div>\n",
       "<style scoped>\n",
       "    .dataframe tbody tr th:only-of-type {\n",
       "        vertical-align: middle;\n",
       "    }\n",
       "\n",
       "    .dataframe tbody tr th {\n",
       "        vertical-align: top;\n",
       "    }\n",
       "\n",
       "    .dataframe thead th {\n",
       "        text-align: right;\n",
       "    }\n",
       "</style>\n",
       "<table border=\"1\" class=\"dataframe\">\n",
       "  <thead>\n",
       "    <tr style=\"text-align: right;\">\n",
       "      <th></th>\n",
       "      <th>index</th>\n",
       "      <th>city</th>\n",
       "      <th>city_development_index</th>\n",
       "      <th>gender</th>\n",
       "      <th>relevent_experience</th>\n",
       "      <th>enrolled_university</th>\n",
       "      <th>education_level</th>\n",
       "      <th>major_discipline</th>\n",
       "      <th>experience</th>\n",
       "      <th>company_size</th>\n",
       "      <th>company_type</th>\n",
       "      <th>last_new_job</th>\n",
       "      <th>training_hours</th>\n",
       "      <th>target</th>\n",
       "    </tr>\n",
       "  </thead>\n",
       "  <tbody>\n",
       "    <tr>\n",
       "      <th>0</th>\n",
       "      <td>17007</td>\n",
       "      <td>1</td>\n",
       "      <td>0.913</td>\n",
       "      <td>1</td>\n",
       "      <td>1</td>\n",
       "      <td>1</td>\n",
       "      <td>4</td>\n",
       "      <td>1</td>\n",
       "      <td>4</td>\n",
       "      <td>4</td>\n",
       "      <td>6</td>\n",
       "      <td>2</td>\n",
       "      <td>22</td>\n",
       "      <td>0.0</td>\n",
       "    </tr>\n",
       "    <tr>\n",
       "      <th>1</th>\n",
       "      <td>631</td>\n",
       "      <td>2</td>\n",
       "      <td>0.698</td>\n",
       "      <td>1</td>\n",
       "      <td>1</td>\n",
       "      <td>1</td>\n",
       "      <td>2</td>\n",
       "      <td>1</td>\n",
       "      <td>3</td>\n",
       "      <td>3</td>\n",
       "      <td>1</td>\n",
       "      <td>2</td>\n",
       "      <td>22</td>\n",
       "      <td>1.0</td>\n",
       "    </tr>\n",
       "    <tr>\n",
       "      <th>2</th>\n",
       "      <td>669</td>\n",
       "      <td>3</td>\n",
       "      <td>0.926</td>\n",
       "      <td>1</td>\n",
       "      <td>1</td>\n",
       "      <td>3</td>\n",
       "      <td>4</td>\n",
       "      <td>1</td>\n",
       "      <td>9</td>\n",
       "      <td>3</td>\n",
       "      <td>1</td>\n",
       "      <td>2</td>\n",
       "      <td>88</td>\n",
       "      <td>0.0</td>\n",
       "    </tr>\n",
       "    <tr>\n",
       "      <th>3</th>\n",
       "      <td>8949</td>\n",
       "      <td>3</td>\n",
       "      <td>0.926</td>\n",
       "      <td>1</td>\n",
       "      <td>0</td>\n",
       "      <td>3</td>\n",
       "      <td>3</td>\n",
       "      <td>1</td>\n",
       "      <td>14</td>\n",
       "      <td>3</td>\n",
       "      <td>1</td>\n",
       "      <td>5</td>\n",
       "      <td>91</td>\n",
       "      <td>0.0</td>\n",
       "    </tr>\n",
       "    <tr>\n",
       "      <th>4</th>\n",
       "      <td>2341</td>\n",
       "      <td>4</td>\n",
       "      <td>0.910</td>\n",
       "      <td>1</td>\n",
       "      <td>1</td>\n",
       "      <td>1</td>\n",
       "      <td>3</td>\n",
       "      <td>1</td>\n",
       "      <td>1</td>\n",
       "      <td>7</td>\n",
       "      <td>1</td>\n",
       "      <td>2</td>\n",
       "      <td>92</td>\n",
       "      <td>0.0</td>\n",
       "    </tr>\n",
       "    <tr>\n",
       "      <th>...</th>\n",
       "      <td>...</td>\n",
       "      <td>...</td>\n",
       "      <td>...</td>\n",
       "      <td>...</td>\n",
       "      <td>...</td>\n",
       "      <td>...</td>\n",
       "      <td>...</td>\n",
       "      <td>...</td>\n",
       "      <td>...</td>\n",
       "      <td>...</td>\n",
       "      <td>...</td>\n",
       "      <td>...</td>\n",
       "      <td>...</td>\n",
       "      <td>...</td>\n",
       "    </tr>\n",
       "    <tr>\n",
       "      <th>14363</th>\n",
       "      <td>16304</td>\n",
       "      <td>17</td>\n",
       "      <td>0.920</td>\n",
       "      <td>1</td>\n",
       "      <td>1</td>\n",
       "      <td>1</td>\n",
       "      <td>3</td>\n",
       "      <td>1</td>\n",
       "      <td>21</td>\n",
       "      <td>3</td>\n",
       "      <td>1</td>\n",
       "      <td>6</td>\n",
       "      <td>157</td>\n",
       "      <td>0.0</td>\n",
       "    </tr>\n",
       "    <tr>\n",
       "      <th>14364</th>\n",
       "      <td>79</td>\n",
       "      <td>17</td>\n",
       "      <td>0.920</td>\n",
       "      <td>2</td>\n",
       "      <td>1</td>\n",
       "      <td>1</td>\n",
       "      <td>4</td>\n",
       "      <td>1</td>\n",
       "      <td>2</td>\n",
       "      <td>1</td>\n",
       "      <td>3</td>\n",
       "      <td>2</td>\n",
       "      <td>4</td>\n",
       "      <td>0.0</td>\n",
       "    </tr>\n",
       "    <tr>\n",
       "      <th>14365</th>\n",
       "      <td>12119</td>\n",
       "      <td>9</td>\n",
       "      <td>0.624</td>\n",
       "      <td>1</td>\n",
       "      <td>1</td>\n",
       "      <td>1</td>\n",
       "      <td>4</td>\n",
       "      <td>1</td>\n",
       "      <td>1</td>\n",
       "      <td>3</td>\n",
       "      <td>1</td>\n",
       "      <td>2</td>\n",
       "      <td>34</td>\n",
       "      <td>0.0</td>\n",
       "    </tr>\n",
       "    <tr>\n",
       "      <th>14366</th>\n",
       "      <td>14147</td>\n",
       "      <td>76</td>\n",
       "      <td>0.895</td>\n",
       "      <td>1</td>\n",
       "      <td>1</td>\n",
       "      <td>1</td>\n",
       "      <td>4</td>\n",
       "      <td>1</td>\n",
       "      <td>15</td>\n",
       "      <td>4</td>\n",
       "      <td>5</td>\n",
       "      <td>2</td>\n",
       "      <td>4</td>\n",
       "      <td>0.0</td>\n",
       "    </tr>\n",
       "    <tr>\n",
       "      <th>14367</th>\n",
       "      <td>5640</td>\n",
       "      <td>17</td>\n",
       "      <td>0.920</td>\n",
       "      <td>1</td>\n",
       "      <td>1</td>\n",
       "      <td>1</td>\n",
       "      <td>3</td>\n",
       "      <td>1</td>\n",
       "      <td>16</td>\n",
       "      <td>8</td>\n",
       "      <td>5</td>\n",
       "      <td>6</td>\n",
       "      <td>17</td>\n",
       "      <td>0.0</td>\n",
       "    </tr>\n",
       "  </tbody>\n",
       "</table>\n",
       "<p>14368 rows × 14 columns</p>\n",
       "</div>"
      ],
      "text/plain": [
       "       index  city  city_development_index  gender  relevent_experience  \\\n",
       "0      17007     1                   0.913       1                    1   \n",
       "1        631     2                   0.698       1                    1   \n",
       "2        669     3                   0.926       1                    1   \n",
       "3       8949     3                   0.926       1                    0   \n",
       "4       2341     4                   0.910       1                    1   \n",
       "...      ...   ...                     ...     ...                  ...   \n",
       "14363  16304    17                   0.920       1                    1   \n",
       "14364     79    17                   0.920       2                    1   \n",
       "14365  12119     9                   0.624       1                    1   \n",
       "14366  14147    76                   0.895       1                    1   \n",
       "14367   5640    17                   0.920       1                    1   \n",
       "\n",
       "       enrolled_university  education_level  major_discipline  experience  \\\n",
       "0                        1                4                 1           4   \n",
       "1                        1                2                 1           3   \n",
       "2                        3                4                 1           9   \n",
       "3                        3                3                 1          14   \n",
       "4                        1                3                 1           1   \n",
       "...                    ...              ...               ...         ...   \n",
       "14363                    1                3                 1          21   \n",
       "14364                    1                4                 1           2   \n",
       "14365                    1                4                 1           1   \n",
       "14366                    1                4                 1          15   \n",
       "14367                    1                3                 1          16   \n",
       "\n",
       "       company_size  company_type  last_new_job  training_hours  target  \n",
       "0                 4             6             2              22     0.0  \n",
       "1                 3             1             2              22     1.0  \n",
       "2                 3             1             2              88     0.0  \n",
       "3                 3             1             5              91     0.0  \n",
       "4                 7             1             2              92     0.0  \n",
       "...             ...           ...           ...             ...     ...  \n",
       "14363             3             1             6             157     0.0  \n",
       "14364             1             3             2               4     0.0  \n",
       "14365             3             1             2              34     0.0  \n",
       "14366             4             5             2               4     0.0  \n",
       "14367             8             5             6              17     0.0  \n",
       "\n",
       "[14368 rows x 14 columns]"
      ]
     },
     "execution_count": 38,
     "metadata": {},
     "output_type": "execute_result"
    }
   ],
   "source": [
    "train_df2['gender'] = train_df2['gender'].apply(numeric_gender)\n",
    "train_df2['relevent_experience'] = train_df2['relevent_experience'].apply(numeric_relevant_experience)\n",
    "train_df2['enrolled_university'] = train_df2['enrolled_university'].apply(numeric_enrollment)\n",
    "train_df2['education_level'] = train_df2['education_level'].apply(numeric_education)\n",
    "train_df2['major_discipline'] = train_df2['major_discipline'].apply(numeric_major)\n",
    "train_df2['experience'] = train_df2['experience'].apply(numeric_experience)\n",
    "train_df2['company_type'] = train_df2['company_type'].apply(numeric_companytype)\n",
    "train_df2['company_size'] = train_df2['company_size'].apply(numeric_companysize)\n",
    "train_df2['last_new_job'] = train_df2['last_new_job'].apply(numeric_lastjob)\n",
    "train_df2['city'] = train_df2['city'].apply(numeric_city)\n",
    "\n",
    "train_df2\n"
   ]
  },
  {
   "cell_type": "code",
   "execution_count": 39,
   "id": "7b0e067d",
   "metadata": {
    "execution": {
     "iopub.execute_input": "2022-03-13T17:39:39.022783Z",
     "iopub.status.busy": "2022-03-13T17:39:39.021750Z",
     "iopub.status.idle": "2022-03-13T17:39:39.031372Z",
     "shell.execute_reply": "2022-03-13T17:39:39.030648Z"
    },
    "papermill": {
     "duration": 0.221557,
     "end_time": "2022-03-13T17:39:39.031521",
     "exception": false,
     "start_time": "2022-03-13T17:39:38.809964",
     "status": "completed"
    },
    "tags": []
   },
   "outputs": [
    {
     "data": {
      "text/plain": [
       "index                     0\n",
       "city                      0\n",
       "city_development_index    0\n",
       "gender                    0\n",
       "relevent_experience       0\n",
       "enrolled_university       0\n",
       "education_level           0\n",
       "major_discipline          0\n",
       "experience                0\n",
       "company_size              0\n",
       "company_type              0\n",
       "last_new_job              0\n",
       "training_hours            0\n",
       "target                    0\n",
       "dtype: int64"
      ]
     },
     "execution_count": 39,
     "metadata": {},
     "output_type": "execute_result"
    }
   ],
   "source": [
    "train_df2.isna().sum()"
   ]
  },
  {
   "cell_type": "code",
   "execution_count": 40,
   "id": "62b4b639",
   "metadata": {
    "execution": {
     "iopub.execute_input": "2022-03-13T17:39:39.462681Z",
     "iopub.status.busy": "2022-03-13T17:39:39.456528Z",
     "iopub.status.idle": "2022-03-13T17:39:39.486036Z",
     "shell.execute_reply": "2022-03-13T17:39:39.486785Z"
    },
    "papermill": {
     "duration": 0.246683,
     "end_time": "2022-03-13T17:39:39.487050",
     "exception": false,
     "start_time": "2022-03-13T17:39:39.240367",
     "status": "completed"
    },
    "tags": []
   },
   "outputs": [],
   "source": [
    "test_df2['gender'] = test_df2['gender'].fillna((test_df2['gender'].mode()[0]))\n",
    "test_df2['enrolled_university']=test_df2['enrolled_university'].fillna((test_df2['enrolled_university'].mode()[0]))\n",
    "test_df2['major_discipline']=test_df2['major_discipline'].fillna((test_df2['major_discipline'].mode()[0]))\n",
    "test_df2['company_size']=test_df2['company_size'].fillna((test_df2['company_size'].mode()[0]))\n",
    "test_df2['company_type']=test_df2['company_type'].fillna((test_df2['company_type'].mode()[0]))\n",
    "test_df2['relevent_experience']=test_df2['relevent_experience'].fillna((test_df2['relevent_experience'].mode()[0]))\n",
    "test_df2['education_level']=test_df2['education_level'].fillna((test_df2['education_level'].mode()[0]))\n",
    "test_df2['last_new_job']=test_df2['last_new_job'].fillna((test_df2['last_new_job'].mode()[0]))\n",
    "test_df2['city'] = test_df2['city'].fillna((test_df2['city'].mode()[0]))\n",
    "test_df2['experience'] = test_df2['experience'].fillna((test_df2['experience'].mode()[0]))"
   ]
  },
  {
   "cell_type": "code",
   "execution_count": 41,
   "id": "0438488b",
   "metadata": {
    "execution": {
     "iopub.execute_input": "2022-03-13T17:39:39.914491Z",
     "iopub.status.busy": "2022-03-13T17:39:39.913655Z",
     "iopub.status.idle": "2022-03-13T17:39:39.978971Z",
     "shell.execute_reply": "2022-03-13T17:39:39.978277Z"
    },
    "papermill": {
     "duration": 0.277342,
     "end_time": "2022-03-13T17:39:39.979113",
     "exception": false,
     "start_time": "2022-03-13T17:39:39.701771",
     "status": "completed"
    },
    "tags": []
   },
   "outputs": [
    {
     "data": {
      "text/html": [
       "<div>\n",
       "<style scoped>\n",
       "    .dataframe tbody tr th:only-of-type {\n",
       "        vertical-align: middle;\n",
       "    }\n",
       "\n",
       "    .dataframe tbody tr th {\n",
       "        vertical-align: top;\n",
       "    }\n",
       "\n",
       "    .dataframe thead th {\n",
       "        text-align: right;\n",
       "    }\n",
       "</style>\n",
       "<table border=\"1\" class=\"dataframe\">\n",
       "  <thead>\n",
       "    <tr style=\"text-align: right;\">\n",
       "      <th></th>\n",
       "      <th>index</th>\n",
       "      <th>city</th>\n",
       "      <th>city_development_index</th>\n",
       "      <th>gender</th>\n",
       "      <th>relevent_experience</th>\n",
       "      <th>enrolled_university</th>\n",
       "      <th>education_level</th>\n",
       "      <th>major_discipline</th>\n",
       "      <th>experience</th>\n",
       "      <th>company_size</th>\n",
       "      <th>company_type</th>\n",
       "      <th>last_new_job</th>\n",
       "      <th>training_hours</th>\n",
       "    </tr>\n",
       "  </thead>\n",
       "  <tbody>\n",
       "    <tr>\n",
       "      <th>0</th>\n",
       "      <td>16834</td>\n",
       "      <td>56</td>\n",
       "      <td>0.924</td>\n",
       "      <td>1</td>\n",
       "      <td>1</td>\n",
       "      <td>1</td>\n",
       "      <td>1</td>\n",
       "      <td>1</td>\n",
       "      <td>15</td>\n",
       "      <td>4</td>\n",
       "      <td>1</td>\n",
       "      <td>3</td>\n",
       "      <td>58</td>\n",
       "    </tr>\n",
       "    <tr>\n",
       "      <th>1</th>\n",
       "      <td>15437</td>\n",
       "      <td>3</td>\n",
       "      <td>0.926</td>\n",
       "      <td>1</td>\n",
       "      <td>0</td>\n",
       "      <td>1</td>\n",
       "      <td>4</td>\n",
       "      <td>1</td>\n",
       "      <td>21</td>\n",
       "      <td>8</td>\n",
       "      <td>1</td>\n",
       "      <td>6</td>\n",
       "      <td>308</td>\n",
       "    </tr>\n",
       "    <tr>\n",
       "      <th>2</th>\n",
       "      <td>8549</td>\n",
       "      <td>16</td>\n",
       "      <td>0.923</td>\n",
       "      <td>1</td>\n",
       "      <td>0</td>\n",
       "      <td>3</td>\n",
       "      <td>2</td>\n",
       "      <td>1</td>\n",
       "      <td>2</td>\n",
       "      <td>3</td>\n",
       "      <td>1</td>\n",
       "      <td>1</td>\n",
       "      <td>8</td>\n",
       "    </tr>\n",
       "    <tr>\n",
       "      <th>3</th>\n",
       "      <td>7222</td>\n",
       "      <td>17</td>\n",
       "      <td>0.920</td>\n",
       "      <td>1</td>\n",
       "      <td>0</td>\n",
       "      <td>1</td>\n",
       "      <td>1</td>\n",
       "      <td>1</td>\n",
       "      <td>6</td>\n",
       "      <td>3</td>\n",
       "      <td>1</td>\n",
       "      <td>1</td>\n",
       "      <td>85</td>\n",
       "    </tr>\n",
       "    <tr>\n",
       "      <th>4</th>\n",
       "      <td>17054</td>\n",
       "      <td>17</td>\n",
       "      <td>0.920</td>\n",
       "      <td>2</td>\n",
       "      <td>1</td>\n",
       "      <td>1</td>\n",
       "      <td>3</td>\n",
       "      <td>1</td>\n",
       "      <td>7</td>\n",
       "      <td>5</td>\n",
       "      <td>1</td>\n",
       "      <td>2</td>\n",
       "      <td>3</td>\n",
       "    </tr>\n",
       "    <tr>\n",
       "      <th>...</th>\n",
       "      <td>...</td>\n",
       "      <td>...</td>\n",
       "      <td>...</td>\n",
       "      <td>...</td>\n",
       "      <td>...</td>\n",
       "      <td>...</td>\n",
       "      <td>...</td>\n",
       "      <td>...</td>\n",
       "      <td>...</td>\n",
       "      <td>...</td>\n",
       "      <td>...</td>\n",
       "      <td>...</td>\n",
       "      <td>...</td>\n",
       "    </tr>\n",
       "    <tr>\n",
       "      <th>4785</th>\n",
       "      <td>5915</td>\n",
       "      <td>9</td>\n",
       "      <td>0.624</td>\n",
       "      <td>1</td>\n",
       "      <td>1</td>\n",
       "      <td>3</td>\n",
       "      <td>3</td>\n",
       "      <td>1</td>\n",
       "      <td>3</td>\n",
       "      <td>3</td>\n",
       "      <td>1</td>\n",
       "      <td>3</td>\n",
       "      <td>17</td>\n",
       "    </tr>\n",
       "    <tr>\n",
       "      <th>4786</th>\n",
       "      <td>11083</td>\n",
       "      <td>17</td>\n",
       "      <td>0.920</td>\n",
       "      <td>1</td>\n",
       "      <td>1</td>\n",
       "      <td>1</td>\n",
       "      <td>3</td>\n",
       "      <td>1</td>\n",
       "      <td>11</td>\n",
       "      <td>4</td>\n",
       "      <td>1</td>\n",
       "      <td>6</td>\n",
       "      <td>77</td>\n",
       "    </tr>\n",
       "    <tr>\n",
       "      <th>4787</th>\n",
       "      <td>2335</td>\n",
       "      <td>17</td>\n",
       "      <td>0.920</td>\n",
       "      <td>1</td>\n",
       "      <td>1</td>\n",
       "      <td>1</td>\n",
       "      <td>3</td>\n",
       "      <td>4</td>\n",
       "      <td>21</td>\n",
       "      <td>3</td>\n",
       "      <td>1</td>\n",
       "      <td>2</td>\n",
       "      <td>258</td>\n",
       "    </tr>\n",
       "    <tr>\n",
       "      <th>4788</th>\n",
       "      <td>7691</td>\n",
       "      <td>9</td>\n",
       "      <td>0.624</td>\n",
       "      <td>1</td>\n",
       "      <td>1</td>\n",
       "      <td>3</td>\n",
       "      <td>4</td>\n",
       "      <td>1</td>\n",
       "      <td>6</td>\n",
       "      <td>3</td>\n",
       "      <td>1</td>\n",
       "      <td>2</td>\n",
       "      <td>95</td>\n",
       "    </tr>\n",
       "    <tr>\n",
       "      <th>4789</th>\n",
       "      <td>17911</td>\n",
       "      <td>56</td>\n",
       "      <td>0.924</td>\n",
       "      <td>1</td>\n",
       "      <td>1</td>\n",
       "      <td>2</td>\n",
       "      <td>3</td>\n",
       "      <td>1</td>\n",
       "      <td>7</td>\n",
       "      <td>1</td>\n",
       "      <td>3</td>\n",
       "      <td>2</td>\n",
       "      <td>20</td>\n",
       "    </tr>\n",
       "  </tbody>\n",
       "</table>\n",
       "<p>4790 rows × 13 columns</p>\n",
       "</div>"
      ],
      "text/plain": [
       "      index  city  city_development_index  gender  relevent_experience  \\\n",
       "0     16834    56                   0.924       1                    1   \n",
       "1     15437     3                   0.926       1                    0   \n",
       "2      8549    16                   0.923       1                    0   \n",
       "3      7222    17                   0.920       1                    0   \n",
       "4     17054    17                   0.920       2                    1   \n",
       "...     ...   ...                     ...     ...                  ...   \n",
       "4785   5915     9                   0.624       1                    1   \n",
       "4786  11083    17                   0.920       1                    1   \n",
       "4787   2335    17                   0.920       1                    1   \n",
       "4788   7691     9                   0.624       1                    1   \n",
       "4789  17911    56                   0.924       1                    1   \n",
       "\n",
       "      enrolled_university  education_level  major_discipline  experience  \\\n",
       "0                       1                1                 1          15   \n",
       "1                       1                4                 1          21   \n",
       "2                       3                2                 1           2   \n",
       "3                       1                1                 1           6   \n",
       "4                       1                3                 1           7   \n",
       "...                   ...              ...               ...         ...   \n",
       "4785                    3                3                 1           3   \n",
       "4786                    1                3                 1          11   \n",
       "4787                    1                3                 4          21   \n",
       "4788                    3                4                 1           6   \n",
       "4789                    2                3                 1           7   \n",
       "\n",
       "      company_size  company_type  last_new_job  training_hours  \n",
       "0                4             1             3              58  \n",
       "1                8             1             6             308  \n",
       "2                3             1             1               8  \n",
       "3                3             1             1              85  \n",
       "4                5             1             2               3  \n",
       "...            ...           ...           ...             ...  \n",
       "4785             3             1             3              17  \n",
       "4786             4             1             6              77  \n",
       "4787             3             1             2             258  \n",
       "4788             3             1             2              95  \n",
       "4789             1             3             2              20  \n",
       "\n",
       "[4790 rows x 13 columns]"
      ]
     },
     "execution_count": 41,
     "metadata": {},
     "output_type": "execute_result"
    }
   ],
   "source": [
    "test_df2['gender'] = test_df2['gender'].apply(numeric_gender)\n",
    "test_df2['relevent_experience'] = test_df2['relevent_experience'].apply(numeric_relevant_experience)\n",
    "test_df2['enrolled_university'] = test_df2['enrolled_university'].apply(numeric_enrollment)\n",
    "test_df2['education_level'] = test_df2['education_level'].apply(numeric_education)\n",
    "test_df2['major_discipline'] = test_df2['major_discipline'].apply(numeric_major)\n",
    "test_df2['experience'] = test_df2['experience'].apply(numeric_experience)\n",
    "test_df2['company_type'] = test_df2['company_type'].apply(numeric_companytype)\n",
    "test_df2['company_size'] = test_df2['company_size'].apply(numeric_companysize)\n",
    "test_df2['last_new_job'] = test_df2['last_new_job'].apply(numeric_lastjob)\n",
    "test_df2['city'] = test_df2['city'].apply(numeric_city)\n",
    "\n",
    "test_df2"
   ]
  },
  {
   "cell_type": "code",
   "execution_count": 42,
   "id": "a3cba6fb",
   "metadata": {
    "execution": {
     "iopub.execute_input": "2022-03-13T17:39:40.403867Z",
     "iopub.status.busy": "2022-03-13T17:39:40.403032Z",
     "iopub.status.idle": "2022-03-13T17:39:40.412051Z",
     "shell.execute_reply": "2022-03-13T17:39:40.412603Z"
    },
    "papermill": {
     "duration": 0.224374,
     "end_time": "2022-03-13T17:39:40.412817",
     "exception": false,
     "start_time": "2022-03-13T17:39:40.188443",
     "status": "completed"
    },
    "tags": []
   },
   "outputs": [
    {
     "data": {
      "text/plain": [
       "index                     0\n",
       "city                      0\n",
       "city_development_index    0\n",
       "gender                    0\n",
       "relevent_experience       0\n",
       "enrolled_university       0\n",
       "education_level           0\n",
       "major_discipline          0\n",
       "experience                0\n",
       "company_size              0\n",
       "company_type              0\n",
       "last_new_job              0\n",
       "training_hours            0\n",
       "dtype: int64"
      ]
     },
     "execution_count": 42,
     "metadata": {},
     "output_type": "execute_result"
    }
   ],
   "source": [
    "test_df2.isna().sum()"
   ]
  },
  {
   "cell_type": "markdown",
   "id": "6a85ca98",
   "metadata": {
    "papermill": {
     "duration": 0.213521,
     "end_time": "2022-03-13T17:39:40.840388",
     "exception": false,
     "start_time": "2022-03-13T17:39:40.626867",
     "status": "completed"
    },
    "tags": []
   },
   "source": [
    "**3) The third way can be to use KNN to impute the missing values**"
   ]
  },
  {
   "cell_type": "code",
   "execution_count": 43,
   "id": "785a35ec",
   "metadata": {
    "execution": {
     "iopub.execute_input": "2022-03-13T17:39:41.275364Z",
     "iopub.status.busy": "2022-03-13T17:39:41.274521Z",
     "iopub.status.idle": "2022-03-13T17:39:41.285827Z",
     "shell.execute_reply": "2022-03-13T17:39:41.286679Z"
    },
    "papermill": {
     "duration": 0.229697,
     "end_time": "2022-03-13T17:39:41.287045",
     "exception": false,
     "start_time": "2022-03-13T17:39:41.057348",
     "status": "completed"
    },
    "tags": []
   },
   "outputs": [],
   "source": [
    "from sklearn.impute import KNNImputer"
   ]
  },
  {
   "cell_type": "markdown",
   "id": "6353fe91",
   "metadata": {
    "papermill": {
     "duration": 0.209161,
     "end_time": "2022-03-13T17:39:41.709330",
     "exception": false,
     "start_time": "2022-03-13T17:39:41.500169",
     "status": "completed"
    },
    "tags": []
   },
   "source": [
    "**Converting the Categorical Values into numerical**"
   ]
  },
  {
   "cell_type": "code",
   "execution_count": 44,
   "id": "5f4bfd47",
   "metadata": {
    "execution": {
     "iopub.execute_input": "2022-03-13T17:39:42.139949Z",
     "iopub.status.busy": "2022-03-13T17:39:42.139177Z",
     "iopub.status.idle": "2022-03-13T17:39:42.271612Z",
     "shell.execute_reply": "2022-03-13T17:39:42.271064Z"
    },
    "papermill": {
     "duration": 0.34867,
     "end_time": "2022-03-13T17:39:42.271783",
     "exception": false,
     "start_time": "2022-03-13T17:39:41.923113",
     "status": "completed"
    },
    "tags": []
   },
   "outputs": [
    {
     "data": {
      "text/html": [
       "<div>\n",
       "<style scoped>\n",
       "    .dataframe tbody tr th:only-of-type {\n",
       "        vertical-align: middle;\n",
       "    }\n",
       "\n",
       "    .dataframe tbody tr th {\n",
       "        vertical-align: top;\n",
       "    }\n",
       "\n",
       "    .dataframe thead th {\n",
       "        text-align: right;\n",
       "    }\n",
       "</style>\n",
       "<table border=\"1\" class=\"dataframe\">\n",
       "  <thead>\n",
       "    <tr style=\"text-align: right;\">\n",
       "      <th></th>\n",
       "      <th>index</th>\n",
       "      <th>city</th>\n",
       "      <th>city_development_index</th>\n",
       "      <th>gender</th>\n",
       "      <th>relevent_experience</th>\n",
       "      <th>enrolled_university</th>\n",
       "      <th>education_level</th>\n",
       "      <th>major_discipline</th>\n",
       "      <th>experience</th>\n",
       "      <th>company_size</th>\n",
       "      <th>company_type</th>\n",
       "      <th>last_new_job</th>\n",
       "      <th>training_hours</th>\n",
       "      <th>target</th>\n",
       "    </tr>\n",
       "  </thead>\n",
       "  <tbody>\n",
       "    <tr>\n",
       "      <th>0</th>\n",
       "      <td>17007</td>\n",
       "      <td>1</td>\n",
       "      <td>0.913</td>\n",
       "      <td>1.0</td>\n",
       "      <td>1</td>\n",
       "      <td>1.0</td>\n",
       "      <td>4.0</td>\n",
       "      <td>1.0</td>\n",
       "      <td>4.0</td>\n",
       "      <td>4.0</td>\n",
       "      <td>6.0</td>\n",
       "      <td>2.0</td>\n",
       "      <td>22</td>\n",
       "      <td>0.0</td>\n",
       "    </tr>\n",
       "    <tr>\n",
       "      <th>1</th>\n",
       "      <td>631</td>\n",
       "      <td>2</td>\n",
       "      <td>0.698</td>\n",
       "      <td>1.0</td>\n",
       "      <td>1</td>\n",
       "      <td>NaN</td>\n",
       "      <td>2.0</td>\n",
       "      <td>NaN</td>\n",
       "      <td>3.0</td>\n",
       "      <td>NaN</td>\n",
       "      <td>NaN</td>\n",
       "      <td>2.0</td>\n",
       "      <td>22</td>\n",
       "      <td>1.0</td>\n",
       "    </tr>\n",
       "    <tr>\n",
       "      <th>2</th>\n",
       "      <td>669</td>\n",
       "      <td>3</td>\n",
       "      <td>0.926</td>\n",
       "      <td>NaN</td>\n",
       "      <td>1</td>\n",
       "      <td>3.0</td>\n",
       "      <td>4.0</td>\n",
       "      <td>1.0</td>\n",
       "      <td>9.0</td>\n",
       "      <td>3.0</td>\n",
       "      <td>1.0</td>\n",
       "      <td>2.0</td>\n",
       "      <td>88</td>\n",
       "      <td>0.0</td>\n",
       "    </tr>\n",
       "    <tr>\n",
       "      <th>3</th>\n",
       "      <td>8949</td>\n",
       "      <td>3</td>\n",
       "      <td>0.926</td>\n",
       "      <td>1.0</td>\n",
       "      <td>0</td>\n",
       "      <td>3.0</td>\n",
       "      <td>3.0</td>\n",
       "      <td>1.0</td>\n",
       "      <td>14.0</td>\n",
       "      <td>NaN</td>\n",
       "      <td>NaN</td>\n",
       "      <td>5.0</td>\n",
       "      <td>91</td>\n",
       "      <td>0.0</td>\n",
       "    </tr>\n",
       "    <tr>\n",
       "      <th>4</th>\n",
       "      <td>2341</td>\n",
       "      <td>4</td>\n",
       "      <td>0.910</td>\n",
       "      <td>NaN</td>\n",
       "      <td>1</td>\n",
       "      <td>1.0</td>\n",
       "      <td>3.0</td>\n",
       "      <td>1.0</td>\n",
       "      <td>1.0</td>\n",
       "      <td>7.0</td>\n",
       "      <td>1.0</td>\n",
       "      <td>2.0</td>\n",
       "      <td>92</td>\n",
       "      <td>0.0</td>\n",
       "    </tr>\n",
       "    <tr>\n",
       "      <th>...</th>\n",
       "      <td>...</td>\n",
       "      <td>...</td>\n",
       "      <td>...</td>\n",
       "      <td>...</td>\n",
       "      <td>...</td>\n",
       "      <td>...</td>\n",
       "      <td>...</td>\n",
       "      <td>...</td>\n",
       "      <td>...</td>\n",
       "      <td>...</td>\n",
       "      <td>...</td>\n",
       "      <td>...</td>\n",
       "      <td>...</td>\n",
       "      <td>...</td>\n",
       "    </tr>\n",
       "    <tr>\n",
       "      <th>14363</th>\n",
       "      <td>16304</td>\n",
       "      <td>17</td>\n",
       "      <td>0.920</td>\n",
       "      <td>1.0</td>\n",
       "      <td>1</td>\n",
       "      <td>1.0</td>\n",
       "      <td>3.0</td>\n",
       "      <td>1.0</td>\n",
       "      <td>21.0</td>\n",
       "      <td>NaN</td>\n",
       "      <td>NaN</td>\n",
       "      <td>6.0</td>\n",
       "      <td>157</td>\n",
       "      <td>0.0</td>\n",
       "    </tr>\n",
       "    <tr>\n",
       "      <th>14364</th>\n",
       "      <td>79</td>\n",
       "      <td>17</td>\n",
       "      <td>0.920</td>\n",
       "      <td>2.0</td>\n",
       "      <td>1</td>\n",
       "      <td>1.0</td>\n",
       "      <td>4.0</td>\n",
       "      <td>1.0</td>\n",
       "      <td>2.0</td>\n",
       "      <td>1.0</td>\n",
       "      <td>3.0</td>\n",
       "      <td>2.0</td>\n",
       "      <td>4</td>\n",
       "      <td>0.0</td>\n",
       "    </tr>\n",
       "    <tr>\n",
       "      <th>14365</th>\n",
       "      <td>12119</td>\n",
       "      <td>9</td>\n",
       "      <td>0.624</td>\n",
       "      <td>1.0</td>\n",
       "      <td>1</td>\n",
       "      <td>1.0</td>\n",
       "      <td>4.0</td>\n",
       "      <td>1.0</td>\n",
       "      <td>1.0</td>\n",
       "      <td>3.0</td>\n",
       "      <td>1.0</td>\n",
       "      <td>NaN</td>\n",
       "      <td>34</td>\n",
       "      <td>0.0</td>\n",
       "    </tr>\n",
       "    <tr>\n",
       "      <th>14366</th>\n",
       "      <td>14147</td>\n",
       "      <td>76</td>\n",
       "      <td>0.895</td>\n",
       "      <td>1.0</td>\n",
       "      <td>1</td>\n",
       "      <td>1.0</td>\n",
       "      <td>4.0</td>\n",
       "      <td>1.0</td>\n",
       "      <td>15.0</td>\n",
       "      <td>4.0</td>\n",
       "      <td>5.0</td>\n",
       "      <td>2.0</td>\n",
       "      <td>4</td>\n",
       "      <td>0.0</td>\n",
       "    </tr>\n",
       "    <tr>\n",
       "      <th>14367</th>\n",
       "      <td>5640</td>\n",
       "      <td>17</td>\n",
       "      <td>0.920</td>\n",
       "      <td>1.0</td>\n",
       "      <td>1</td>\n",
       "      <td>1.0</td>\n",
       "      <td>3.0</td>\n",
       "      <td>1.0</td>\n",
       "      <td>16.0</td>\n",
       "      <td>8.0</td>\n",
       "      <td>5.0</td>\n",
       "      <td>6.0</td>\n",
       "      <td>17</td>\n",
       "      <td>0.0</td>\n",
       "    </tr>\n",
       "  </tbody>\n",
       "</table>\n",
       "<p>14368 rows × 14 columns</p>\n",
       "</div>"
      ],
      "text/plain": [
       "       index  city  city_development_index  gender  relevent_experience  \\\n",
       "0      17007     1                   0.913     1.0                    1   \n",
       "1        631     2                   0.698     1.0                    1   \n",
       "2        669     3                   0.926     NaN                    1   \n",
       "3       8949     3                   0.926     1.0                    0   \n",
       "4       2341     4                   0.910     NaN                    1   \n",
       "...      ...   ...                     ...     ...                  ...   \n",
       "14363  16304    17                   0.920     1.0                    1   \n",
       "14364     79    17                   0.920     2.0                    1   \n",
       "14365  12119     9                   0.624     1.0                    1   \n",
       "14366  14147    76                   0.895     1.0                    1   \n",
       "14367   5640    17                   0.920     1.0                    1   \n",
       "\n",
       "       enrolled_university  education_level  major_discipline  experience  \\\n",
       "0                      1.0              4.0               1.0         4.0   \n",
       "1                      NaN              2.0               NaN         3.0   \n",
       "2                      3.0              4.0               1.0         9.0   \n",
       "3                      3.0              3.0               1.0        14.0   \n",
       "4                      1.0              3.0               1.0         1.0   \n",
       "...                    ...              ...               ...         ...   \n",
       "14363                  1.0              3.0               1.0        21.0   \n",
       "14364                  1.0              4.0               1.0         2.0   \n",
       "14365                  1.0              4.0               1.0         1.0   \n",
       "14366                  1.0              4.0               1.0        15.0   \n",
       "14367                  1.0              3.0               1.0        16.0   \n",
       "\n",
       "       company_size  company_type  last_new_job  training_hours  target  \n",
       "0               4.0           6.0           2.0              22     0.0  \n",
       "1               NaN           NaN           2.0              22     1.0  \n",
       "2               3.0           1.0           2.0              88     0.0  \n",
       "3               NaN           NaN           5.0              91     0.0  \n",
       "4               7.0           1.0           2.0              92     0.0  \n",
       "...             ...           ...           ...             ...     ...  \n",
       "14363           NaN           NaN           6.0             157     0.0  \n",
       "14364           1.0           3.0           2.0               4     0.0  \n",
       "14365           3.0           1.0           NaN              34     0.0  \n",
       "14366           4.0           5.0           2.0               4     0.0  \n",
       "14367           8.0           5.0           6.0              17     0.0  \n",
       "\n",
       "[14368 rows x 14 columns]"
      ]
     },
     "execution_count": 44,
     "metadata": {},
     "output_type": "execute_result"
    }
   ],
   "source": [
    "train_df3['gender'] = train_df3['gender'].apply(numeric_gender)\n",
    "train_df3['relevent_experience'] = train_df3['relevent_experience'].apply(numeric_relevant_experience)\n",
    "train_df3['enrolled_university'] = train_df3['enrolled_university'].apply(numeric_enrollment)\n",
    "train_df3['education_level'] = train_df3['education_level'].apply(numeric_education)\n",
    "train_df3['major_discipline'] = train_df3['major_discipline'].apply(numeric_major)\n",
    "train_df3['experience'] = train_df3['experience'].apply(numeric_experience)\n",
    "train_df3['company_type'] = train_df3['company_type'].apply(numeric_companytype)\n",
    "train_df3['company_size'] = train_df3['company_size'].apply(numeric_companysize)\n",
    "train_df3['last_new_job'] = train_df3['last_new_job'].apply(numeric_lastjob)\n",
    "train_df3['city'] = train_df3['city'].apply(numeric_city)\n",
    "\n",
    "train_df3"
   ]
  },
  {
   "cell_type": "code",
   "execution_count": 45,
   "id": "ac511ebd",
   "metadata": {
    "execution": {
     "iopub.execute_input": "2022-03-13T17:39:42.696998Z",
     "iopub.status.busy": "2022-03-13T17:39:42.696279Z",
     "iopub.status.idle": "2022-03-13T17:39:42.697922Z",
     "shell.execute_reply": "2022-03-13T17:39:42.698424Z"
    },
    "papermill": {
     "duration": 0.216442,
     "end_time": "2022-03-13T17:39:42.698614",
     "exception": false,
     "start_time": "2022-03-13T17:39:42.482172",
     "status": "completed"
    },
    "tags": []
   },
   "outputs": [],
   "source": [
    "imputer = KNNImputer(n_neighbors=3)"
   ]
  },
  {
   "cell_type": "code",
   "execution_count": 46,
   "id": "9714f085",
   "metadata": {
    "execution": {
     "iopub.execute_input": "2022-03-13T17:39:43.130067Z",
     "iopub.status.busy": "2022-03-13T17:39:43.128868Z",
     "iopub.status.idle": "2022-03-13T17:39:52.110732Z",
     "shell.execute_reply": "2022-03-13T17:39:52.110108Z"
    },
    "papermill": {
     "duration": 9.20011,
     "end_time": "2022-03-13T17:39:52.110900",
     "exception": false,
     "start_time": "2022-03-13T17:39:42.910790",
     "status": "completed"
    },
    "tags": []
   },
   "outputs": [],
   "source": [
    "X = np.round(imputer.fit_transform(train_df3))\n",
    "train_df3 = pd.DataFrame(X, columns = train_df3.columns)"
   ]
  },
  {
   "cell_type": "code",
   "execution_count": 47,
   "id": "49b4f215",
   "metadata": {
    "execution": {
     "iopub.execute_input": "2022-03-13T17:39:52.532894Z",
     "iopub.status.busy": "2022-03-13T17:39:52.532129Z",
     "iopub.status.idle": "2022-03-13T17:39:52.539449Z",
     "shell.execute_reply": "2022-03-13T17:39:52.539964Z"
    },
    "papermill": {
     "duration": 0.220131,
     "end_time": "2022-03-13T17:39:52.540131",
     "exception": false,
     "start_time": "2022-03-13T17:39:52.320000",
     "status": "completed"
    },
    "tags": []
   },
   "outputs": [
    {
     "data": {
      "text/plain": [
       "index                     0\n",
       "city                      0\n",
       "city_development_index    0\n",
       "gender                    0\n",
       "relevent_experience       0\n",
       "enrolled_university       0\n",
       "education_level           0\n",
       "major_discipline          0\n",
       "experience                0\n",
       "company_size              0\n",
       "company_type              0\n",
       "last_new_job              0\n",
       "training_hours            0\n",
       "target                    0\n",
       "dtype: int64"
      ]
     },
     "execution_count": 47,
     "metadata": {},
     "output_type": "execute_result"
    }
   ],
   "source": [
    "train_df3.isna().sum()"
   ]
  },
  {
   "cell_type": "code",
   "execution_count": 48,
   "id": "41104128",
   "metadata": {
    "execution": {
     "iopub.execute_input": "2022-03-13T17:39:52.966550Z",
     "iopub.status.busy": "2022-03-13T17:39:52.965801Z",
     "iopub.status.idle": "2022-03-13T17:39:54.028604Z",
     "shell.execute_reply": "2022-03-13T17:39:54.027835Z"
    },
    "papermill": {
     "duration": 1.27626,
     "end_time": "2022-03-13T17:39:54.028780",
     "exception": false,
     "start_time": "2022-03-13T17:39:52.752520",
     "status": "completed"
    },
    "tags": []
   },
   "outputs": [
    {
     "data": {
      "text/plain": [
       "index                     0\n",
       "city                      0\n",
       "city_development_index    0\n",
       "gender                    0\n",
       "relevent_experience       0\n",
       "enrolled_university       0\n",
       "education_level           0\n",
       "major_discipline          0\n",
       "experience                0\n",
       "company_size              0\n",
       "company_type              0\n",
       "last_new_job              0\n",
       "training_hours            0\n",
       "dtype: int64"
      ]
     },
     "execution_count": 48,
     "metadata": {},
     "output_type": "execute_result"
    }
   ],
   "source": [
    "test_df3['gender'] = test_df3['gender'].apply(numeric_gender)\n",
    "test_df3['relevent_experience'] = test_df3['relevent_experience'].apply(numeric_relevant_experience)\n",
    "test_df3['enrolled_university'] = test_df3['enrolled_university'].apply(numeric_enrollment)\n",
    "test_df3['education_level'] = test_df3['education_level'].apply(numeric_education)\n",
    "test_df3['major_discipline'] = test_df3['major_discipline'].apply(numeric_major)\n",
    "test_df3['experience'] = test_df3['experience'].apply(numeric_experience)\n",
    "test_df3['company_type'] = test_df3['company_type'].apply(numeric_companytype)\n",
    "test_df3['company_size'] = test_df3['company_size'].apply(numeric_companysize)\n",
    "test_df3['last_new_job'] = test_df3['last_new_job'].apply(numeric_lastjob)\n",
    "test_df3['city'] = test_df3['city'].apply(numeric_city)\n",
    "\n",
    "\n",
    "\n",
    "X = np.round(imputer.fit_transform(test_df3))\n",
    "test_df3 = pd.DataFrame(X, columns = test_df3.columns)\n",
    "\n",
    "test_df3.isna().sum()"
   ]
  },
  {
   "cell_type": "code",
   "execution_count": 49,
   "id": "a30c08d7",
   "metadata": {
    "execution": {
     "iopub.execute_input": "2022-03-13T17:39:54.454681Z",
     "iopub.status.busy": "2022-03-13T17:39:54.454019Z",
     "iopub.status.idle": "2022-03-13T17:39:54.456664Z",
     "shell.execute_reply": "2022-03-13T17:39:54.457201Z"
    },
    "papermill": {
     "duration": 0.218857,
     "end_time": "2022-03-13T17:39:54.457381",
     "exception": false,
     "start_time": "2022-03-13T17:39:54.238524",
     "status": "completed"
    },
    "tags": []
   },
   "outputs": [
    {
     "data": {
      "text/plain": [
       "(4790, 13)"
      ]
     },
     "execution_count": 49,
     "metadata": {},
     "output_type": "execute_result"
    }
   ],
   "source": [
    "test_df3.shape"
   ]
  },
  {
   "cell_type": "code",
   "execution_count": 50,
   "id": "4ba03e5e",
   "metadata": {
    "execution": {
     "iopub.execute_input": "2022-03-13T17:39:54.884486Z",
     "iopub.status.busy": "2022-03-13T17:39:54.883663Z",
     "iopub.status.idle": "2022-03-13T17:39:54.915124Z",
     "shell.execute_reply": "2022-03-13T17:39:54.915639Z"
    },
    "papermill": {
     "duration": 0.249282,
     "end_time": "2022-03-13T17:39:54.915852",
     "exception": false,
     "start_time": "2022-03-13T17:39:54.666570",
     "status": "completed"
    },
    "tags": []
   },
   "outputs": [
    {
     "data": {
      "text/html": [
       "<div>\n",
       "<style scoped>\n",
       "    .dataframe tbody tr th:only-of-type {\n",
       "        vertical-align: middle;\n",
       "    }\n",
       "\n",
       "    .dataframe tbody tr th {\n",
       "        vertical-align: top;\n",
       "    }\n",
       "\n",
       "    .dataframe thead th {\n",
       "        text-align: right;\n",
       "    }\n",
       "</style>\n",
       "<table border=\"1\" class=\"dataframe\">\n",
       "  <thead>\n",
       "    <tr style=\"text-align: right;\">\n",
       "      <th></th>\n",
       "      <th>index</th>\n",
       "      <th>city</th>\n",
       "      <th>city_development_index</th>\n",
       "      <th>gender</th>\n",
       "      <th>relevent_experience</th>\n",
       "      <th>enrolled_university</th>\n",
       "      <th>education_level</th>\n",
       "      <th>major_discipline</th>\n",
       "      <th>experience</th>\n",
       "      <th>company_size</th>\n",
       "      <th>company_type</th>\n",
       "      <th>last_new_job</th>\n",
       "      <th>training_hours</th>\n",
       "    </tr>\n",
       "  </thead>\n",
       "  <tbody>\n",
       "    <tr>\n",
       "      <th>0</th>\n",
       "      <td>16834.0</td>\n",
       "      <td>56.0</td>\n",
       "      <td>1.0</td>\n",
       "      <td>1.0</td>\n",
       "      <td>1.0</td>\n",
       "      <td>1.0</td>\n",
       "      <td>1.0</td>\n",
       "      <td>2.0</td>\n",
       "      <td>15.0</td>\n",
       "      <td>4.0</td>\n",
       "      <td>1.0</td>\n",
       "      <td>3.0</td>\n",
       "      <td>58.0</td>\n",
       "    </tr>\n",
       "    <tr>\n",
       "      <th>1</th>\n",
       "      <td>15437.0</td>\n",
       "      <td>3.0</td>\n",
       "      <td>1.0</td>\n",
       "      <td>1.0</td>\n",
       "      <td>0.0</td>\n",
       "      <td>1.0</td>\n",
       "      <td>4.0</td>\n",
       "      <td>1.0</td>\n",
       "      <td>21.0</td>\n",
       "      <td>8.0</td>\n",
       "      <td>1.0</td>\n",
       "      <td>6.0</td>\n",
       "      <td>308.0</td>\n",
       "    </tr>\n",
       "    <tr>\n",
       "      <th>2</th>\n",
       "      <td>8549.0</td>\n",
       "      <td>16.0</td>\n",
       "      <td>1.0</td>\n",
       "      <td>1.0</td>\n",
       "      <td>0.0</td>\n",
       "      <td>3.0</td>\n",
       "      <td>2.0</td>\n",
       "      <td>1.0</td>\n",
       "      <td>2.0</td>\n",
       "      <td>4.0</td>\n",
       "      <td>2.0</td>\n",
       "      <td>1.0</td>\n",
       "      <td>8.0</td>\n",
       "    </tr>\n",
       "    <tr>\n",
       "      <th>3</th>\n",
       "      <td>7222.0</td>\n",
       "      <td>17.0</td>\n",
       "      <td>1.0</td>\n",
       "      <td>1.0</td>\n",
       "      <td>0.0</td>\n",
       "      <td>1.0</td>\n",
       "      <td>1.0</td>\n",
       "      <td>1.0</td>\n",
       "      <td>6.0</td>\n",
       "      <td>4.0</td>\n",
       "      <td>2.0</td>\n",
       "      <td>1.0</td>\n",
       "      <td>85.0</td>\n",
       "    </tr>\n",
       "    <tr>\n",
       "      <th>4</th>\n",
       "      <td>17054.0</td>\n",
       "      <td>17.0</td>\n",
       "      <td>1.0</td>\n",
       "      <td>2.0</td>\n",
       "      <td>1.0</td>\n",
       "      <td>1.0</td>\n",
       "      <td>3.0</td>\n",
       "      <td>1.0</td>\n",
       "      <td>7.0</td>\n",
       "      <td>5.0</td>\n",
       "      <td>1.0</td>\n",
       "      <td>2.0</td>\n",
       "      <td>3.0</td>\n",
       "    </tr>\n",
       "    <tr>\n",
       "      <th>...</th>\n",
       "      <td>...</td>\n",
       "      <td>...</td>\n",
       "      <td>...</td>\n",
       "      <td>...</td>\n",
       "      <td>...</td>\n",
       "      <td>...</td>\n",
       "      <td>...</td>\n",
       "      <td>...</td>\n",
       "      <td>...</td>\n",
       "      <td>...</td>\n",
       "      <td>...</td>\n",
       "      <td>...</td>\n",
       "      <td>...</td>\n",
       "    </tr>\n",
       "    <tr>\n",
       "      <th>4785</th>\n",
       "      <td>5915.0</td>\n",
       "      <td>9.0</td>\n",
       "      <td>1.0</td>\n",
       "      <td>1.0</td>\n",
       "      <td>1.0</td>\n",
       "      <td>3.0</td>\n",
       "      <td>3.0</td>\n",
       "      <td>1.0</td>\n",
       "      <td>3.0</td>\n",
       "      <td>3.0</td>\n",
       "      <td>1.0</td>\n",
       "      <td>3.0</td>\n",
       "      <td>17.0</td>\n",
       "    </tr>\n",
       "    <tr>\n",
       "      <th>4786</th>\n",
       "      <td>11083.0</td>\n",
       "      <td>17.0</td>\n",
       "      <td>1.0</td>\n",
       "      <td>1.0</td>\n",
       "      <td>1.0</td>\n",
       "      <td>1.0</td>\n",
       "      <td>3.0</td>\n",
       "      <td>1.0</td>\n",
       "      <td>11.0</td>\n",
       "      <td>4.0</td>\n",
       "      <td>1.0</td>\n",
       "      <td>6.0</td>\n",
       "      <td>77.0</td>\n",
       "    </tr>\n",
       "    <tr>\n",
       "      <th>4787</th>\n",
       "      <td>2335.0</td>\n",
       "      <td>17.0</td>\n",
       "      <td>1.0</td>\n",
       "      <td>1.0</td>\n",
       "      <td>1.0</td>\n",
       "      <td>2.0</td>\n",
       "      <td>3.0</td>\n",
       "      <td>4.0</td>\n",
       "      <td>21.0</td>\n",
       "      <td>6.0</td>\n",
       "      <td>1.0</td>\n",
       "      <td>2.0</td>\n",
       "      <td>258.0</td>\n",
       "    </tr>\n",
       "    <tr>\n",
       "      <th>4788</th>\n",
       "      <td>7691.0</td>\n",
       "      <td>9.0</td>\n",
       "      <td>1.0</td>\n",
       "      <td>1.0</td>\n",
       "      <td>1.0</td>\n",
       "      <td>3.0</td>\n",
       "      <td>4.0</td>\n",
       "      <td>1.0</td>\n",
       "      <td>6.0</td>\n",
       "      <td>3.0</td>\n",
       "      <td>1.0</td>\n",
       "      <td>2.0</td>\n",
       "      <td>95.0</td>\n",
       "    </tr>\n",
       "    <tr>\n",
       "      <th>4789</th>\n",
       "      <td>17911.0</td>\n",
       "      <td>56.0</td>\n",
       "      <td>1.0</td>\n",
       "      <td>1.0</td>\n",
       "      <td>1.0</td>\n",
       "      <td>2.0</td>\n",
       "      <td>3.0</td>\n",
       "      <td>1.0</td>\n",
       "      <td>7.0</td>\n",
       "      <td>1.0</td>\n",
       "      <td>3.0</td>\n",
       "      <td>2.0</td>\n",
       "      <td>20.0</td>\n",
       "    </tr>\n",
       "  </tbody>\n",
       "</table>\n",
       "<p>4790 rows × 13 columns</p>\n",
       "</div>"
      ],
      "text/plain": [
       "        index  city  city_development_index  gender  relevent_experience  \\\n",
       "0     16834.0  56.0                     1.0     1.0                  1.0   \n",
       "1     15437.0   3.0                     1.0     1.0                  0.0   \n",
       "2      8549.0  16.0                     1.0     1.0                  0.0   \n",
       "3      7222.0  17.0                     1.0     1.0                  0.0   \n",
       "4     17054.0  17.0                     1.0     2.0                  1.0   \n",
       "...       ...   ...                     ...     ...                  ...   \n",
       "4785   5915.0   9.0                     1.0     1.0                  1.0   \n",
       "4786  11083.0  17.0                     1.0     1.0                  1.0   \n",
       "4787   2335.0  17.0                     1.0     1.0                  1.0   \n",
       "4788   7691.0   9.0                     1.0     1.0                  1.0   \n",
       "4789  17911.0  56.0                     1.0     1.0                  1.0   \n",
       "\n",
       "      enrolled_university  education_level  major_discipline  experience  \\\n",
       "0                     1.0              1.0               2.0        15.0   \n",
       "1                     1.0              4.0               1.0        21.0   \n",
       "2                     3.0              2.0               1.0         2.0   \n",
       "3                     1.0              1.0               1.0         6.0   \n",
       "4                     1.0              3.0               1.0         7.0   \n",
       "...                   ...              ...               ...         ...   \n",
       "4785                  3.0              3.0               1.0         3.0   \n",
       "4786                  1.0              3.0               1.0        11.0   \n",
       "4787                  2.0              3.0               4.0        21.0   \n",
       "4788                  3.0              4.0               1.0         6.0   \n",
       "4789                  2.0              3.0               1.0         7.0   \n",
       "\n",
       "      company_size  company_type  last_new_job  training_hours  \n",
       "0              4.0           1.0           3.0            58.0  \n",
       "1              8.0           1.0           6.0           308.0  \n",
       "2              4.0           2.0           1.0             8.0  \n",
       "3              4.0           2.0           1.0            85.0  \n",
       "4              5.0           1.0           2.0             3.0  \n",
       "...            ...           ...           ...             ...  \n",
       "4785           3.0           1.0           3.0            17.0  \n",
       "4786           4.0           1.0           6.0            77.0  \n",
       "4787           6.0           1.0           2.0           258.0  \n",
       "4788           3.0           1.0           2.0            95.0  \n",
       "4789           1.0           3.0           2.0            20.0  \n",
       "\n",
       "[4790 rows x 13 columns]"
      ]
     },
     "execution_count": 50,
     "metadata": {},
     "output_type": "execute_result"
    }
   ],
   "source": [
    "test_df3"
   ]
  },
  {
   "cell_type": "markdown",
   "id": "1ffb2f74",
   "metadata": {
    "papermill": {
     "duration": 0.210832,
     "end_time": "2022-03-13T17:39:55.339080",
     "exception": false,
     "start_time": "2022-03-13T17:39:55.128248",
     "status": "completed"
    },
    "tags": []
   },
   "source": [
    "**Method 4**"
   ]
  },
  {
   "cell_type": "code",
   "execution_count": 51,
   "id": "eb209e4a",
   "metadata": {
    "execution": {
     "iopub.execute_input": "2022-03-13T17:39:55.770253Z",
     "iopub.status.busy": "2022-03-13T17:39:55.769503Z",
     "iopub.status.idle": "2022-03-13T17:39:55.772569Z",
     "shell.execute_reply": "2022-03-13T17:39:55.772023Z"
    },
    "papermill": {
     "duration": 0.221761,
     "end_time": "2022-03-13T17:39:55.772750",
     "exception": false,
     "start_time": "2022-03-13T17:39:55.550989",
     "status": "completed"
    },
    "tags": []
   },
   "outputs": [],
   "source": [
    "def clean_experience(df):\n",
    "    for i in df[\"experience\"]:\n",
    "        if(i==\">20\"):\n",
    "            df[\"experience\"][df[\"experience\"]==i]=27\n",
    "        if(i == \"<1\"):\n",
    "            df[\"experience\"][df[\"experience\"]==i]=0\n",
    "\n",
    "    df[\"experience\"] = df[\"experience\"].fillna(0)\n",
    "    df[\"experience\"] = df['experience'].astype('int')"
   ]
  },
  {
   "cell_type": "code",
   "execution_count": 52,
   "id": "6f4197cf",
   "metadata": {
    "execution": {
     "iopub.execute_input": "2022-03-13T17:39:56.202675Z",
     "iopub.status.busy": "2022-03-13T17:39:56.201994Z",
     "iopub.status.idle": "2022-03-13T17:39:56.204818Z",
     "shell.execute_reply": "2022-03-13T17:39:56.204308Z"
    },
    "papermill": {
     "duration": 0.219545,
     "end_time": "2022-03-13T17:39:56.204959",
     "exception": false,
     "start_time": "2022-03-13T17:39:55.985414",
     "status": "completed"
    },
    "tags": []
   },
   "outputs": [],
   "source": [
    "def clean_NAN(df):\n",
    "    df[\"gender\"] = df[\"gender\"].fillna(\"Unknown\")\n",
    "    df[\"education_level\"]=df[\"education_level\"].fillna(\"Unknown\")\n",
    "    df[\"major_discipline\"].fillna(value=\"Unknown\", inplace=True)\n",
    "    #df[\"experience\"] = df[\"experience\"].fillna(df[\"experience\"].mean())\n",
    "    df[\"company_type\"] = df[\"company_type\"].fillna(\"Unknown\")\n"
   ]
  },
  {
   "cell_type": "code",
   "execution_count": 53,
   "id": "fed1e689",
   "metadata": {
    "execution": {
     "iopub.execute_input": "2022-03-13T17:39:56.659376Z",
     "iopub.status.busy": "2022-03-13T17:39:56.658611Z",
     "iopub.status.idle": "2022-03-13T17:39:56.667745Z",
     "shell.execute_reply": "2022-03-13T17:39:56.668408Z"
    },
    "papermill": {
     "duration": 0.243756,
     "end_time": "2022-03-13T17:39:56.668582",
     "exception": false,
     "start_time": "2022-03-13T17:39:56.424826",
     "status": "completed"
    },
    "tags": []
   },
   "outputs": [],
   "source": [
    "def clean_company_size_1(df):\n",
    "    converted_list_1 = []\n",
    "    converted_list_2 = []\n",
    "    converted_list_3 = []\n",
    "    for i in df[\"company_size\"]:\n",
    "        if i == \"10/49\":\n",
    "            i = \"10-49\"\n",
    "            converted_list_1.append(i)\n",
    "        converted_list_1.append(i)\n",
    "        if i == \"<10\":\n",
    "            i = '1-9'\n",
    "            converted_list_2.append(i)\n",
    "        converted_list_2.append(i)\n",
    "        if i == \"10000+\":\n",
    "            i = '10000-20000'\n",
    "            converted_list_3.append(i)\n",
    "        converted_list_3.append(i)\n",
    "    df[\"company_size\"]=pd.Series(converted_list_1)\n",
    "    df[\"company_size\"]=pd.Series(converted_list_2)\n",
    "    df[\"company_size\"]=pd.Series(converted_list_3)\n",
    "    df[\"company_size\"]=df[\"company_size\"].fillna(\"0-0\")\n",
    "    new = df['company_size'].str.split(\"-\", n = 1, expand = True) \n",
    "    df['company_size_min']= new[0]\n",
    "    df['company_size_max']= new[1] \n",
    "    df[\"company_size_max\"] = df['company_size_max'].astype('int')\n",
    "    df[\"company_size_min\"] = df['company_size_min'].astype('int')"
   ]
  },
  {
   "cell_type": "code",
   "execution_count": 54,
   "id": "583cb0f1",
   "metadata": {
    "execution": {
     "iopub.execute_input": "2022-03-13T17:39:57.096588Z",
     "iopub.status.busy": "2022-03-13T17:39:57.095889Z",
     "iopub.status.idle": "2022-03-13T17:39:57.102771Z",
     "shell.execute_reply": "2022-03-13T17:39:57.103322Z"
    },
    "papermill": {
     "duration": 0.222335,
     "end_time": "2022-03-13T17:39:57.103501",
     "exception": false,
     "start_time": "2022-03-13T17:39:56.881166",
     "status": "completed"
    },
    "tags": []
   },
   "outputs": [],
   "source": [
    "def clean_last_new_job(df):\n",
    "    converted_list_1 = []\n",
    "    converted_list_2 = []\n",
    "    for i in df[\"last_new_job\"]:\n",
    "        if i == \"never\" or i == np.NaN:\n",
    "            i = 0\n",
    "            converted_list_1.append(i)\n",
    "        converted_list_1.append(i)\n",
    "        if i == \">4\":\n",
    "            i = 6\n",
    "            converted_list_2.append(i)\n",
    "        converted_list_2.append(i)\n",
    "    df[\"last_new_job\"]=pd.Series(converted_list_1)\n",
    "    df[\"last_new_job\"]=pd.Series(converted_list_2)\n",
    "    df[\"last_new_job\"] = df[\"last_new_job\"].fillna(0)\n",
    "    df[\"last_new_job\"] = df[\"last_new_job\"].astype('int')"
   ]
  },
  {
   "cell_type": "code",
   "execution_count": 55,
   "id": "5835c69c",
   "metadata": {
    "execution": {
     "iopub.execute_input": "2022-03-13T17:39:57.531305Z",
     "iopub.status.busy": "2022-03-13T17:39:57.530582Z",
     "iopub.status.idle": "2022-03-13T17:39:57.536340Z",
     "shell.execute_reply": "2022-03-13T17:39:57.536958Z"
    },
    "papermill": {
     "duration": 0.223132,
     "end_time": "2022-03-13T17:39:57.537328",
     "exception": false,
     "start_time": "2022-03-13T17:39:57.314196",
     "status": "completed"
    },
    "tags": []
   },
   "outputs": [],
   "source": [
    "def clean_city(df):\n",
    "    converted_list_1 = []\n",
    "    for i in range(len(df[\"city\"])):\n",
    "        j = df[\"city\"][i].replace(\"city_\",\"\")\n",
    "        converted_list_1.append(j)\n",
    "    df[\"city\"]=pd.Series(converted_list_1)\n",
    "    df[\"city\"] = df[\"city\"].astype('int')"
   ]
  },
  {
   "cell_type": "code",
   "execution_count": 56,
   "id": "73f192a9",
   "metadata": {
    "execution": {
     "iopub.execute_input": "2022-03-13T17:39:57.984066Z",
     "iopub.status.busy": "2022-03-13T17:39:57.983296Z",
     "iopub.status.idle": "2022-03-13T17:39:57.989753Z",
     "shell.execute_reply": "2022-03-13T17:39:57.990381Z"
    },
    "papermill": {
     "duration": 0.232247,
     "end_time": "2022-03-13T17:39:57.990555",
     "exception": false,
     "start_time": "2022-03-13T17:39:57.758308",
     "status": "completed"
    },
    "tags": []
   },
   "outputs": [],
   "source": [
    "def clean_relevent_experience(df):\n",
    "    converted_list_1 = []\n",
    "    converted_list_2 = []\n",
    "    for i in df[\"relevent_experience\"]:\n",
    "        if i == \"Has relevent experience\":\n",
    "            i = 1\n",
    "            converted_list_1.append(i)\n",
    "        converted_list_1.append(i)\n",
    "        if i == \"No relevent experience\":\n",
    "            i = 0\n",
    "            converted_list_2.append(i)\n",
    "        converted_list_2.append(i)\n",
    "    df[\"relevent_experience\"]=pd.Series(converted_list_1)\n",
    "    df[\"relevent_experience\"]=pd.Series(converted_list_2)"
   ]
  },
  {
   "cell_type": "code",
   "execution_count": 57,
   "id": "9b00e389",
   "metadata": {
    "execution": {
     "iopub.execute_input": "2022-03-13T17:39:58.419909Z",
     "iopub.status.busy": "2022-03-13T17:39:58.419198Z",
     "iopub.status.idle": "2022-03-13T17:39:58.641485Z",
     "shell.execute_reply": "2022-03-13T17:39:58.640932Z"
    },
    "papermill": {
     "duration": 0.435507,
     "end_time": "2022-03-13T17:39:58.641633",
     "exception": false,
     "start_time": "2022-03-13T17:39:58.206126",
     "status": "completed"
    },
    "tags": []
   },
   "outputs": [],
   "source": [
    "import category_encoders as ce\n",
    "def one_hot_encoding(df,col):\n",
    "    one_hot_encoder=ce.OneHotEncoder(cols=col,return_df=True,use_cat_names=True)\n",
    "    df_final = one_hot_encoder.fit_transform(df)\n",
    "    return df_final\n",
    "\n",
    "# Applying one hot encoding on all required columns\n",
    "def apply_one_hot_encoding(df):\n",
    "    df_final = one_hot_encoding(df,\"enrolled_university\")\n",
    "    df_final = one_hot_encoding(df_final,\"gender\")\n",
    "    df_final = one_hot_encoding(df_final,\"education_level\")\n",
    "    df_final = one_hot_encoding(df_final,\"major_discipline\")\n",
    "    df_final = one_hot_encoding(df_final,\"company_type\")\n",
    "    return df_final"
   ]
  },
  {
   "cell_type": "code",
   "execution_count": 58,
   "id": "e976ec4b",
   "metadata": {
    "execution": {
     "iopub.execute_input": "2022-03-13T17:39:59.074043Z",
     "iopub.status.busy": "2022-03-13T17:39:59.073339Z",
     "iopub.status.idle": "2022-03-13T17:39:59.083358Z",
     "shell.execute_reply": "2022-03-13T17:39:59.082681Z"
    },
    "papermill": {
     "duration": 0.226093,
     "end_time": "2022-03-13T17:39:59.083513",
     "exception": false,
     "start_time": "2022-03-13T17:39:58.857420",
     "status": "completed"
    },
    "tags": []
   },
   "outputs": [],
   "source": [
    "def clean_company_size_2(df):\n",
    "    converted_list_1 = []\n",
    "    converted_list_2 = []\n",
    "    for i in df[\"company_size_min\"]:\n",
    "        if i == 0:\n",
    "            i = int(df[\"company_size_min\"].mean())\n",
    "            converted_list_1.append(i)\n",
    "        converted_list_1.append(i)\n",
    "    for i in df[\"company_size_max\"]:\n",
    "        if i == 0:\n",
    "            i = int(df[\"company_size_max\"].mean())\n",
    "            converted_list_2.append(i)\n",
    "        converted_list_2.append(i)\n",
    "    df[\"company_size_min\"]=pd.Series(converted_list_1)\n",
    "    df[\"company_size_max\"]=pd.Series(converted_list_2)\n",
    "    df[\"company_size_min\"] = df[\"company_size_min\"].fillna(int(df[\"company_size_min\"].mean()))\n",
    "    df[\"company_size_max\"] = df[\"company_size_max\"].fillna(int(df[\"company_size_max\"].mean()))"
   ]
  },
  {
   "cell_type": "code",
   "execution_count": 59,
   "id": "7e973a1d",
   "metadata": {
    "execution": {
     "iopub.execute_input": "2022-03-13T17:39:59.517837Z",
     "iopub.status.busy": "2022-03-13T17:39:59.517136Z",
     "iopub.status.idle": "2022-03-13T17:39:59.519659Z",
     "shell.execute_reply": "2022-03-13T17:39:59.519122Z"
    },
    "papermill": {
     "duration": 0.223655,
     "end_time": "2022-03-13T17:39:59.519814",
     "exception": false,
     "start_time": "2022-03-13T17:39:59.296159",
     "status": "completed"
    },
    "tags": []
   },
   "outputs": [],
   "source": [
    "def remove_columns(df):\n",
    "    df_final = df.drop(['index','company_size'],axis=1)\n",
    "    return df_final"
   ]
  },
  {
   "cell_type": "code",
   "execution_count": 60,
   "id": "b931f51a",
   "metadata": {
    "execution": {
     "iopub.execute_input": "2022-03-13T17:39:59.953473Z",
     "iopub.status.busy": "2022-03-13T17:39:59.952771Z",
     "iopub.status.idle": "2022-03-13T17:39:59.955315Z",
     "shell.execute_reply": "2022-03-13T17:39:59.955829Z"
    },
    "papermill": {
     "duration": 0.223003,
     "end_time": "2022-03-13T17:39:59.956017",
     "exception": false,
     "start_time": "2022-03-13T17:39:59.733014",
     "status": "completed"
    },
    "tags": []
   },
   "outputs": [],
   "source": [
    "def XY_Split(df):\n",
    "    X = df.drop(\"target\",axis=1)\n",
    "    Y = pd.DataFrame(df[\"target\"])\n",
    "    return X,Y"
   ]
  },
  {
   "cell_type": "code",
   "execution_count": 61,
   "id": "9dc888d8",
   "metadata": {
    "execution": {
     "iopub.execute_input": "2022-03-13T17:40:00.389851Z",
     "iopub.status.busy": "2022-03-13T17:40:00.389108Z",
     "iopub.status.idle": "2022-03-13T17:40:00.392475Z",
     "shell.execute_reply": "2022-03-13T17:40:00.391800Z"
    },
    "papermill": {
     "duration": 0.221618,
     "end_time": "2022-03-13T17:40:00.392615",
     "exception": false,
     "start_time": "2022-03-13T17:40:00.170997",
     "status": "completed"
    },
    "tags": []
   },
   "outputs": [],
   "source": [
    "def clean_data(df, x1):\n",
    "    clean_experience(df)\n",
    "    clean_NAN(df)\n",
    "    clean_company_size_1(df)\n",
    "    clean_last_new_job(df)\n",
    "    clean_city(df)\n",
    "    clean_relevent_experience(df)\n",
    "    df_one_hot = apply_one_hot_encoding(df)\n",
    "    clean_company_size_2(df_one_hot)\n",
    "    df_final = remove_columns(df_one_hot)\n",
    "    if x1==1:\n",
    "        X,Y = XY_Split(df_final)\n",
    "        return df_final,X,Y\n",
    "    else:\n",
    "        return df_final"
   ]
  },
  {
   "cell_type": "code",
   "execution_count": 62,
   "id": "3c7bf7aa",
   "metadata": {
    "execution": {
     "iopub.execute_input": "2022-03-13T17:40:00.830074Z",
     "iopub.status.busy": "2022-03-13T17:40:00.829369Z",
     "iopub.status.idle": "2022-03-13T17:40:01.799194Z",
     "shell.execute_reply": "2022-03-13T17:40:01.798590Z"
    },
    "papermill": {
     "duration": 1.19261,
     "end_time": "2022-03-13T17:40:01.799355",
     "exception": false,
     "start_time": "2022-03-13T17:40:00.606745",
     "status": "completed"
    },
    "tags": []
   },
   "outputs": [
    {
     "name": "stderr",
     "output_type": "stream",
     "text": [
      "/opt/conda/lib/python3.7/site-packages/ipykernel_launcher.py:4: SettingWithCopyWarning: \n",
      "A value is trying to be set on a copy of a slice from a DataFrame\n",
      "\n",
      "See the caveats in the documentation: https://pandas.pydata.org/pandas-docs/stable/user_guide/indexing.html#returning-a-view-versus-a-copy\n",
      "  after removing the cwd from sys.path.\n",
      "/opt/conda/lib/python3.7/site-packages/ipykernel_launcher.py:6: SettingWithCopyWarning: \n",
      "A value is trying to be set on a copy of a slice from a DataFrame\n",
      "\n",
      "See the caveats in the documentation: https://pandas.pydata.org/pandas-docs/stable/user_guide/indexing.html#returning-a-view-versus-a-copy\n",
      "  \n"
     ]
    }
   ],
   "source": [
    "df_final,X_4,Y_4 = clean_data(train_df4,1)"
   ]
  },
  {
   "cell_type": "code",
   "execution_count": 63,
   "id": "5c19c1c8",
   "metadata": {
    "execution": {
     "iopub.execute_input": "2022-03-13T17:40:02.236006Z",
     "iopub.status.busy": "2022-03-13T17:40:02.235276Z",
     "iopub.status.idle": "2022-03-13T17:40:02.566503Z",
     "shell.execute_reply": "2022-03-13T17:40:02.567008Z"
    },
    "papermill": {
     "duration": 0.548376,
     "end_time": "2022-03-13T17:40:02.567193",
     "exception": false,
     "start_time": "2022-03-13T17:40:02.018817",
     "status": "completed"
    },
    "tags": []
   },
   "outputs": [
    {
     "name": "stderr",
     "output_type": "stream",
     "text": [
      "/opt/conda/lib/python3.7/site-packages/ipykernel_launcher.py:4: SettingWithCopyWarning: \n",
      "A value is trying to be set on a copy of a slice from a DataFrame\n",
      "\n",
      "See the caveats in the documentation: https://pandas.pydata.org/pandas-docs/stable/user_guide/indexing.html#returning-a-view-versus-a-copy\n",
      "  after removing the cwd from sys.path.\n",
      "/opt/conda/lib/python3.7/site-packages/ipykernel_launcher.py:6: SettingWithCopyWarning: \n",
      "A value is trying to be set on a copy of a slice from a DataFrame\n",
      "\n",
      "See the caveats in the documentation: https://pandas.pydata.org/pandas-docs/stable/user_guide/indexing.html#returning-a-view-versus-a-copy\n",
      "  \n"
     ]
    }
   ],
   "source": [
    "df_ftest = clean_data(test_df4,0)"
   ]
  },
  {
   "cell_type": "code",
   "execution_count": 64,
   "id": "25df132b",
   "metadata": {
    "execution": {
     "iopub.execute_input": "2022-03-13T17:40:03.009351Z",
     "iopub.status.busy": "2022-03-13T17:40:03.008318Z",
     "iopub.status.idle": "2022-03-13T17:40:03.029623Z",
     "shell.execute_reply": "2022-03-13T17:40:03.030165Z"
    },
    "papermill": {
     "duration": 0.248182,
     "end_time": "2022-03-13T17:40:03.030352",
     "exception": false,
     "start_time": "2022-03-13T17:40:02.782170",
     "status": "completed"
    },
    "tags": []
   },
   "outputs": [
    {
     "data": {
      "text/html": [
       "<div>\n",
       "<style scoped>\n",
       "    .dataframe tbody tr th:only-of-type {\n",
       "        vertical-align: middle;\n",
       "    }\n",
       "\n",
       "    .dataframe tbody tr th {\n",
       "        vertical-align: top;\n",
       "    }\n",
       "\n",
       "    .dataframe thead th {\n",
       "        text-align: right;\n",
       "    }\n",
       "</style>\n",
       "<table border=\"1\" class=\"dataframe\">\n",
       "  <thead>\n",
       "    <tr style=\"text-align: right;\">\n",
       "      <th></th>\n",
       "      <th>city</th>\n",
       "      <th>city_development_index</th>\n",
       "      <th>gender_Male</th>\n",
       "      <th>gender_Female</th>\n",
       "      <th>gender_Unknown</th>\n",
       "      <th>gender_Other</th>\n",
       "      <th>relevent_experience</th>\n",
       "      <th>enrolled_university_no_enrollment</th>\n",
       "      <th>enrolled_university_Full time course</th>\n",
       "      <th>enrolled_university_nan</th>\n",
       "      <th>...</th>\n",
       "      <th>company_type_Unknown</th>\n",
       "      <th>company_type_Early Stage Startup</th>\n",
       "      <th>company_type_Public Sector</th>\n",
       "      <th>company_type_Other</th>\n",
       "      <th>company_type_NGO</th>\n",
       "      <th>company_type_Funded Startup</th>\n",
       "      <th>last_new_job</th>\n",
       "      <th>training_hours</th>\n",
       "      <th>company_size_min</th>\n",
       "      <th>company_size_max</th>\n",
       "    </tr>\n",
       "  </thead>\n",
       "  <tbody>\n",
       "    <tr>\n",
       "      <th>0</th>\n",
       "      <td>104</td>\n",
       "      <td>0.924</td>\n",
       "      <td>1</td>\n",
       "      <td>0</td>\n",
       "      <td>0</td>\n",
       "      <td>0</td>\n",
       "      <td>1</td>\n",
       "      <td>1</td>\n",
       "      <td>0</td>\n",
       "      <td>0</td>\n",
       "      <td>...</td>\n",
       "      <td>0</td>\n",
       "      <td>0</td>\n",
       "      <td>0</td>\n",
       "      <td>0</td>\n",
       "      <td>0</td>\n",
       "      <td>0</td>\n",
       "      <td>2</td>\n",
       "      <td>58</td>\n",
       "      <td>100</td>\n",
       "      <td>500</td>\n",
       "    </tr>\n",
       "    <tr>\n",
       "      <th>1</th>\n",
       "      <td>114</td>\n",
       "      <td>0.926</td>\n",
       "      <td>1</td>\n",
       "      <td>0</td>\n",
       "      <td>0</td>\n",
       "      <td>0</td>\n",
       "      <td>0</td>\n",
       "      <td>1</td>\n",
       "      <td>0</td>\n",
       "      <td>0</td>\n",
       "      <td>...</td>\n",
       "      <td>0</td>\n",
       "      <td>0</td>\n",
       "      <td>0</td>\n",
       "      <td>0</td>\n",
       "      <td>0</td>\n",
       "      <td>0</td>\n",
       "      <td>6</td>\n",
       "      <td>308</td>\n",
       "      <td>10000</td>\n",
       "      <td>20000</td>\n",
       "    </tr>\n",
       "    <tr>\n",
       "      <th>2</th>\n",
       "      <td>83</td>\n",
       "      <td>0.923</td>\n",
       "      <td>1</td>\n",
       "      <td>0</td>\n",
       "      <td>0</td>\n",
       "      <td>0</td>\n",
       "      <td>0</td>\n",
       "      <td>0</td>\n",
       "      <td>1</td>\n",
       "      <td>0</td>\n",
       "      <td>...</td>\n",
       "      <td>1</td>\n",
       "      <td>0</td>\n",
       "      <td>0</td>\n",
       "      <td>0</td>\n",
       "      <td>0</td>\n",
       "      <td>0</td>\n",
       "      <td>6</td>\n",
       "      <td>8</td>\n",
       "      <td>10000</td>\n",
       "      <td>20000</td>\n",
       "    </tr>\n",
       "    <tr>\n",
       "      <th>3</th>\n",
       "      <td>103</td>\n",
       "      <td>0.920</td>\n",
       "      <td>1</td>\n",
       "      <td>0</td>\n",
       "      <td>0</td>\n",
       "      <td>0</td>\n",
       "      <td>0</td>\n",
       "      <td>1</td>\n",
       "      <td>0</td>\n",
       "      <td>0</td>\n",
       "      <td>...</td>\n",
       "      <td>1</td>\n",
       "      <td>0</td>\n",
       "      <td>0</td>\n",
       "      <td>0</td>\n",
       "      <td>0</td>\n",
       "      <td>0</td>\n",
       "      <td>0</td>\n",
       "      <td>85</td>\n",
       "      <td>2233</td>\n",
       "      <td>4690</td>\n",
       "    </tr>\n",
       "    <tr>\n",
       "      <th>4</th>\n",
       "      <td>103</td>\n",
       "      <td>0.920</td>\n",
       "      <td>0</td>\n",
       "      <td>1</td>\n",
       "      <td>0</td>\n",
       "      <td>0</td>\n",
       "      <td>0</td>\n",
       "      <td>1</td>\n",
       "      <td>0</td>\n",
       "      <td>0</td>\n",
       "      <td>...</td>\n",
       "      <td>1</td>\n",
       "      <td>0</td>\n",
       "      <td>0</td>\n",
       "      <td>0</td>\n",
       "      <td>0</td>\n",
       "      <td>0</td>\n",
       "      <td>0</td>\n",
       "      <td>3</td>\n",
       "      <td>2233</td>\n",
       "      <td>4690</td>\n",
       "    </tr>\n",
       "    <tr>\n",
       "      <th>...</th>\n",
       "      <td>...</td>\n",
       "      <td>...</td>\n",
       "      <td>...</td>\n",
       "      <td>...</td>\n",
       "      <td>...</td>\n",
       "      <td>...</td>\n",
       "      <td>...</td>\n",
       "      <td>...</td>\n",
       "      <td>...</td>\n",
       "      <td>...</td>\n",
       "      <td>...</td>\n",
       "      <td>...</td>\n",
       "      <td>...</td>\n",
       "      <td>...</td>\n",
       "      <td>...</td>\n",
       "      <td>...</td>\n",
       "      <td>...</td>\n",
       "      <td>...</td>\n",
       "      <td>...</td>\n",
       "      <td>...</td>\n",
       "      <td>...</td>\n",
       "    </tr>\n",
       "    <tr>\n",
       "      <th>4785</th>\n",
       "      <td>21</td>\n",
       "      <td>0.624</td>\n",
       "      <td>1</td>\n",
       "      <td>0</td>\n",
       "      <td>0</td>\n",
       "      <td>0</td>\n",
       "      <td>1</td>\n",
       "      <td>0</td>\n",
       "      <td>1</td>\n",
       "      <td>0</td>\n",
       "      <td>...</td>\n",
       "      <td>0</td>\n",
       "      <td>0</td>\n",
       "      <td>0</td>\n",
       "      <td>0</td>\n",
       "      <td>0</td>\n",
       "      <td>0</td>\n",
       "      <td>2</td>\n",
       "      <td>17</td>\n",
       "      <td>1000</td>\n",
       "      <td>4999</td>\n",
       "    </tr>\n",
       "    <tr>\n",
       "      <th>4786</th>\n",
       "      <td>103</td>\n",
       "      <td>0.920</td>\n",
       "      <td>1</td>\n",
       "      <td>0</td>\n",
       "      <td>0</td>\n",
       "      <td>0</td>\n",
       "      <td>1</td>\n",
       "      <td>1</td>\n",
       "      <td>0</td>\n",
       "      <td>0</td>\n",
       "      <td>...</td>\n",
       "      <td>0</td>\n",
       "      <td>0</td>\n",
       "      <td>0</td>\n",
       "      <td>0</td>\n",
       "      <td>0</td>\n",
       "      <td>0</td>\n",
       "      <td>1</td>\n",
       "      <td>77</td>\n",
       "      <td>2233</td>\n",
       "      <td>4690</td>\n",
       "    </tr>\n",
       "    <tr>\n",
       "      <th>4787</th>\n",
       "      <td>103</td>\n",
       "      <td>0.920</td>\n",
       "      <td>0</td>\n",
       "      <td>0</td>\n",
       "      <td>1</td>\n",
       "      <td>0</td>\n",
       "      <td>0</td>\n",
       "      <td>0</td>\n",
       "      <td>0</td>\n",
       "      <td>1</td>\n",
       "      <td>...</td>\n",
       "      <td>1</td>\n",
       "      <td>0</td>\n",
       "      <td>0</td>\n",
       "      <td>0</td>\n",
       "      <td>0</td>\n",
       "      <td>0</td>\n",
       "      <td>6</td>\n",
       "      <td>258</td>\n",
       "      <td>2233</td>\n",
       "      <td>4690</td>\n",
       "    </tr>\n",
       "    <tr>\n",
       "      <th>4788</th>\n",
       "      <td>21</td>\n",
       "      <td>0.624</td>\n",
       "      <td>1</td>\n",
       "      <td>0</td>\n",
       "      <td>0</td>\n",
       "      <td>0</td>\n",
       "      <td>0</td>\n",
       "      <td>0</td>\n",
       "      <td>1</td>\n",
       "      <td>0</td>\n",
       "      <td>...</td>\n",
       "      <td>0</td>\n",
       "      <td>0</td>\n",
       "      <td>0</td>\n",
       "      <td>0</td>\n",
       "      <td>0</td>\n",
       "      <td>0</td>\n",
       "      <td>6</td>\n",
       "      <td>95</td>\n",
       "      <td>2233</td>\n",
       "      <td>4690</td>\n",
       "    </tr>\n",
       "    <tr>\n",
       "      <th>4789</th>\n",
       "      <td>104</td>\n",
       "      <td>0.924</td>\n",
       "      <td>1</td>\n",
       "      <td>0</td>\n",
       "      <td>0</td>\n",
       "      <td>0</td>\n",
       "      <td>0</td>\n",
       "      <td>0</td>\n",
       "      <td>0</td>\n",
       "      <td>0</td>\n",
       "      <td>...</td>\n",
       "      <td>0</td>\n",
       "      <td>1</td>\n",
       "      <td>0</td>\n",
       "      <td>0</td>\n",
       "      <td>0</td>\n",
       "      <td>0</td>\n",
       "      <td>1</td>\n",
       "      <td>20</td>\n",
       "      <td>2233</td>\n",
       "      <td>4690</td>\n",
       "    </tr>\n",
       "  </tbody>\n",
       "</table>\n",
       "<p>4790 rows × 36 columns</p>\n",
       "</div>"
      ],
      "text/plain": [
       "      city  city_development_index  gender_Male  gender_Female  \\\n",
       "0      104                   0.924            1              0   \n",
       "1      114                   0.926            1              0   \n",
       "2       83                   0.923            1              0   \n",
       "3      103                   0.920            1              0   \n",
       "4      103                   0.920            0              1   \n",
       "...    ...                     ...          ...            ...   \n",
       "4785    21                   0.624            1              0   \n",
       "4786   103                   0.920            1              0   \n",
       "4787   103                   0.920            0              0   \n",
       "4788    21                   0.624            1              0   \n",
       "4789   104                   0.924            1              0   \n",
       "\n",
       "      gender_Unknown  gender_Other  relevent_experience  \\\n",
       "0                  0             0                    1   \n",
       "1                  0             0                    0   \n",
       "2                  0             0                    0   \n",
       "3                  0             0                    0   \n",
       "4                  0             0                    0   \n",
       "...              ...           ...                  ...   \n",
       "4785               0             0                    1   \n",
       "4786               0             0                    1   \n",
       "4787               1             0                    0   \n",
       "4788               0             0                    0   \n",
       "4789               0             0                    0   \n",
       "\n",
       "      enrolled_university_no_enrollment  enrolled_university_Full time course  \\\n",
       "0                                     1                                     0   \n",
       "1                                     1                                     0   \n",
       "2                                     0                                     1   \n",
       "3                                     1                                     0   \n",
       "4                                     1                                     0   \n",
       "...                                 ...                                   ...   \n",
       "4785                                  0                                     1   \n",
       "4786                                  1                                     0   \n",
       "4787                                  0                                     0   \n",
       "4788                                  0                                     1   \n",
       "4789                                  0                                     0   \n",
       "\n",
       "      enrolled_university_nan  ...  company_type_Unknown  \\\n",
       "0                           0  ...                     0   \n",
       "1                           0  ...                     0   \n",
       "2                           0  ...                     1   \n",
       "3                           0  ...                     1   \n",
       "4                           0  ...                     1   \n",
       "...                       ...  ...                   ...   \n",
       "4785                        0  ...                     0   \n",
       "4786                        0  ...                     0   \n",
       "4787                        1  ...                     1   \n",
       "4788                        0  ...                     0   \n",
       "4789                        0  ...                     0   \n",
       "\n",
       "      company_type_Early Stage Startup  company_type_Public Sector  \\\n",
       "0                                    0                           0   \n",
       "1                                    0                           0   \n",
       "2                                    0                           0   \n",
       "3                                    0                           0   \n",
       "4                                    0                           0   \n",
       "...                                ...                         ...   \n",
       "4785                                 0                           0   \n",
       "4786                                 0                           0   \n",
       "4787                                 0                           0   \n",
       "4788                                 0                           0   \n",
       "4789                                 1                           0   \n",
       "\n",
       "      company_type_Other  company_type_NGO  company_type_Funded Startup  \\\n",
       "0                      0                 0                            0   \n",
       "1                      0                 0                            0   \n",
       "2                      0                 0                            0   \n",
       "3                      0                 0                            0   \n",
       "4                      0                 0                            0   \n",
       "...                  ...               ...                          ...   \n",
       "4785                   0                 0                            0   \n",
       "4786                   0                 0                            0   \n",
       "4787                   0                 0                            0   \n",
       "4788                   0                 0                            0   \n",
       "4789                   0                 0                            0   \n",
       "\n",
       "      last_new_job  training_hours  company_size_min  company_size_max  \n",
       "0                2              58               100               500  \n",
       "1                6             308             10000             20000  \n",
       "2                6               8             10000             20000  \n",
       "3                0              85              2233              4690  \n",
       "4                0               3              2233              4690  \n",
       "...            ...             ...               ...               ...  \n",
       "4785             2              17              1000              4999  \n",
       "4786             1              77              2233              4690  \n",
       "4787             6             258              2233              4690  \n",
       "4788             6              95              2233              4690  \n",
       "4789             1              20              2233              4690  \n",
       "\n",
       "[4790 rows x 36 columns]"
      ]
     },
     "execution_count": 64,
     "metadata": {},
     "output_type": "execute_result"
    }
   ],
   "source": [
    "df_ftest"
   ]
  },
  {
   "cell_type": "markdown",
   "id": "4f2cde97",
   "metadata": {
    "papermill": {
     "duration": 0.212738,
     "end_time": "2022-03-13T17:40:03.456617",
     "exception": false,
     "start_time": "2022-03-13T17:40:03.243879",
     "status": "completed"
    },
    "tags": []
   },
   "source": [
    "**Method 5**"
   ]
  },
  {
   "cell_type": "code",
   "execution_count": 65,
   "id": "02bb6e23",
   "metadata": {
    "execution": {
     "iopub.execute_input": "2022-03-13T17:40:03.902118Z",
     "iopub.status.busy": "2022-03-13T17:40:03.901184Z",
     "iopub.status.idle": "2022-03-13T17:40:03.951412Z",
     "shell.execute_reply": "2022-03-13T17:40:03.950804Z"
    },
    "papermill": {
     "duration": 0.277079,
     "end_time": "2022-03-13T17:40:03.951564",
     "exception": false,
     "start_time": "2022-03-13T17:40:03.674485",
     "status": "completed"
    },
    "tags": []
   },
   "outputs": [],
   "source": [
    "train_df5.drop(['index','city'],axis=1,inplace=True)\n",
    "train_df5.replace(to_replace = '<1',value = '0',inplace = True)\n",
    "train_df5.replace(to_replace = '>20',value = '21',inplace=True)\n",
    "train_df5.replace(to_replace = 'never',value = '0',inplace=True)\n",
    "train_df5.replace(to_replace = '>4',value = '5',inplace=True)\n",
    "\n",
    "test_df5.drop(['index','city'],axis=1,inplace=True)\n",
    "test_df5.replace(to_replace = '<1',value = '0',inplace = True)\n",
    "test_df5.replace(to_replace = '>20',value = '21',inplace=True)\n",
    "test_df5.replace(to_replace = 'never',value = '0',inplace=True)\n",
    "test_df5.replace(to_replace = '>4',value = '5',inplace=True)"
   ]
  },
  {
   "cell_type": "code",
   "execution_count": 66,
   "id": "8a2cf55f",
   "metadata": {
    "execution": {
     "iopub.execute_input": "2022-03-13T17:40:04.396402Z",
     "iopub.status.busy": "2022-03-13T17:40:04.395330Z",
     "iopub.status.idle": "2022-03-13T17:40:04.484971Z",
     "shell.execute_reply": "2022-03-13T17:40:04.485471Z"
    },
    "papermill": {
     "duration": 0.314801,
     "end_time": "2022-03-13T17:40:04.485657",
     "exception": false,
     "start_time": "2022-03-13T17:40:04.170856",
     "status": "completed"
    },
    "tags": []
   },
   "outputs": [],
   "source": [
    "train_df5.replace(to_replace = '<10',value = 'around_10',inplace=True)\n",
    "train_df5.replace(to_replace = '10/49',value = 'around_50',inplace=True)\n",
    "train_df5.replace(to_replace = '50-99',value = 'around_100',inplace=True)\n",
    "train_df5.replace(to_replace = '100-500',value = 'around_500',inplace=True)\n",
    "train_df5.replace(to_replace = '500-999',value = 'around_1000',inplace=True)\n",
    "train_df5.replace(to_replace = '1000-4999',value = 'around_5000',inplace=True)\n",
    "train_df5.replace(to_replace = '5000-9999',value = 'around_10000',inplace=True)\n",
    "train_df5.replace(to_replace = '10000+',value = 'more_than_10000',inplace=True)\n",
    "\n",
    "test_df5.replace(to_replace = '<10',value = 'around_10',inplace=True)\n",
    "test_df5.replace(to_replace = '10/49',value = 'around_50',inplace=True)\n",
    "test_df5.replace(to_replace = '50-99',value = 'around_100',inplace=True)\n",
    "test_df5.replace(to_replace = '100-500',value = 'around_500',inplace=True)\n",
    "test_df5.replace(to_replace = '500-999',value = 'around_1000',inplace=True)\n",
    "test_df5.replace(to_replace = '1000-4999',value = 'around_5000',inplace=True)\n",
    "test_df5.replace(to_replace = '5000-9999',value = 'around_10000',inplace=True)\n",
    "test_df5.replace(to_replace = '10000+',value = 'more_than_10000',inplace=True)"
   ]
  },
  {
   "cell_type": "code",
   "execution_count": 67,
   "id": "709e4f57",
   "metadata": {
    "execution": {
     "iopub.execute_input": "2022-03-13T17:40:04.974914Z",
     "iopub.status.busy": "2022-03-13T17:40:04.974220Z",
     "iopub.status.idle": "2022-03-13T17:40:05.002638Z",
     "shell.execute_reply": "2022-03-13T17:40:05.003147Z"
    },
    "papermill": {
     "duration": 0.24972,
     "end_time": "2022-03-13T17:40:05.003345",
     "exception": false,
     "start_time": "2022-03-13T17:40:04.753625",
     "status": "completed"
    },
    "tags": []
   },
   "outputs": [],
   "source": [
    "train_df5.replace(to_replace = 'Full time course',value = 'Full_time_course',inplace=True)\n",
    "train_df5.replace(to_replace = 'Part time course',value = 'Part_time_course',inplace=True)\n",
    "\n",
    "test_df5.replace(to_replace = 'Full time course',value = 'Full_time_course',inplace=True)\n",
    "test_df5.replace(to_replace = 'Part time course',value = 'Part_time_course',inplace=True)"
   ]
  },
  {
   "cell_type": "code",
   "execution_count": 68,
   "id": "3661bb26",
   "metadata": {
    "execution": {
     "iopub.execute_input": "2022-03-13T17:40:05.446862Z",
     "iopub.status.busy": "2022-03-13T17:40:05.446155Z",
     "iopub.status.idle": "2022-03-13T17:40:05.473315Z",
     "shell.execute_reply": "2022-03-13T17:40:05.473882Z"
    },
    "papermill": {
     "duration": 0.248712,
     "end_time": "2022-03-13T17:40:05.474064",
     "exception": false,
     "start_time": "2022-03-13T17:40:05.225352",
     "status": "completed"
    },
    "tags": []
   },
   "outputs": [],
   "source": [
    "train_df5.replace(to_replace = 'Primary School',value = 'Primary_School',inplace=True)\n",
    "train_df5.replace(to_replace = 'High School',value = 'High_School',inplace=True)\n",
    "\n",
    "test_df5.replace(to_replace = 'Primary School',value = 'Primary_School',inplace=True)\n",
    "test_df5.replace(to_replace = 'High School',value = 'High_School',inplace=True)"
   ]
  },
  {
   "cell_type": "code",
   "execution_count": 69,
   "id": "3cc213bc",
   "metadata": {
    "execution": {
     "iopub.execute_input": "2022-03-13T17:40:05.910597Z",
     "iopub.status.busy": "2022-03-13T17:40:05.909944Z",
     "iopub.status.idle": "2022-03-13T17:40:05.938123Z",
     "shell.execute_reply": "2022-03-13T17:40:05.937540Z"
    },
    "papermill": {
     "duration": 0.250235,
     "end_time": "2022-03-13T17:40:05.938336",
     "exception": false,
     "start_time": "2022-03-13T17:40:05.688101",
     "status": "completed"
    },
    "tags": []
   },
   "outputs": [],
   "source": [
    "train_df5.replace(to_replace = 'Business Degree',value = 'Business_Degree',inplace=True)\n",
    "train_df5.replace(to_replace = 'No Major',value = 'No_Major',inplace=True)\n",
    "\n",
    "test_df5.replace(to_replace = 'Business Degree',value = 'Business_Degree',inplace=True)\n",
    "test_df5.replace(to_replace = 'No Major',value = 'No_Major',inplace=True)"
   ]
  },
  {
   "cell_type": "code",
   "execution_count": 70,
   "id": "b05f3e52",
   "metadata": {
    "execution": {
     "iopub.execute_input": "2022-03-13T17:40:06.378522Z",
     "iopub.status.busy": "2022-03-13T17:40:06.377805Z",
     "iopub.status.idle": "2022-03-13T17:40:06.424700Z",
     "shell.execute_reply": "2022-03-13T17:40:06.425331Z"
    },
    "papermill": {
     "duration": 0.270214,
     "end_time": "2022-03-13T17:40:06.425547",
     "exception": false,
     "start_time": "2022-03-13T17:40:06.155333",
     "status": "completed"
    },
    "tags": []
   },
   "outputs": [],
   "source": [
    "train_df5.replace(to_replace = 'Pvt Ltd',value = 'Pvt_Ltd',inplace=True)\n",
    "train_df5.replace(to_replace = 'Funded Startup',value = 'Funded_Startup',inplace=True)\n",
    "train_df5.replace(to_replace = 'Public Sector',value = 'Public_Sector',inplace=True)\n",
    "train_df5.replace(to_replace = 'Early Stage Startup',value = 'Early_Stage_Startup',inplace=True)\n",
    "\n",
    "test_df5.replace(to_replace = 'Pvt Ltd',value = 'Pvt_Ltd',inplace=True)\n",
    "test_df5.replace(to_replace = 'Funded Startup',value = 'Funded_Startup',inplace=True)\n",
    "test_df5.replace(to_replace = 'Public Sector',value = 'Public_Sector',inplace=True)\n",
    "test_df5.replace(to_replace = 'Early Stage Startup',value = 'Early_Stage_Startup',inplace=True)"
   ]
  },
  {
   "cell_type": "code",
   "execution_count": 71,
   "id": "bfa88b78",
   "metadata": {
    "execution": {
     "iopub.execute_input": "2022-03-13T17:40:06.860431Z",
     "iopub.status.busy": "2022-03-13T17:40:06.859761Z",
     "iopub.status.idle": "2022-03-13T17:40:06.870126Z",
     "shell.execute_reply": "2022-03-13T17:40:06.869530Z"
    },
    "papermill": {
     "duration": 0.229546,
     "end_time": "2022-03-13T17:40:06.870290",
     "exception": false,
     "start_time": "2022-03-13T17:40:06.640744",
     "status": "completed"
    },
    "tags": []
   },
   "outputs": [],
   "source": [
    "train_df5['major_discipline'].replace('Other','Other_major',inplace=True)\n",
    "train_df5['company_type'].replace('Other','Other_type',inplace=True)\n",
    "\n",
    "test_df5['major_discipline'].replace('Other','Other_major',inplace=True)\n",
    "test_df5['company_type'].replace('Other','Other_type',inplace=True)"
   ]
  },
  {
   "cell_type": "code",
   "execution_count": 72,
   "id": "a7cc999e",
   "metadata": {
    "execution": {
     "iopub.execute_input": "2022-03-13T17:40:07.308194Z",
     "iopub.status.busy": "2022-03-13T17:40:07.307446Z",
     "iopub.status.idle": "2022-03-13T17:40:07.330319Z",
     "shell.execute_reply": "2022-03-13T17:40:07.330889Z"
    },
    "papermill": {
     "duration": 0.244552,
     "end_time": "2022-03-13T17:40:07.331075",
     "exception": false,
     "start_time": "2022-03-13T17:40:07.086523",
     "status": "completed"
    },
    "tags": []
   },
   "outputs": [
    {
     "name": "stdout",
     "output_type": "stream",
     "text": [
      "city_development_index     0.000000\n",
      "gender                    23.614978\n",
      "relevent_experience        0.000000\n",
      "enrolled_university        2.032294\n",
      "education_level            2.352450\n",
      "major_discipline          14.539254\n",
      "experience                 0.313196\n",
      "company_size              30.832405\n",
      "company_type              32.001670\n",
      "last_new_job               2.275891\n",
      "training_hours             0.000000\n",
      "target                     0.000000\n",
      "dtype: float64\n"
     ]
    }
   ],
   "source": [
    "percent_null = train_df5.isnull().sum()/train_df5.shape[0]*100\n",
    "print(percent_null)"
   ]
  },
  {
   "cell_type": "code",
   "execution_count": 73,
   "id": "e855c129",
   "metadata": {
    "execution": {
     "iopub.execute_input": "2022-03-13T17:40:07.801817Z",
     "iopub.status.busy": "2022-03-13T17:40:07.800780Z",
     "iopub.status.idle": "2022-03-13T17:40:07.803075Z",
     "shell.execute_reply": "2022-03-13T17:40:07.803525Z"
    },
    "papermill": {
     "duration": 0.224774,
     "end_time": "2022-03-13T17:40:07.803701",
     "exception": false,
     "start_time": "2022-03-13T17:40:07.578927",
     "status": "completed"
    },
    "tags": []
   },
   "outputs": [],
   "source": [
    "#less_null = ['enrolled_university', 'education_level', 'experience', 'last_new_job']\n",
    "#train_df5.dropna(subset=['enrolled_university','education_level','experience','last_new_job'], axis=0, inplace=True)"
   ]
  },
  {
   "cell_type": "code",
   "execution_count": 74,
   "id": "19a43a4a",
   "metadata": {
    "execution": {
     "iopub.execute_input": "2022-03-13T17:40:08.253255Z",
     "iopub.status.busy": "2022-03-13T17:40:08.252194Z",
     "iopub.status.idle": "2022-03-13T17:40:08.266528Z",
     "shell.execute_reply": "2022-03-13T17:40:08.267197Z"
    },
    "papermill": {
     "duration": 0.239157,
     "end_time": "2022-03-13T17:40:08.267386",
     "exception": false,
     "start_time": "2022-03-13T17:40:08.028229",
     "status": "completed"
    },
    "tags": []
   },
   "outputs": [
    {
     "name": "stdout",
     "output_type": "stream",
     "text": [
      "city_development_index     0.000000\n",
      "gender                    23.277662\n",
      "relevent_experience        0.000000\n",
      "enrolled_university        1.962422\n",
      "education_level            2.546973\n",
      "major_discipline          15.114823\n",
      "experience                 0.417537\n",
      "company_size              31.482255\n",
      "company_type              32.192067\n",
      "last_new_job               2.004175\n",
      "training_hours             0.000000\n",
      "dtype: float64\n"
     ]
    }
   ],
   "source": [
    "percent_null = test_df5.isnull().sum()/test_df5.shape[0]*100\n",
    "print(percent_null)"
   ]
  },
  {
   "cell_type": "code",
   "execution_count": 75,
   "id": "47568f10",
   "metadata": {
    "execution": {
     "iopub.execute_input": "2022-03-13T17:40:08.712315Z",
     "iopub.status.busy": "2022-03-13T17:40:08.711427Z",
     "iopub.status.idle": "2022-03-13T17:40:08.714538Z",
     "shell.execute_reply": "2022-03-13T17:40:08.715014Z"
    },
    "papermill": {
     "duration": 0.22604,
     "end_time": "2022-03-13T17:40:08.715207",
     "exception": false,
     "start_time": "2022-03-13T17:40:08.489167",
     "status": "completed"
    },
    "tags": []
   },
   "outputs": [],
   "source": [
    "#for i in less_null:\n",
    "#    test_df5[i].fillna(test_df5[i].mode()[0],inplace = True)"
   ]
  },
  {
   "cell_type": "code",
   "execution_count": 76,
   "id": "86a9d47c",
   "metadata": {
    "execution": {
     "iopub.execute_input": "2022-03-13T17:40:09.158457Z",
     "iopub.status.busy": "2022-03-13T17:40:09.157457Z",
     "iopub.status.idle": "2022-03-13T17:40:09.181266Z",
     "shell.execute_reply": "2022-03-13T17:40:09.181772Z"
    },
    "papermill": {
     "duration": 0.246219,
     "end_time": "2022-03-13T17:40:09.181950",
     "exception": false,
     "start_time": "2022-03-13T17:40:08.935731",
     "status": "completed"
    },
    "tags": []
   },
   "outputs": [
    {
     "data": {
      "text/html": [
       "<div>\n",
       "<style scoped>\n",
       "    .dataframe tbody tr th:only-of-type {\n",
       "        vertical-align: middle;\n",
       "    }\n",
       "\n",
       "    .dataframe tbody tr th {\n",
       "        vertical-align: top;\n",
       "    }\n",
       "\n",
       "    .dataframe thead th {\n",
       "        text-align: right;\n",
       "    }\n",
       "</style>\n",
       "<table border=\"1\" class=\"dataframe\">\n",
       "  <thead>\n",
       "    <tr style=\"text-align: right;\">\n",
       "      <th></th>\n",
       "      <th>city_development_index</th>\n",
       "      <th>gender</th>\n",
       "      <th>relevent_experience</th>\n",
       "      <th>enrolled_university</th>\n",
       "      <th>education_level</th>\n",
       "      <th>major_discipline</th>\n",
       "      <th>experience</th>\n",
       "      <th>company_size</th>\n",
       "      <th>company_type</th>\n",
       "      <th>last_new_job</th>\n",
       "      <th>training_hours</th>\n",
       "      <th>target</th>\n",
       "    </tr>\n",
       "  </thead>\n",
       "  <tbody>\n",
       "    <tr>\n",
       "      <th>0</th>\n",
       "      <td>0.913</td>\n",
       "      <td>Male</td>\n",
       "      <td>Has relevent experience</td>\n",
       "      <td>no_enrollment</td>\n",
       "      <td>Masters</td>\n",
       "      <td>STEM</td>\n",
       "      <td>4</td>\n",
       "      <td>around_500</td>\n",
       "      <td>NGO</td>\n",
       "      <td>1</td>\n",
       "      <td>22</td>\n",
       "      <td>0.0</td>\n",
       "    </tr>\n",
       "    <tr>\n",
       "      <th>1</th>\n",
       "      <td>0.698</td>\n",
       "      <td>Male</td>\n",
       "      <td>Has relevent experience</td>\n",
       "      <td>NaN</td>\n",
       "      <td>High_School</td>\n",
       "      <td>NaN</td>\n",
       "      <td>3</td>\n",
       "      <td>NaN</td>\n",
       "      <td>NaN</td>\n",
       "      <td>1</td>\n",
       "      <td>22</td>\n",
       "      <td>1.0</td>\n",
       "    </tr>\n",
       "    <tr>\n",
       "      <th>2</th>\n",
       "      <td>0.926</td>\n",
       "      <td>NaN</td>\n",
       "      <td>Has relevent experience</td>\n",
       "      <td>Full_time_course</td>\n",
       "      <td>Masters</td>\n",
       "      <td>STEM</td>\n",
       "      <td>9</td>\n",
       "      <td>around_100</td>\n",
       "      <td>Pvt_Ltd</td>\n",
       "      <td>1</td>\n",
       "      <td>88</td>\n",
       "      <td>0.0</td>\n",
       "    </tr>\n",
       "    <tr>\n",
       "      <th>3</th>\n",
       "      <td>0.926</td>\n",
       "      <td>Male</td>\n",
       "      <td>No relevent experience</td>\n",
       "      <td>Full_time_course</td>\n",
       "      <td>Graduate</td>\n",
       "      <td>STEM</td>\n",
       "      <td>14</td>\n",
       "      <td>NaN</td>\n",
       "      <td>NaN</td>\n",
       "      <td>4</td>\n",
       "      <td>91</td>\n",
       "      <td>0.0</td>\n",
       "    </tr>\n",
       "    <tr>\n",
       "      <th>4</th>\n",
       "      <td>0.910</td>\n",
       "      <td>NaN</td>\n",
       "      <td>Has relevent experience</td>\n",
       "      <td>no_enrollment</td>\n",
       "      <td>Graduate</td>\n",
       "      <td>STEM</td>\n",
       "      <td>1</td>\n",
       "      <td>around_10000</td>\n",
       "      <td>Pvt_Ltd</td>\n",
       "      <td>1</td>\n",
       "      <td>92</td>\n",
       "      <td>0.0</td>\n",
       "    </tr>\n",
       "    <tr>\n",
       "      <th>...</th>\n",
       "      <td>...</td>\n",
       "      <td>...</td>\n",
       "      <td>...</td>\n",
       "      <td>...</td>\n",
       "      <td>...</td>\n",
       "      <td>...</td>\n",
       "      <td>...</td>\n",
       "      <td>...</td>\n",
       "      <td>...</td>\n",
       "      <td>...</td>\n",
       "      <td>...</td>\n",
       "      <td>...</td>\n",
       "    </tr>\n",
       "    <tr>\n",
       "      <th>14363</th>\n",
       "      <td>0.920</td>\n",
       "      <td>Male</td>\n",
       "      <td>Has relevent experience</td>\n",
       "      <td>no_enrollment</td>\n",
       "      <td>Graduate</td>\n",
       "      <td>STEM</td>\n",
       "      <td>21</td>\n",
       "      <td>NaN</td>\n",
       "      <td>NaN</td>\n",
       "      <td>5</td>\n",
       "      <td>157</td>\n",
       "      <td>0.0</td>\n",
       "    </tr>\n",
       "    <tr>\n",
       "      <th>14364</th>\n",
       "      <td>0.920</td>\n",
       "      <td>Female</td>\n",
       "      <td>Has relevent experience</td>\n",
       "      <td>no_enrollment</td>\n",
       "      <td>Masters</td>\n",
       "      <td>STEM</td>\n",
       "      <td>2</td>\n",
       "      <td>around_10</td>\n",
       "      <td>Early_Stage_Startup</td>\n",
       "      <td>1</td>\n",
       "      <td>4</td>\n",
       "      <td>0.0</td>\n",
       "    </tr>\n",
       "    <tr>\n",
       "      <th>14365</th>\n",
       "      <td>0.624</td>\n",
       "      <td>Male</td>\n",
       "      <td>Has relevent experience</td>\n",
       "      <td>no_enrollment</td>\n",
       "      <td>Masters</td>\n",
       "      <td>STEM</td>\n",
       "      <td>1</td>\n",
       "      <td>around_100</td>\n",
       "      <td>Pvt_Ltd</td>\n",
       "      <td>NaN</td>\n",
       "      <td>34</td>\n",
       "      <td>0.0</td>\n",
       "    </tr>\n",
       "    <tr>\n",
       "      <th>14366</th>\n",
       "      <td>0.895</td>\n",
       "      <td>Male</td>\n",
       "      <td>Has relevent experience</td>\n",
       "      <td>no_enrollment</td>\n",
       "      <td>Masters</td>\n",
       "      <td>STEM</td>\n",
       "      <td>15</td>\n",
       "      <td>around_500</td>\n",
       "      <td>Public_Sector</td>\n",
       "      <td>1</td>\n",
       "      <td>4</td>\n",
       "      <td>0.0</td>\n",
       "    </tr>\n",
       "    <tr>\n",
       "      <th>14367</th>\n",
       "      <td>0.920</td>\n",
       "      <td>Male</td>\n",
       "      <td>Has relevent experience</td>\n",
       "      <td>no_enrollment</td>\n",
       "      <td>Graduate</td>\n",
       "      <td>STEM</td>\n",
       "      <td>16</td>\n",
       "      <td>more_than_10000</td>\n",
       "      <td>Public_Sector</td>\n",
       "      <td>5</td>\n",
       "      <td>17</td>\n",
       "      <td>0.0</td>\n",
       "    </tr>\n",
       "  </tbody>\n",
       "</table>\n",
       "<p>14368 rows × 12 columns</p>\n",
       "</div>"
      ],
      "text/plain": [
       "       city_development_index  gender      relevent_experience  \\\n",
       "0                       0.913    Male  Has relevent experience   \n",
       "1                       0.698    Male  Has relevent experience   \n",
       "2                       0.926     NaN  Has relevent experience   \n",
       "3                       0.926    Male   No relevent experience   \n",
       "4                       0.910     NaN  Has relevent experience   \n",
       "...                       ...     ...                      ...   \n",
       "14363                   0.920    Male  Has relevent experience   \n",
       "14364                   0.920  Female  Has relevent experience   \n",
       "14365                   0.624    Male  Has relevent experience   \n",
       "14366                   0.895    Male  Has relevent experience   \n",
       "14367                   0.920    Male  Has relevent experience   \n",
       "\n",
       "      enrolled_university education_level major_discipline experience  \\\n",
       "0           no_enrollment         Masters             STEM          4   \n",
       "1                     NaN     High_School              NaN          3   \n",
       "2        Full_time_course         Masters             STEM          9   \n",
       "3        Full_time_course        Graduate             STEM         14   \n",
       "4           no_enrollment        Graduate             STEM          1   \n",
       "...                   ...             ...              ...        ...   \n",
       "14363       no_enrollment        Graduate             STEM         21   \n",
       "14364       no_enrollment         Masters             STEM          2   \n",
       "14365       no_enrollment         Masters             STEM          1   \n",
       "14366       no_enrollment         Masters             STEM         15   \n",
       "14367       no_enrollment        Graduate             STEM         16   \n",
       "\n",
       "          company_size         company_type last_new_job  training_hours  \\\n",
       "0           around_500                  NGO            1              22   \n",
       "1                  NaN                  NaN            1              22   \n",
       "2           around_100              Pvt_Ltd            1              88   \n",
       "3                  NaN                  NaN            4              91   \n",
       "4         around_10000              Pvt_Ltd            1              92   \n",
       "...                ...                  ...          ...             ...   \n",
       "14363              NaN                  NaN            5             157   \n",
       "14364        around_10  Early_Stage_Startup            1               4   \n",
       "14365       around_100              Pvt_Ltd          NaN              34   \n",
       "14366       around_500        Public_Sector            1               4   \n",
       "14367  more_than_10000        Public_Sector            5              17   \n",
       "\n",
       "       target  \n",
       "0         0.0  \n",
       "1         1.0  \n",
       "2         0.0  \n",
       "3         0.0  \n",
       "4         0.0  \n",
       "...       ...  \n",
       "14363     0.0  \n",
       "14364     0.0  \n",
       "14365     0.0  \n",
       "14366     0.0  \n",
       "14367     0.0  \n",
       "\n",
       "[14368 rows x 12 columns]"
      ]
     },
     "execution_count": 76,
     "metadata": {},
     "output_type": "execute_result"
    }
   ],
   "source": [
    "train_df5"
   ]
  },
  {
   "cell_type": "code",
   "execution_count": 77,
   "id": "ccbc9bc6",
   "metadata": {
    "execution": {
     "iopub.execute_input": "2022-03-13T17:40:09.675028Z",
     "iopub.status.busy": "2022-03-13T17:40:09.672018Z",
     "iopub.status.idle": "2022-03-13T17:40:09.678695Z",
     "shell.execute_reply": "2022-03-13T17:40:09.679440Z"
    },
    "papermill": {
     "duration": 0.260853,
     "end_time": "2022-03-13T17:40:09.679650",
     "exception": false,
     "start_time": "2022-03-13T17:40:09.418797",
     "status": "completed"
    },
    "tags": []
   },
   "outputs": [
    {
     "data": {
      "text/plain": [
       "city_development_index       0\n",
       "gender                    1115\n",
       "relevent_experience          0\n",
       "enrolled_university         94\n",
       "education_level            122\n",
       "major_discipline           724\n",
       "experience                  20\n",
       "company_size              1508\n",
       "company_type              1542\n",
       "last_new_job                96\n",
       "training_hours               0\n",
       "dtype: int64"
      ]
     },
     "execution_count": 77,
     "metadata": {},
     "output_type": "execute_result"
    }
   ],
   "source": [
    "test_df5.isna().sum()"
   ]
  },
  {
   "cell_type": "code",
   "execution_count": 78,
   "id": "21e31b14",
   "metadata": {
    "execution": {
     "iopub.execute_input": "2022-03-13T17:40:10.153530Z",
     "iopub.status.busy": "2022-03-13T17:40:10.152680Z",
     "iopub.status.idle": "2022-03-13T17:40:10.177429Z",
     "shell.execute_reply": "2022-03-13T17:40:10.178016Z"
    },
    "papermill": {
     "duration": 0.266234,
     "end_time": "2022-03-13T17:40:10.178217",
     "exception": false,
     "start_time": "2022-03-13T17:40:09.911983",
     "status": "completed"
    },
    "tags": []
   },
   "outputs": [],
   "source": [
    "col_mode = ['gender','company_size','major_discipline','company_type','relevent_experience','enrolled_university','education_level']\n",
    "for col in col_mode:\n",
    "    train_df5[col].fillna((col+\"_Unknown\"),inplace = True)\n",
    "    test_df5[col].fillna(col+(\"_Unknown\"),inplace = True)"
   ]
  },
  {
   "cell_type": "code",
   "execution_count": 79,
   "id": "5f316a2d",
   "metadata": {
    "execution": {
     "iopub.execute_input": "2022-03-13T17:40:10.652345Z",
     "iopub.status.busy": "2022-03-13T17:40:10.651561Z",
     "iopub.status.idle": "2022-03-13T17:40:10.664944Z",
     "shell.execute_reply": "2022-03-13T17:40:10.665503Z"
    },
    "papermill": {
     "duration": 0.254543,
     "end_time": "2022-03-13T17:40:10.665685",
     "exception": false,
     "start_time": "2022-03-13T17:40:10.411142",
     "status": "completed"
    },
    "tags": []
   },
   "outputs": [
    {
     "data": {
      "text/plain": [
       "city_development_index     0\n",
       "gender                     0\n",
       "relevent_experience        0\n",
       "enrolled_university        0\n",
       "education_level            0\n",
       "major_discipline           0\n",
       "experience                20\n",
       "company_size               0\n",
       "company_type               0\n",
       "last_new_job              96\n",
       "training_hours             0\n",
       "dtype: int64"
      ]
     },
     "execution_count": 79,
     "metadata": {},
     "output_type": "execute_result"
    }
   ],
   "source": [
    "test_df5.isna().sum()"
   ]
  },
  {
   "cell_type": "code",
   "execution_count": 80,
   "id": "7a0d1bdf",
   "metadata": {
    "execution": {
     "iopub.execute_input": "2022-03-13T17:40:11.129123Z",
     "iopub.status.busy": "2022-03-13T17:40:11.128378Z",
     "iopub.status.idle": "2022-03-13T17:40:11.140050Z",
     "shell.execute_reply": "2022-03-13T17:40:11.140627Z"
    },
    "papermill": {
     "duration": 0.243228,
     "end_time": "2022-03-13T17:40:11.140866",
     "exception": false,
     "start_time": "2022-03-13T17:40:10.897638",
     "status": "completed"
    },
    "tags": []
   },
   "outputs": [],
   "source": [
    "col_mode2 = ['experience', 'last_new_job']\n",
    "for col in col_mode2:\n",
    "    train_df5[col].fillna(0, inplace = True)\n",
    "    test_df5[col].fillna(0, inplace = True)"
   ]
  },
  {
   "cell_type": "code",
   "execution_count": 81,
   "id": "2da10801",
   "metadata": {
    "execution": {
     "iopub.execute_input": "2022-03-13T17:40:11.599189Z",
     "iopub.status.busy": "2022-03-13T17:40:11.598400Z",
     "iopub.status.idle": "2022-03-13T17:40:11.614280Z",
     "shell.execute_reply": "2022-03-13T17:40:11.614950Z"
    },
    "papermill": {
     "duration": 0.248104,
     "end_time": "2022-03-13T17:40:11.615160",
     "exception": false,
     "start_time": "2022-03-13T17:40:11.367056",
     "status": "completed"
    },
    "tags": []
   },
   "outputs": [],
   "source": [
    "train_df5 = train_df5.astype({'experience':int,'last_new_job':int})\n",
    "test_df5 = test_df5.astype({'experience':int,'last_new_job':int})"
   ]
  },
  {
   "cell_type": "code",
   "execution_count": 82,
   "id": "f16f5156",
   "metadata": {
    "execution": {
     "iopub.execute_input": "2022-03-13T17:40:12.106455Z",
     "iopub.status.busy": "2022-03-13T17:40:12.094856Z",
     "iopub.status.idle": "2022-03-13T17:40:12.175344Z",
     "shell.execute_reply": "2022-03-13T17:40:12.175872Z"
    },
    "papermill": {
     "duration": 0.313998,
     "end_time": "2022-03-13T17:40:12.176079",
     "exception": false,
     "start_time": "2022-03-13T17:40:11.862081",
     "status": "completed"
    },
    "tags": []
   },
   "outputs": [],
   "source": [
    "education_df = pd.get_dummies(train_df5[['education_level']],drop_first=True,prefix=[None])\n",
    "company_size_df = pd.get_dummies(train_df5[['company_size']],drop_first=True,prefix=[None])\n",
    "company_type_df = pd.get_dummies(train_df5[['company_type']],drop_first=True,prefix=[None])\n",
    "major_df = pd.get_dummies(train_df5[['major_discipline']],drop_first=True,prefix=[None])\n",
    "university_df = pd.get_dummies(train_df5[['enrolled_university']],drop_first=True,prefix=[None])\n",
    "experience_df = pd.get_dummies(train_df5[['relevent_experience']],drop_first=True,prefix=[None])\n",
    "gender_df = pd.get_dummies(train_df5[['gender']],drop_first=True,prefix=[None])\n",
    "\n",
    "education_df1 = pd.get_dummies(test_df5[['education_level']],drop_first=True,prefix=[None])\n",
    "company_size_df1 = pd.get_dummies(test_df5[['company_size']],drop_first=True,prefix=[None])\n",
    "company_type_df1 = pd.get_dummies(test_df5[['company_type']],drop_first=True,prefix=[None])\n",
    "major_df1 = pd.get_dummies(test_df5[['major_discipline']],drop_first=True,prefix=[None])\n",
    "university_df1 = pd.get_dummies(test_df5[['enrolled_university']],drop_first=True,prefix=[None])\n",
    "experience_df1 = pd.get_dummies(test_df5[['relevent_experience']],drop_first=True,prefix=[None])\n",
    "gender_df1 = pd.get_dummies(test_df5[['gender']],drop_first=True,prefix=[None])"
   ]
  },
  {
   "cell_type": "code",
   "execution_count": 83,
   "id": "c1eb6306",
   "metadata": {
    "execution": {
     "iopub.execute_input": "2022-03-13T17:40:12.640438Z",
     "iopub.status.busy": "2022-03-13T17:40:12.639415Z",
     "iopub.status.idle": "2022-03-13T17:40:12.646742Z",
     "shell.execute_reply": "2022-03-13T17:40:12.647431Z"
    },
    "papermill": {
     "duration": 0.23634,
     "end_time": "2022-03-13T17:40:12.647618",
     "exception": false,
     "start_time": "2022-03-13T17:40:12.411278",
     "status": "completed"
    },
    "tags": []
   },
   "outputs": [],
   "source": [
    "train_df5.drop(['education_level','company_size','company_type','major_discipline','enrolled_university','relevent_experience','gender'],axis=1,inplace=True)\n",
    "test_df5.drop(['education_level','company_size','company_type','major_discipline','enrolled_university','relevent_experience','gender'],axis=1,inplace=True)"
   ]
  },
  {
   "cell_type": "code",
   "execution_count": 84,
   "id": "f96c5698",
   "metadata": {
    "execution": {
     "iopub.execute_input": "2022-03-13T17:40:13.122326Z",
     "iopub.status.busy": "2022-03-13T17:40:13.121174Z",
     "iopub.status.idle": "2022-03-13T17:40:13.127918Z",
     "shell.execute_reply": "2022-03-13T17:40:13.128592Z"
    },
    "papermill": {
     "duration": 0.247554,
     "end_time": "2022-03-13T17:40:13.128812",
     "exception": false,
     "start_time": "2022-03-13T17:40:12.881258",
     "status": "completed"
    },
    "tags": []
   },
   "outputs": [],
   "source": [
    "final_df = pd.concat([train_df5,education_df,company_size_df,company_type_df,major_df,university_df,experience_df,gender_df],axis=1) "
   ]
  },
  {
   "cell_type": "code",
   "execution_count": 85,
   "id": "4258e363",
   "metadata": {
    "execution": {
     "iopub.execute_input": "2022-03-13T17:40:13.595003Z",
     "iopub.status.busy": "2022-03-13T17:40:13.594255Z",
     "iopub.status.idle": "2022-03-13T17:40:13.597189Z",
     "shell.execute_reply": "2022-03-13T17:40:13.597910Z"
    },
    "papermill": {
     "duration": 0.229813,
     "end_time": "2022-03-13T17:40:13.598096",
     "exception": false,
     "start_time": "2022-03-13T17:40:13.368283",
     "status": "completed"
    },
    "tags": []
   },
   "outputs": [],
   "source": [
    "test_final_df = pd.concat([test_df5,education_df1,company_size_df1,company_type_df1,major_df1,university_df1,experience_df1,gender_df1],axis=1) "
   ]
  },
  {
   "cell_type": "code",
   "execution_count": 86,
   "id": "66af8bfa",
   "metadata": {
    "execution": {
     "iopub.execute_input": "2022-03-13T17:40:14.048125Z",
     "iopub.status.busy": "2022-03-13T17:40:14.047384Z",
     "iopub.status.idle": "2022-03-13T17:40:14.056819Z",
     "shell.execute_reply": "2022-03-13T17:40:14.057339Z"
    },
    "papermill": {
     "duration": 0.237102,
     "end_time": "2022-03-13T17:40:14.057525",
     "exception": false,
     "start_time": "2022-03-13T17:40:13.820423",
     "status": "completed"
    },
    "tags": []
   },
   "outputs": [
    {
     "data": {
      "text/plain": [
       "city_development_index         0\n",
       "experience                     0\n",
       "last_new_job                   0\n",
       "training_hours                 0\n",
       "target                         0\n",
       "High_School                    0\n",
       "Masters                        0\n",
       "Phd                            0\n",
       "Primary_School                 0\n",
       "education_level_Unknown        0\n",
       "around_100                     0\n",
       "around_1000                    0\n",
       "around_10000                   0\n",
       "around_50                      0\n",
       "around_500                     0\n",
       "around_5000                    0\n",
       "company_size_Unknown           0\n",
       "more_than_10000                0\n",
       "Funded_Startup                 0\n",
       "NGO                            0\n",
       "Other_type                     0\n",
       "Public_Sector                  0\n",
       "Pvt_Ltd                        0\n",
       "company_type_Unknown           0\n",
       "Business_Degree                0\n",
       "Humanities                     0\n",
       "No_Major                       0\n",
       "Other_major                    0\n",
       "STEM                           0\n",
       "major_discipline_Unknown       0\n",
       "Part_time_course               0\n",
       "enrolled_university_Unknown    0\n",
       "no_enrollment                  0\n",
       "No relevent experience         0\n",
       "Male                           0\n",
       "Other                          0\n",
       "gender_Unknown                 0\n",
       "dtype: int64"
      ]
     },
     "execution_count": 86,
     "metadata": {},
     "output_type": "execute_result"
    }
   ],
   "source": [
    "final_df.isna().sum()"
   ]
  },
  {
   "cell_type": "code",
   "execution_count": 87,
   "id": "7d3d4c43",
   "metadata": {
    "execution": {
     "iopub.execute_input": "2022-03-13T17:40:14.503866Z",
     "iopub.status.busy": "2022-03-13T17:40:14.503090Z",
     "iopub.status.idle": "2022-03-13T17:40:14.525703Z",
     "shell.execute_reply": "2022-03-13T17:40:14.526311Z"
    },
    "papermill": {
     "duration": 0.249494,
     "end_time": "2022-03-13T17:40:14.526483",
     "exception": false,
     "start_time": "2022-03-13T17:40:14.276989",
     "status": "completed"
    },
    "tags": []
   },
   "outputs": [
    {
     "data": {
      "text/html": [
       "<div>\n",
       "<style scoped>\n",
       "    .dataframe tbody tr th:only-of-type {\n",
       "        vertical-align: middle;\n",
       "    }\n",
       "\n",
       "    .dataframe tbody tr th {\n",
       "        vertical-align: top;\n",
       "    }\n",
       "\n",
       "    .dataframe thead th {\n",
       "        text-align: right;\n",
       "    }\n",
       "</style>\n",
       "<table border=\"1\" class=\"dataframe\">\n",
       "  <thead>\n",
       "    <tr style=\"text-align: right;\">\n",
       "      <th></th>\n",
       "      <th>city_development_index</th>\n",
       "      <th>experience</th>\n",
       "      <th>last_new_job</th>\n",
       "      <th>training_hours</th>\n",
       "      <th>High_School</th>\n",
       "      <th>Masters</th>\n",
       "      <th>Phd</th>\n",
       "      <th>Primary_School</th>\n",
       "      <th>education_level_Unknown</th>\n",
       "      <th>around_100</th>\n",
       "      <th>...</th>\n",
       "      <th>Other_major</th>\n",
       "      <th>STEM</th>\n",
       "      <th>major_discipline_Unknown</th>\n",
       "      <th>Part_time_course</th>\n",
       "      <th>enrolled_university_Unknown</th>\n",
       "      <th>no_enrollment</th>\n",
       "      <th>No relevent experience</th>\n",
       "      <th>Male</th>\n",
       "      <th>Other</th>\n",
       "      <th>gender_Unknown</th>\n",
       "    </tr>\n",
       "  </thead>\n",
       "  <tbody>\n",
       "    <tr>\n",
       "      <th>0</th>\n",
       "      <td>0.924</td>\n",
       "      <td>15</td>\n",
       "      <td>2</td>\n",
       "      <td>58</td>\n",
       "      <td>0</td>\n",
       "      <td>0</td>\n",
       "      <td>0</td>\n",
       "      <td>1</td>\n",
       "      <td>0</td>\n",
       "      <td>0</td>\n",
       "      <td>...</td>\n",
       "      <td>0</td>\n",
       "      <td>0</td>\n",
       "      <td>1</td>\n",
       "      <td>0</td>\n",
       "      <td>0</td>\n",
       "      <td>1</td>\n",
       "      <td>0</td>\n",
       "      <td>1</td>\n",
       "      <td>0</td>\n",
       "      <td>0</td>\n",
       "    </tr>\n",
       "    <tr>\n",
       "      <th>1</th>\n",
       "      <td>0.926</td>\n",
       "      <td>21</td>\n",
       "      <td>5</td>\n",
       "      <td>308</td>\n",
       "      <td>0</td>\n",
       "      <td>1</td>\n",
       "      <td>0</td>\n",
       "      <td>0</td>\n",
       "      <td>0</td>\n",
       "      <td>0</td>\n",
       "      <td>...</td>\n",
       "      <td>0</td>\n",
       "      <td>1</td>\n",
       "      <td>0</td>\n",
       "      <td>0</td>\n",
       "      <td>0</td>\n",
       "      <td>1</td>\n",
       "      <td>1</td>\n",
       "      <td>1</td>\n",
       "      <td>0</td>\n",
       "      <td>0</td>\n",
       "    </tr>\n",
       "    <tr>\n",
       "      <th>2</th>\n",
       "      <td>0.923</td>\n",
       "      <td>2</td>\n",
       "      <td>0</td>\n",
       "      <td>8</td>\n",
       "      <td>1</td>\n",
       "      <td>0</td>\n",
       "      <td>0</td>\n",
       "      <td>0</td>\n",
       "      <td>0</td>\n",
       "      <td>0</td>\n",
       "      <td>...</td>\n",
       "      <td>0</td>\n",
       "      <td>0</td>\n",
       "      <td>1</td>\n",
       "      <td>0</td>\n",
       "      <td>0</td>\n",
       "      <td>0</td>\n",
       "      <td>1</td>\n",
       "      <td>1</td>\n",
       "      <td>0</td>\n",
       "      <td>0</td>\n",
       "    </tr>\n",
       "    <tr>\n",
       "      <th>3</th>\n",
       "      <td>0.920</td>\n",
       "      <td>6</td>\n",
       "      <td>0</td>\n",
       "      <td>85</td>\n",
       "      <td>0</td>\n",
       "      <td>0</td>\n",
       "      <td>0</td>\n",
       "      <td>1</td>\n",
       "      <td>0</td>\n",
       "      <td>0</td>\n",
       "      <td>...</td>\n",
       "      <td>0</td>\n",
       "      <td>0</td>\n",
       "      <td>1</td>\n",
       "      <td>0</td>\n",
       "      <td>0</td>\n",
       "      <td>1</td>\n",
       "      <td>1</td>\n",
       "      <td>1</td>\n",
       "      <td>0</td>\n",
       "      <td>0</td>\n",
       "    </tr>\n",
       "    <tr>\n",
       "      <th>4</th>\n",
       "      <td>0.920</td>\n",
       "      <td>7</td>\n",
       "      <td>1</td>\n",
       "      <td>3</td>\n",
       "      <td>0</td>\n",
       "      <td>0</td>\n",
       "      <td>0</td>\n",
       "      <td>0</td>\n",
       "      <td>0</td>\n",
       "      <td>0</td>\n",
       "      <td>...</td>\n",
       "      <td>0</td>\n",
       "      <td>1</td>\n",
       "      <td>0</td>\n",
       "      <td>0</td>\n",
       "      <td>0</td>\n",
       "      <td>1</td>\n",
       "      <td>0</td>\n",
       "      <td>0</td>\n",
       "      <td>0</td>\n",
       "      <td>0</td>\n",
       "    </tr>\n",
       "    <tr>\n",
       "      <th>...</th>\n",
       "      <td>...</td>\n",
       "      <td>...</td>\n",
       "      <td>...</td>\n",
       "      <td>...</td>\n",
       "      <td>...</td>\n",
       "      <td>...</td>\n",
       "      <td>...</td>\n",
       "      <td>...</td>\n",
       "      <td>...</td>\n",
       "      <td>...</td>\n",
       "      <td>...</td>\n",
       "      <td>...</td>\n",
       "      <td>...</td>\n",
       "      <td>...</td>\n",
       "      <td>...</td>\n",
       "      <td>...</td>\n",
       "      <td>...</td>\n",
       "      <td>...</td>\n",
       "      <td>...</td>\n",
       "      <td>...</td>\n",
       "      <td>...</td>\n",
       "    </tr>\n",
       "    <tr>\n",
       "      <th>4785</th>\n",
       "      <td>0.624</td>\n",
       "      <td>3</td>\n",
       "      <td>2</td>\n",
       "      <td>17</td>\n",
       "      <td>0</td>\n",
       "      <td>0</td>\n",
       "      <td>0</td>\n",
       "      <td>0</td>\n",
       "      <td>0</td>\n",
       "      <td>1</td>\n",
       "      <td>...</td>\n",
       "      <td>0</td>\n",
       "      <td>1</td>\n",
       "      <td>0</td>\n",
       "      <td>0</td>\n",
       "      <td>0</td>\n",
       "      <td>0</td>\n",
       "      <td>0</td>\n",
       "      <td>1</td>\n",
       "      <td>0</td>\n",
       "      <td>0</td>\n",
       "    </tr>\n",
       "    <tr>\n",
       "      <th>4786</th>\n",
       "      <td>0.920</td>\n",
       "      <td>11</td>\n",
       "      <td>5</td>\n",
       "      <td>77</td>\n",
       "      <td>0</td>\n",
       "      <td>0</td>\n",
       "      <td>0</td>\n",
       "      <td>0</td>\n",
       "      <td>0</td>\n",
       "      <td>0</td>\n",
       "      <td>...</td>\n",
       "      <td>0</td>\n",
       "      <td>1</td>\n",
       "      <td>0</td>\n",
       "      <td>0</td>\n",
       "      <td>0</td>\n",
       "      <td>1</td>\n",
       "      <td>0</td>\n",
       "      <td>1</td>\n",
       "      <td>0</td>\n",
       "      <td>0</td>\n",
       "    </tr>\n",
       "    <tr>\n",
       "      <th>4787</th>\n",
       "      <td>0.920</td>\n",
       "      <td>21</td>\n",
       "      <td>1</td>\n",
       "      <td>258</td>\n",
       "      <td>0</td>\n",
       "      <td>0</td>\n",
       "      <td>0</td>\n",
       "      <td>0</td>\n",
       "      <td>0</td>\n",
       "      <td>0</td>\n",
       "      <td>...</td>\n",
       "      <td>0</td>\n",
       "      <td>0</td>\n",
       "      <td>0</td>\n",
       "      <td>0</td>\n",
       "      <td>1</td>\n",
       "      <td>0</td>\n",
       "      <td>0</td>\n",
       "      <td>0</td>\n",
       "      <td>0</td>\n",
       "      <td>1</td>\n",
       "    </tr>\n",
       "    <tr>\n",
       "      <th>4788</th>\n",
       "      <td>0.624</td>\n",
       "      <td>6</td>\n",
       "      <td>1</td>\n",
       "      <td>95</td>\n",
       "      <td>0</td>\n",
       "      <td>1</td>\n",
       "      <td>0</td>\n",
       "      <td>0</td>\n",
       "      <td>0</td>\n",
       "      <td>1</td>\n",
       "      <td>...</td>\n",
       "      <td>0</td>\n",
       "      <td>1</td>\n",
       "      <td>0</td>\n",
       "      <td>0</td>\n",
       "      <td>0</td>\n",
       "      <td>0</td>\n",
       "      <td>0</td>\n",
       "      <td>1</td>\n",
       "      <td>0</td>\n",
       "      <td>0</td>\n",
       "    </tr>\n",
       "    <tr>\n",
       "      <th>4789</th>\n",
       "      <td>0.924</td>\n",
       "      <td>7</td>\n",
       "      <td>1</td>\n",
       "      <td>20</td>\n",
       "      <td>0</td>\n",
       "      <td>0</td>\n",
       "      <td>0</td>\n",
       "      <td>0</td>\n",
       "      <td>0</td>\n",
       "      <td>0</td>\n",
       "      <td>...</td>\n",
       "      <td>0</td>\n",
       "      <td>1</td>\n",
       "      <td>0</td>\n",
       "      <td>1</td>\n",
       "      <td>0</td>\n",
       "      <td>0</td>\n",
       "      <td>0</td>\n",
       "      <td>1</td>\n",
       "      <td>0</td>\n",
       "      <td>0</td>\n",
       "    </tr>\n",
       "  </tbody>\n",
       "</table>\n",
       "<p>4790 rows × 36 columns</p>\n",
       "</div>"
      ],
      "text/plain": [
       "      city_development_index  experience  last_new_job  training_hours  \\\n",
       "0                      0.924          15             2              58   \n",
       "1                      0.926          21             5             308   \n",
       "2                      0.923           2             0               8   \n",
       "3                      0.920           6             0              85   \n",
       "4                      0.920           7             1               3   \n",
       "...                      ...         ...           ...             ...   \n",
       "4785                   0.624           3             2              17   \n",
       "4786                   0.920          11             5              77   \n",
       "4787                   0.920          21             1             258   \n",
       "4788                   0.624           6             1              95   \n",
       "4789                   0.924           7             1              20   \n",
       "\n",
       "      High_School  Masters  Phd  Primary_School  education_level_Unknown  \\\n",
       "0               0        0    0               1                        0   \n",
       "1               0        1    0               0                        0   \n",
       "2               1        0    0               0                        0   \n",
       "3               0        0    0               1                        0   \n",
       "4               0        0    0               0                        0   \n",
       "...           ...      ...  ...             ...                      ...   \n",
       "4785            0        0    0               0                        0   \n",
       "4786            0        0    0               0                        0   \n",
       "4787            0        0    0               0                        0   \n",
       "4788            0        1    0               0                        0   \n",
       "4789            0        0    0               0                        0   \n",
       "\n",
       "      around_100  ...  Other_major  STEM  major_discipline_Unknown  \\\n",
       "0              0  ...            0     0                         1   \n",
       "1              0  ...            0     1                         0   \n",
       "2              0  ...            0     0                         1   \n",
       "3              0  ...            0     0                         1   \n",
       "4              0  ...            0     1                         0   \n",
       "...          ...  ...          ...   ...                       ...   \n",
       "4785           1  ...            0     1                         0   \n",
       "4786           0  ...            0     1                         0   \n",
       "4787           0  ...            0     0                         0   \n",
       "4788           1  ...            0     1                         0   \n",
       "4789           0  ...            0     1                         0   \n",
       "\n",
       "      Part_time_course  enrolled_university_Unknown  no_enrollment  \\\n",
       "0                    0                            0              1   \n",
       "1                    0                            0              1   \n",
       "2                    0                            0              0   \n",
       "3                    0                            0              1   \n",
       "4                    0                            0              1   \n",
       "...                ...                          ...            ...   \n",
       "4785                 0                            0              0   \n",
       "4786                 0                            0              1   \n",
       "4787                 0                            1              0   \n",
       "4788                 0                            0              0   \n",
       "4789                 1                            0              0   \n",
       "\n",
       "      No relevent experience  Male  Other  gender_Unknown  \n",
       "0                          0     1      0               0  \n",
       "1                          1     1      0               0  \n",
       "2                          1     1      0               0  \n",
       "3                          1     1      0               0  \n",
       "4                          0     0      0               0  \n",
       "...                      ...   ...    ...             ...  \n",
       "4785                       0     1      0               0  \n",
       "4786                       0     1      0               0  \n",
       "4787                       0     0      0               1  \n",
       "4788                       0     1      0               0  \n",
       "4789                       0     1      0               0  \n",
       "\n",
       "[4790 rows x 36 columns]"
      ]
     },
     "execution_count": 87,
     "metadata": {},
     "output_type": "execute_result"
    }
   ],
   "source": [
    "test_final_df"
   ]
  },
  {
   "cell_type": "code",
   "execution_count": 88,
   "id": "8160be6b",
   "metadata": {
    "execution": {
     "iopub.execute_input": "2022-03-13T17:40:14.973696Z",
     "iopub.status.busy": "2022-03-13T17:40:14.973005Z",
     "iopub.status.idle": "2022-03-13T17:40:14.981429Z",
     "shell.execute_reply": "2022-03-13T17:40:14.982057Z"
    },
    "papermill": {
     "duration": 0.235177,
     "end_time": "2022-03-13T17:40:14.982244",
     "exception": false,
     "start_time": "2022-03-13T17:40:14.747067",
     "status": "completed"
    },
    "tags": []
   },
   "outputs": [
    {
     "data": {
      "text/plain": [
       "city_development_index         0\n",
       "experience                     0\n",
       "last_new_job                   0\n",
       "training_hours                 0\n",
       "High_School                    0\n",
       "Masters                        0\n",
       "Phd                            0\n",
       "Primary_School                 0\n",
       "education_level_Unknown        0\n",
       "around_100                     0\n",
       "around_1000                    0\n",
       "around_10000                   0\n",
       "around_50                      0\n",
       "around_500                     0\n",
       "around_5000                    0\n",
       "company_size_Unknown           0\n",
       "more_than_10000                0\n",
       "Funded_Startup                 0\n",
       "NGO                            0\n",
       "Other_type                     0\n",
       "Public_Sector                  0\n",
       "Pvt_Ltd                        0\n",
       "company_type_Unknown           0\n",
       "Business_Degree                0\n",
       "Humanities                     0\n",
       "No_Major                       0\n",
       "Other_major                    0\n",
       "STEM                           0\n",
       "major_discipline_Unknown       0\n",
       "Part_time_course               0\n",
       "enrolled_university_Unknown    0\n",
       "no_enrollment                  0\n",
       "No relevent experience         0\n",
       "Male                           0\n",
       "Other                          0\n",
       "gender_Unknown                 0\n",
       "dtype: int64"
      ]
     },
     "execution_count": 88,
     "metadata": {},
     "output_type": "execute_result"
    }
   ],
   "source": [
    "test_final_df.isna().sum()"
   ]
  },
  {
   "cell_type": "markdown",
   "id": "b20fcd9c",
   "metadata": {
    "papermill": {
     "duration": 0.221885,
     "end_time": "2022-03-13T17:40:15.428101",
     "exception": false,
     "start_time": "2022-03-13T17:40:15.206216",
     "status": "completed"
    },
    "tags": []
   },
   "source": [
    "# **8. Scale the features for models that require scaling and perform required pre-processing**"
   ]
  },
  {
   "cell_type": "code",
   "execution_count": 89,
   "id": "cdf26474",
   "metadata": {
    "execution": {
     "iopub.execute_input": "2022-03-13T17:40:15.884769Z",
     "iopub.status.busy": "2022-03-13T17:40:15.884094Z",
     "iopub.status.idle": "2022-03-13T17:40:15.890694Z",
     "shell.execute_reply": "2022-03-13T17:40:15.891313Z"
    },
    "papermill": {
     "duration": 0.236396,
     "end_time": "2022-03-13T17:40:15.891492",
     "exception": false,
     "start_time": "2022-03-13T17:40:15.655096",
     "status": "completed"
    },
    "tags": []
   },
   "outputs": [],
   "source": [
    "X = final_df.drop(['target'], axis = 1)\n",
    "Y = final_df['target']"
   ]
  },
  {
   "cell_type": "code",
   "execution_count": 90,
   "id": "9d4582e7",
   "metadata": {
    "execution": {
     "iopub.execute_input": "2022-03-13T17:40:16.344457Z",
     "iopub.status.busy": "2022-03-13T17:40:16.343625Z",
     "iopub.status.idle": "2022-03-13T17:40:16.346608Z",
     "shell.execute_reply": "2022-03-13T17:40:16.347242Z"
    },
    "papermill": {
     "duration": 0.231835,
     "end_time": "2022-03-13T17:40:16.347434",
     "exception": false,
     "start_time": "2022-03-13T17:40:16.115599",
     "status": "completed"
    },
    "tags": []
   },
   "outputs": [],
   "source": [
    "#final_df"
   ]
  },
  {
   "cell_type": "code",
   "execution_count": 91,
   "id": "38b3fdee",
   "metadata": {
    "execution": {
     "iopub.execute_input": "2022-03-13T17:40:16.799664Z",
     "iopub.status.busy": "2022-03-13T17:40:16.799001Z",
     "iopub.status.idle": "2022-03-13T17:40:27.099074Z",
     "shell.execute_reply": "2022-03-13T17:40:27.098479Z"
    },
    "papermill": {
     "duration": 10.526994,
     "end_time": "2022-03-13T17:40:27.099238",
     "exception": false,
     "start_time": "2022-03-13T17:40:16.572244",
     "status": "completed"
    },
    "tags": []
   },
   "outputs": [],
   "source": [
    "from imblearn.combine import SMOTEENN\n",
    "sme = SMOTEENN(random_state=42)\n",
    "#smote=SMOTE(random_state=402)\n",
    "#sm = ADASYN()\n",
    "X_smote, Y_smote = sme.fit_resample(X,Y)\n",
    "\n"
   ]
  },
  {
   "cell_type": "code",
   "execution_count": null,
   "id": "0f20d5f0",
   "metadata": {
    "papermill": {
     "duration": 0.232502,
     "end_time": "2022-03-13T17:40:27.564847",
     "exception": false,
     "start_time": "2022-03-13T17:40:27.332345",
     "status": "completed"
    },
    "tags": []
   },
   "outputs": [],
   "source": [
    "\n"
   ]
  },
  {
   "cell_type": "code",
   "execution_count": 92,
   "id": "3b3a6fd8",
   "metadata": {
    "execution": {
     "iopub.execute_input": "2022-03-13T17:40:28.028840Z",
     "iopub.status.busy": "2022-03-13T17:40:28.028092Z",
     "iopub.status.idle": "2022-03-13T17:40:28.029619Z",
     "shell.execute_reply": "2022-03-13T17:40:28.030146Z"
    },
    "papermill": {
     "duration": 0.23935,
     "end_time": "2022-03-13T17:40:28.030329",
     "exception": false,
     "start_time": "2022-03-13T17:40:27.790979",
     "status": "completed"
    },
    "tags": []
   },
   "outputs": [],
   "source": [
    "#Y_smote.value_counts()"
   ]
  },
  {
   "cell_type": "code",
   "execution_count": 93,
   "id": "f135dac5",
   "metadata": {
    "execution": {
     "iopub.execute_input": "2022-03-13T17:40:28.498455Z",
     "iopub.status.busy": "2022-03-13T17:40:28.497412Z",
     "iopub.status.idle": "2022-03-13T17:40:28.500083Z",
     "shell.execute_reply": "2022-03-13T17:40:28.499538Z"
    },
    "papermill": {
     "duration": 0.233592,
     "end_time": "2022-03-13T17:40:28.500228",
     "exception": false,
     "start_time": "2022-03-13T17:40:28.266636",
     "status": "completed"
    },
    "tags": []
   },
   "outputs": [],
   "source": [
    "#from imblearn.over_sampling import RandomOverSampler\n",
    "#ros = RandomOverSampler(sampling_strategy='minority')"
   ]
  },
  {
   "cell_type": "code",
   "execution_count": 94,
   "id": "552fb3a5",
   "metadata": {
    "execution": {
     "iopub.execute_input": "2022-03-13T17:40:28.955624Z",
     "iopub.status.busy": "2022-03-13T17:40:28.954147Z",
     "iopub.status.idle": "2022-03-13T17:40:28.957564Z",
     "shell.execute_reply": "2022-03-13T17:40:28.958124Z"
    },
    "papermill": {
     "duration": 0.233139,
     "end_time": "2022-03-13T17:40:28.958304",
     "exception": false,
     "start_time": "2022-03-13T17:40:28.725165",
     "status": "completed"
    },
    "tags": []
   },
   "outputs": [],
   "source": [
    "#X_smote, Y_smote = ros.fit_resample(X, Y)"
   ]
  },
  {
   "cell_type": "markdown",
   "id": "688e411e",
   "metadata": {
    "papermill": {
     "duration": 0.252978,
     "end_time": "2022-03-13T17:40:29.450494",
     "exception": false,
     "start_time": "2022-03-13T17:40:29.197516",
     "status": "completed"
    },
    "tags": []
   },
   "source": [
    "Added now"
   ]
  },
  {
   "cell_type": "markdown",
   "id": "319bd97a",
   "metadata": {
    "papermill": {
     "duration": 0.226673,
     "end_time": "2022-03-13T17:40:29.907527",
     "exception": false,
     "start_time": "2022-03-13T17:40:29.680854",
     "status": "completed"
    },
    "tags": []
   },
   "source": [
    "Done"
   ]
  },
  {
   "cell_type": "markdown",
   "id": "687270fc",
   "metadata": {
    "papermill": {
     "duration": 0.229267,
     "end_time": "2022-03-13T17:40:30.368104",
     "exception": false,
     "start_time": "2022-03-13T17:40:30.138837",
     "status": "completed"
    },
    "tags": []
   },
   "source": [
    "**Both our Test and Train data are Scaled and preprocessed**"
   ]
  },
  {
   "cell_type": "markdown",
   "id": "60f78bfe",
   "metadata": {
    "papermill": {
     "duration": 0.222084,
     "end_time": "2022-03-13T17:40:30.818506",
     "exception": false,
     "start_time": "2022-03-13T17:40:30.596422",
     "status": "completed"
    },
    "tags": []
   },
   "source": [
    "# **Perform Pearson correlation between continuous features and plot the heatmap of the correlation matrix.**"
   ]
  },
  {
   "cell_type": "code",
   "execution_count": 95,
   "id": "e8253f09",
   "metadata": {
    "execution": {
     "iopub.execute_input": "2022-03-13T17:40:31.275526Z",
     "iopub.status.busy": "2022-03-13T17:40:31.274774Z",
     "iopub.status.idle": "2022-03-13T17:40:31.276590Z",
     "shell.execute_reply": "2022-03-13T17:40:31.277173Z"
    },
    "papermill": {
     "duration": 0.232576,
     "end_time": "2022-03-13T17:40:31.277353",
     "exception": false,
     "start_time": "2022-03-13T17:40:31.044777",
     "status": "completed"
    },
    "tags": []
   },
   "outputs": [],
   "source": [
    "#numeric_col"
   ]
  },
  {
   "cell_type": "code",
   "execution_count": 96,
   "id": "dc4e33a2",
   "metadata": {
    "execution": {
     "iopub.execute_input": "2022-03-13T17:40:31.733057Z",
     "iopub.status.busy": "2022-03-13T17:40:31.732329Z",
     "iopub.status.idle": "2022-03-13T17:40:31.735696Z",
     "shell.execute_reply": "2022-03-13T17:40:31.735164Z"
    },
    "papermill": {
     "duration": 0.232779,
     "end_time": "2022-03-13T17:40:31.735880",
     "exception": false,
     "start_time": "2022-03-13T17:40:31.503101",
     "status": "completed"
    },
    "tags": []
   },
   "outputs": [],
   "source": [
    "#scaled.corr()"
   ]
  },
  {
   "cell_type": "markdown",
   "id": "e28aff87",
   "metadata": {
    "papermill": {
     "duration": 0.228883,
     "end_time": "2022-03-13T17:40:32.191261",
     "exception": false,
     "start_time": "2022-03-13T17:40:31.962378",
     "status": "completed"
    },
    "tags": []
   },
   "source": [
    "**Heat Map for the Above table**"
   ]
  },
  {
   "cell_type": "code",
   "execution_count": 97,
   "id": "f3b85193",
   "metadata": {
    "execution": {
     "iopub.execute_input": "2022-03-13T17:40:32.658064Z",
     "iopub.status.busy": "2022-03-13T17:40:32.657337Z",
     "iopub.status.idle": "2022-03-13T17:40:32.660206Z",
     "shell.execute_reply": "2022-03-13T17:40:32.659604Z"
    },
    "papermill": {
     "duration": 0.241348,
     "end_time": "2022-03-13T17:40:32.660356",
     "exception": false,
     "start_time": "2022-03-13T17:40:32.419008",
     "status": "completed"
    },
    "tags": []
   },
   "outputs": [],
   "source": [
    "#fig, ax = plt.subplots(figsize=(14,14))\n",
    "#hm = sns.heatmap(scaled.corr(), annot=True, ax = ax)"
   ]
  },
  {
   "cell_type": "markdown",
   "id": "f26f46c4",
   "metadata": {
    "papermill": {
     "duration": 0.226571,
     "end_time": "2022-03-13T17:40:33.113097",
     "exception": false,
     "start_time": "2022-03-13T17:40:32.886526",
     "status": "completed"
    },
    "tags": []
   },
   "source": [
    "**We dont see very high corelation between the columns so its good to continue with all the features**"
   ]
  },
  {
   "cell_type": "markdown",
   "id": "e2a6ecef",
   "metadata": {
    "papermill": {
     "duration": 0.226687,
     "end_time": "2022-03-13T17:40:33.563782",
     "exception": false,
     "start_time": "2022-03-13T17:40:33.337095",
     "status": "completed"
    },
    "tags": []
   },
   "source": [
    "# **11. Perform t test on continuous features after dividing them using target variable.**"
   ]
  },
  {
   "cell_type": "code",
   "execution_count": 98,
   "id": "54917cba",
   "metadata": {
    "execution": {
     "iopub.execute_input": "2022-03-13T17:40:34.026306Z",
     "iopub.status.busy": "2022-03-13T17:40:34.022918Z",
     "iopub.status.idle": "2022-03-13T17:40:34.035168Z",
     "shell.execute_reply": "2022-03-13T17:40:34.034225Z"
    },
    "papermill": {
     "duration": 0.244362,
     "end_time": "2022-03-13T17:40:34.035351",
     "exception": false,
     "start_time": "2022-03-13T17:40:33.790989",
     "status": "completed"
    },
    "tags": []
   },
   "outputs": [],
   "source": [
    "x1 = final_df.loc[final_df['target'] == 1]\n",
    "x0 = final_df.loc[final_df['target'] == 0]\n"
   ]
  },
  {
   "cell_type": "code",
   "execution_count": 99,
   "id": "cd78cba1",
   "metadata": {
    "execution": {
     "iopub.execute_input": "2022-03-13T17:40:34.506498Z",
     "iopub.status.busy": "2022-03-13T17:40:34.505748Z",
     "iopub.status.idle": "2022-03-13T17:40:34.508527Z",
     "shell.execute_reply": "2022-03-13T17:40:34.509062Z"
    },
    "papermill": {
     "duration": 0.243391,
     "end_time": "2022-03-13T17:40:34.509239",
     "exception": false,
     "start_time": "2022-03-13T17:40:34.265848",
     "status": "completed"
    },
    "tags": []
   },
   "outputs": [
    {
     "data": {
      "text/plain": [
       "['gender',\n",
       " 'relevent_experience',\n",
       " 'enrolled_university',\n",
       " 'education_level',\n",
       " 'major_discipline',\n",
       " 'experience',\n",
       " 'company_size',\n",
       " 'company_type',\n",
       " 'last_new_job']"
      ]
     },
     "execution_count": 99,
     "metadata": {},
     "output_type": "execute_result"
    }
   ],
   "source": [
    "categorical_variable"
   ]
  },
  {
   "cell_type": "code",
   "execution_count": 100,
   "id": "bf04156d",
   "metadata": {
    "execution": {
     "iopub.execute_input": "2022-03-13T17:40:34.969927Z",
     "iopub.status.busy": "2022-03-13T17:40:34.969198Z",
     "iopub.status.idle": "2022-03-13T17:40:34.974633Z",
     "shell.execute_reply": "2022-03-13T17:40:34.975230Z"
    },
    "papermill": {
     "duration": 0.238259,
     "end_time": "2022-03-13T17:40:34.975403",
     "exception": false,
     "start_time": "2022-03-13T17:40:34.737144",
     "status": "completed"
    },
    "tags": []
   },
   "outputs": [
    {
     "data": {
      "text/plain": [
       "Index(['city_development_index', 'experience', 'last_new_job',\n",
       "       'training_hours', 'target', 'High_School', 'Masters', 'Phd',\n",
       "       'Primary_School', 'education_level_Unknown', 'around_100',\n",
       "       'around_1000', 'around_10000', 'around_50', 'around_500', 'around_5000',\n",
       "       'company_size_Unknown', 'more_than_10000', 'Funded_Startup', 'NGO',\n",
       "       'Other_type', 'Public_Sector', 'Pvt_Ltd', 'company_type_Unknown',\n",
       "       'Business_Degree', 'Humanities', 'No_Major', 'Other_major', 'STEM',\n",
       "       'major_discipline_Unknown', 'Part_time_course',\n",
       "       'enrolled_university_Unknown', 'no_enrollment',\n",
       "       'No relevent experience', 'Male', 'Other', 'gender_Unknown'],\n",
       "      dtype='object')"
      ]
     },
     "execution_count": 100,
     "metadata": {},
     "output_type": "execute_result"
    }
   ],
   "source": [
    "x1.columns"
   ]
  },
  {
   "cell_type": "code",
   "execution_count": 101,
   "id": "bbb7d4c3",
   "metadata": {
    "execution": {
     "iopub.execute_input": "2022-03-13T17:40:35.433116Z",
     "iopub.status.busy": "2022-03-13T17:40:35.430288Z",
     "iopub.status.idle": "2022-03-13T17:40:35.435373Z",
     "shell.execute_reply": "2022-03-13T17:40:35.435944Z"
    },
    "papermill": {
     "duration": 0.23492,
     "end_time": "2022-03-13T17:40:35.436120",
     "exception": false,
     "start_time": "2022-03-13T17:40:35.201200",
     "status": "completed"
    },
    "tags": []
   },
   "outputs": [
    {
     "data": {
      "text/plain": [
       "'from scipy import stats\\nttestans = []\\n\\nfor i in categorical_variable:\\n    for j in categorical_variable:\\n        if i == j:\\n            continue\\n        else:\\n            ttestans.append(stats.ttest_ind(train_features[i],train_features[j]))\\nttest'"
      ]
     },
     "execution_count": 101,
     "metadata": {},
     "output_type": "execute_result"
    }
   ],
   "source": [
    "'''from scipy import stats\n",
    "ttestans = []\n",
    "\n",
    "for i in categorical_variable:\n",
    "    for j in categorical_variable:\n",
    "        if i == j:\n",
    "            continue\n",
    "        else:\n",
    "            ttestans.append(stats.ttest_ind(train_features[i],train_features[j]))\n",
    "ttest'''"
   ]
  },
  {
   "cell_type": "markdown",
   "id": "9f73177c",
   "metadata": {
    "papermill": {
     "duration": 0.227447,
     "end_time": "2022-03-13T17:40:35.894844",
     "exception": false,
     "start_time": "2022-03-13T17:40:35.667397",
     "status": "completed"
    },
    "tags": []
   },
   "source": [
    "# **12. Perform Chi squared test among categorical variables and with the target variable**"
   ]
  },
  {
   "cell_type": "code",
   "execution_count": 102,
   "id": "7ded0eeb",
   "metadata": {
    "execution": {
     "iopub.execute_input": "2022-03-13T17:40:36.358008Z",
     "iopub.status.busy": "2022-03-13T17:40:36.357309Z",
     "iopub.status.idle": "2022-03-13T17:40:36.397027Z",
     "shell.execute_reply": "2022-03-13T17:40:36.397923Z"
    },
    "papermill": {
     "duration": 0.275668,
     "end_time": "2022-03-13T17:40:36.398206",
     "exception": false,
     "start_time": "2022-03-13T17:40:36.122538",
     "status": "completed"
    },
    "tags": []
   },
   "outputs": [
    {
     "data": {
      "text/html": [
       "<div>\n",
       "<style scoped>\n",
       "    .dataframe tbody tr th:only-of-type {\n",
       "        vertical-align: middle;\n",
       "    }\n",
       "\n",
       "    .dataframe tbody tr th {\n",
       "        vertical-align: top;\n",
       "    }\n",
       "\n",
       "    .dataframe thead th {\n",
       "        text-align: right;\n",
       "    }\n",
       "</style>\n",
       "<table border=\"1\" class=\"dataframe\">\n",
       "  <thead>\n",
       "    <tr style=\"text-align: right;\">\n",
       "      <th></th>\n",
       "      <th>0</th>\n",
       "      <th>Score</th>\n",
       "    </tr>\n",
       "  </thead>\n",
       "  <tbody>\n",
       "    <tr>\n",
       "      <th>35</th>\n",
       "      <td>company_size_max</td>\n",
       "      <td>9599.898366</td>\n",
       "    </tr>\n",
       "    <tr>\n",
       "      <th>0</th>\n",
       "      <td>city</td>\n",
       "      <td>8332.586545</td>\n",
       "    </tr>\n",
       "    <tr>\n",
       "      <th>34</th>\n",
       "      <td>company_size_min</td>\n",
       "      <td>4417.639237</td>\n",
       "    </tr>\n",
       "    <tr>\n",
       "      <th>24</th>\n",
       "      <td>experience</td>\n",
       "      <td>2522.087944</td>\n",
       "    </tr>\n",
       "    <tr>\n",
       "      <th>26</th>\n",
       "      <td>company_type_Unknown</td>\n",
       "      <td>459.619769</td>\n",
       "    </tr>\n",
       "    <tr>\n",
       "      <th>33</th>\n",
       "      <td>training_hours</td>\n",
       "      <td>356.821403</td>\n",
       "    </tr>\n",
       "    <tr>\n",
       "      <th>9</th>\n",
       "      <td>enrolled_university_Full time course</td>\n",
       "      <td>267.169846</td>\n",
       "    </tr>\n",
       "    <tr>\n",
       "      <th>27</th>\n",
       "      <td>company_type_Pvt Ltd</td>\n",
       "      <td>182.760256</td>\n",
       "    </tr>\n",
       "    <tr>\n",
       "      <th>7</th>\n",
       "      <td>enrolled_university_no_enrollment</td>\n",
       "      <td>82.592947</td>\n",
       "    </tr>\n",
       "    <tr>\n",
       "      <th>3</th>\n",
       "      <td>gender_Unknown</td>\n",
       "      <td>52.118505</td>\n",
       "    </tr>\n",
       "  </tbody>\n",
       "</table>\n",
       "</div>"
      ],
      "text/plain": [
       "                                       0        Score\n",
       "35                      company_size_max  9599.898366\n",
       "0                                   city  8332.586545\n",
       "34                      company_size_min  4417.639237\n",
       "24                            experience  2522.087944\n",
       "26                  company_type_Unknown   459.619769\n",
       "33                        training_hours   356.821403\n",
       "9   enrolled_university_Full time course   267.169846\n",
       "27                  company_type_Pvt Ltd   182.760256\n",
       "7      enrolled_university_no_enrollment    82.592947\n",
       "3                         gender_Unknown    52.118505"
      ]
     },
     "execution_count": 102,
     "metadata": {},
     "output_type": "execute_result"
    }
   ],
   "source": [
    "bestfeatures = SelectKBest(score_func=chi2, k=10)\n",
    "X_new = df_final.drop(\"target\",axis = 1)\n",
    "Y_new = df_final[\"target\"]\n",
    "fit = bestfeatures.fit(X_new,Y_new)\n",
    "dfscores = pd.DataFrame(fit.scores_,columns = [\"Score\"])\n",
    "dfcolumns = pd.DataFrame(X_new.columns)\n",
    "featureScores = pd.concat([dfcolumns,dfscores],axis=1)\n",
    "featureScores.nlargest(10,'Score')"
   ]
  },
  {
   "cell_type": "code",
   "execution_count": 103,
   "id": "0cfdfe29",
   "metadata": {
    "execution": {
     "iopub.execute_input": "2022-03-13T17:40:36.914936Z",
     "iopub.status.busy": "2022-03-13T17:40:36.914199Z",
     "iopub.status.idle": "2022-03-13T17:40:36.916733Z",
     "shell.execute_reply": "2022-03-13T17:40:36.916045Z"
    },
    "papermill": {
     "duration": 0.235663,
     "end_time": "2022-03-13T17:40:36.916884",
     "exception": false,
     "start_time": "2022-03-13T17:40:36.681221",
     "status": "completed"
    },
    "tags": []
   },
   "outputs": [],
   "source": [
    "#skb=SelectKBest(chi2,k=7)\n",
    "#skb.fit(X_train_under_sample, y_train_under_sample)\n",
    "#X_train_under_sample.columns[skb.get_support()]"
   ]
  },
  {
   "cell_type": "markdown",
   "id": "aa369013",
   "metadata": {
    "papermill": {
     "duration": 0.227806,
     "end_time": "2022-03-13T17:40:37.373412",
     "exception": false,
     "start_time": "2022-03-13T17:40:37.145606",
     "status": "completed"
    },
    "tags": []
   },
   "source": [
    "# **Using Logistic Regression for classification**"
   ]
  },
  {
   "cell_type": "markdown",
   "id": "6f72de03",
   "metadata": {
    "papermill": {
     "duration": 0.243332,
     "end_time": "2022-03-13T17:40:37.855675",
     "exception": false,
     "start_time": "2022-03-13T17:40:37.612343",
     "status": "completed"
    },
    "tags": []
   },
   "source": [
    "**Upscaling the features using SMOTE**"
   ]
  },
  {
   "cell_type": "code",
   "execution_count": 104,
   "id": "3bf3f7a0",
   "metadata": {
    "execution": {
     "iopub.execute_input": "2022-03-13T17:40:38.375572Z",
     "iopub.status.busy": "2022-03-13T17:40:38.374910Z",
     "iopub.status.idle": "2022-03-13T17:40:38.377760Z",
     "shell.execute_reply": "2022-03-13T17:40:38.377192Z"
    },
    "papermill": {
     "duration": 0.238225,
     "end_time": "2022-03-13T17:40:38.377922",
     "exception": false,
     "start_time": "2022-03-13T17:40:38.139697",
     "status": "completed"
    },
    "tags": []
   },
   "outputs": [],
   "source": [
    "#train_output"
   ]
  },
  {
   "cell_type": "code",
   "execution_count": 105,
   "id": "bfaa48c0",
   "metadata": {
    "execution": {
     "iopub.execute_input": "2022-03-13T17:40:38.840097Z",
     "iopub.status.busy": "2022-03-13T17:40:38.839216Z",
     "iopub.status.idle": "2022-03-13T17:40:38.841596Z",
     "shell.execute_reply": "2022-03-13T17:40:38.842192Z"
    },
    "papermill": {
     "duration": 0.234658,
     "end_time": "2022-03-13T17:40:38.842398",
     "exception": false,
     "start_time": "2022-03-13T17:40:38.607740",
     "status": "completed"
    },
    "tags": []
   },
   "outputs": [],
   "source": [
    "#smote=SMOTE(sampling_strategy='not majority')\n",
    "#X_sm , y_sm = smote.fit_resample(X,Y)"
   ]
  },
  {
   "cell_type": "code",
   "execution_count": 106,
   "id": "4e7a8a66",
   "metadata": {
    "execution": {
     "iopub.execute_input": "2022-03-13T17:40:39.314892Z",
     "iopub.status.busy": "2022-03-13T17:40:39.314183Z",
     "iopub.status.idle": "2022-03-13T17:40:39.317659Z",
     "shell.execute_reply": "2022-03-13T17:40:39.317113Z"
    },
    "papermill": {
     "duration": 0.239921,
     "end_time": "2022-03-13T17:40:39.317841",
     "exception": false,
     "start_time": "2022-03-13T17:40:39.077920",
     "status": "completed"
    },
    "tags": []
   },
   "outputs": [],
   "source": [
    "#y_sm.value_counts()"
   ]
  },
  {
   "cell_type": "markdown",
   "id": "cc934f31",
   "metadata": {
    "papermill": {
     "duration": 0.241346,
     "end_time": "2022-03-13T17:40:39.794635",
     "exception": false,
     "start_time": "2022-03-13T17:40:39.553289",
     "status": "completed"
    },
    "tags": []
   },
   "source": [
    "**We see that there is equal number of 0 and 1 in the data set**"
   ]
  },
  {
   "cell_type": "markdown",
   "id": "77b946c8",
   "metadata": {
    "papermill": {
     "duration": 0.236281,
     "end_time": "2022-03-13T17:40:40.264962",
     "exception": false,
     "start_time": "2022-03-13T17:40:40.028681",
     "status": "completed"
    },
    "tags": []
   },
   "source": [
    "**Now we are using Logistic Regression**"
   ]
  },
  {
   "cell_type": "code",
   "execution_count": 107,
   "id": "ded7e7fe",
   "metadata": {
    "execution": {
     "iopub.execute_input": "2022-03-13T17:40:40.767533Z",
     "iopub.status.busy": "2022-03-13T17:40:40.766738Z",
     "iopub.status.idle": "2022-03-13T17:40:40.769496Z",
     "shell.execute_reply": "2022-03-13T17:40:40.770165Z"
    },
    "papermill": {
     "duration": 0.242896,
     "end_time": "2022-03-13T17:40:40.770354",
     "exception": false,
     "start_time": "2022-03-13T17:40:40.527458",
     "status": "completed"
    },
    "tags": []
   },
   "outputs": [],
   "source": [
    "#"
   ]
  },
  {
   "cell_type": "code",
   "execution_count": 108,
   "id": "21af931a",
   "metadata": {
    "execution": {
     "iopub.execute_input": "2022-03-13T17:40:41.246157Z",
     "iopub.status.busy": "2022-03-13T17:40:41.245459Z",
     "iopub.status.idle": "2022-03-13T17:40:41.248502Z",
     "shell.execute_reply": "2022-03-13T17:40:41.249311Z"
    },
    "papermill": {
     "duration": 0.241408,
     "end_time": "2022-03-13T17:40:41.249565",
     "exception": false,
     "start_time": "2022-03-13T17:40:41.008157",
     "status": "completed"
    },
    "tags": []
   },
   "outputs": [],
   "source": [
    "#y_good"
   ]
  },
  {
   "cell_type": "code",
   "execution_count": 109,
   "id": "e6016eb9",
   "metadata": {
    "execution": {
     "iopub.execute_input": "2022-03-13T17:40:41.734543Z",
     "iopub.status.busy": "2022-03-13T17:40:41.733818Z",
     "iopub.status.idle": "2022-03-13T17:40:41.737645Z",
     "shell.execute_reply": "2022-03-13T17:40:41.737097Z"
    },
    "papermill": {
     "duration": 0.252682,
     "end_time": "2022-03-13T17:40:41.737836",
     "exception": false,
     "start_time": "2022-03-13T17:40:41.485154",
     "status": "completed"
    },
    "tags": []
   },
   "outputs": [],
   "source": [
    "#X_train,X_test,y_train,y_test=train_test_split(scaled,y_good,test_size=0.25,random_state=40)"
   ]
  },
  {
   "cell_type": "code",
   "execution_count": 110,
   "id": "ad1244c3",
   "metadata": {
    "execution": {
     "iopub.execute_input": "2022-03-13T17:40:42.211557Z",
     "iopub.status.busy": "2022-03-13T17:40:42.210847Z",
     "iopub.status.idle": "2022-03-13T17:40:42.217608Z",
     "shell.execute_reply": "2022-03-13T17:40:42.217043Z"
    },
    "papermill": {
     "duration": 0.245453,
     "end_time": "2022-03-13T17:40:42.217787",
     "exception": false,
     "start_time": "2022-03-13T17:40:41.972334",
     "status": "completed"
    },
    "tags": []
   },
   "outputs": [
    {
     "data": {
      "text/plain": [
       "'print(\"size of X_train is: \", X_train.shape)\\nprint(\"size of X_test is: \", X_test.shape)\\nprint(\"size of y_train is: \", y_train.shape)\\nprint(\"size of y_test is: \", y_test.shape)\\nX_train'"
      ]
     },
     "execution_count": 110,
     "metadata": {},
     "output_type": "execute_result"
    }
   ],
   "source": [
    "'''print(\"size of X_train is: \", X_train.shape)\n",
    "print(\"size of X_test is: \", X_test.shape)\n",
    "print(\"size of y_train is: \", y_train.shape)\n",
    "print(\"size of y_test is: \", y_test.shape)\n",
    "X_train'''"
   ]
  },
  {
   "cell_type": "code",
   "execution_count": 111,
   "id": "fa847ddb",
   "metadata": {
    "execution": {
     "iopub.execute_input": "2022-03-13T17:40:42.689076Z",
     "iopub.status.busy": "2022-03-13T17:40:42.687930Z",
     "iopub.status.idle": "2022-03-13T17:40:42.694167Z",
     "shell.execute_reply": "2022-03-13T17:40:42.694735Z"
    },
    "papermill": {
     "duration": 0.243968,
     "end_time": "2022-03-13T17:40:42.694929",
     "exception": false,
     "start_time": "2022-03-13T17:40:42.450961",
     "status": "completed"
    },
    "tags": []
   },
   "outputs": [
    {
     "data": {
      "text/plain": [
       "'\\nlog_model = LogisticRegression()'"
      ]
     },
     "execution_count": 111,
     "metadata": {},
     "output_type": "execute_result"
    }
   ],
   "source": [
    "'''\n",
    "log_model = LogisticRegression()'''"
   ]
  },
  {
   "cell_type": "code",
   "execution_count": 112,
   "id": "b1e6ff11",
   "metadata": {
    "execution": {
     "iopub.execute_input": "2022-03-13T17:40:43.175920Z",
     "iopub.status.busy": "2022-03-13T17:40:43.175194Z",
     "iopub.status.idle": "2022-03-13T17:40:43.179206Z",
     "shell.execute_reply": "2022-03-13T17:40:43.178619Z"
    },
    "papermill": {
     "duration": 0.245658,
     "end_time": "2022-03-13T17:40:43.179446",
     "exception": false,
     "start_time": "2022-03-13T17:40:42.933788",
     "status": "completed"
    },
    "tags": []
   },
   "outputs": [
    {
     "data": {
      "text/plain": [
       "\"hyperparam = dict()\\nhyperparam['solver'] = ['newton-cg', 'lbfgs', 'liblinear']\\nhyperparam['penalty'] = ['l1', 'l2', 'elasticnet']\\nhyperparam['C'] = [1e-5, 1e-4, 1e-3, 1e-2, 1e-1, 1, 10, 20, 30 ,40, 50 ,60 ,70, 80, 90, 100]\""
      ]
     },
     "execution_count": 112,
     "metadata": {},
     "output_type": "execute_result"
    }
   ],
   "source": [
    "'''hyperparam = dict()\n",
    "hyperparam['solver'] = ['newton-cg', 'lbfgs', 'liblinear']\n",
    "hyperparam['penalty'] = ['l1', 'l2', 'elasticnet']\n",
    "hyperparam['C'] = [1e-5, 1e-4, 1e-3, 1e-2, 1e-1, 1, 10, 20, 30 ,40, 50 ,60 ,70, 80, 90, 100]'''"
   ]
  },
  {
   "cell_type": "code",
   "execution_count": null,
   "id": "2cb746e0",
   "metadata": {
    "papermill": {
     "duration": 0.229213,
     "end_time": "2022-03-13T17:40:43.643106",
     "exception": false,
     "start_time": "2022-03-13T17:40:43.413893",
     "status": "completed"
    },
    "tags": []
   },
   "outputs": [],
   "source": []
  },
  {
   "cell_type": "code",
   "execution_count": 113,
   "id": "d83581a4",
   "metadata": {
    "execution": {
     "iopub.execute_input": "2022-03-13T17:40:44.115493Z",
     "iopub.status.busy": "2022-03-13T17:40:44.114604Z",
     "iopub.status.idle": "2022-03-13T17:40:44.117210Z",
     "shell.execute_reply": "2022-03-13T17:40:44.117784Z"
    },
    "papermill": {
     "duration": 0.240114,
     "end_time": "2022-03-13T17:40:44.117973",
     "exception": false,
     "start_time": "2022-03-13T17:40:43.877859",
     "status": "completed"
    },
    "tags": []
   },
   "outputs": [],
   "source": [
    "#folds = KFold(n_splits = 5, shuffle = True, random_state = 100)"
   ]
  },
  {
   "cell_type": "code",
   "execution_count": 114,
   "id": "dc1b0fca",
   "metadata": {
    "execution": {
     "iopub.execute_input": "2022-03-13T17:40:44.588453Z",
     "iopub.status.busy": "2022-03-13T17:40:44.587759Z",
     "iopub.status.idle": "2022-03-13T17:40:44.590883Z",
     "shell.execute_reply": "2022-03-13T17:40:44.590288Z"
    },
    "papermill": {
     "duration": 0.238949,
     "end_time": "2022-03-13T17:40:44.591031",
     "exception": false,
     "start_time": "2022-03-13T17:40:44.352082",
     "status": "completed"
    },
    "tags": []
   },
   "outputs": [],
   "source": [
    "#good_log = GridSearchCV(log_model, hyperparam, scoring='accuracy',cv=folds)"
   ]
  },
  {
   "cell_type": "code",
   "execution_count": 115,
   "id": "e5afe915",
   "metadata": {
    "_kg_hide-input": true,
    "_kg_hide-output": true,
    "execution": {
     "iopub.execute_input": "2022-03-13T17:40:45.063602Z",
     "iopub.status.busy": "2022-03-13T17:40:45.062975Z",
     "iopub.status.idle": "2022-03-13T17:40:45.065900Z",
     "shell.execute_reply": "2022-03-13T17:40:45.066395Z"
    },
    "papermill": {
     "duration": 0.241787,
     "end_time": "2022-03-13T17:40:45.066562",
     "exception": false,
     "start_time": "2022-03-13T17:40:44.824775",
     "status": "completed"
    },
    "tags": []
   },
   "outputs": [],
   "source": [
    "#res = good_log.fit(X_train,y_train)"
   ]
  },
  {
   "cell_type": "code",
   "execution_count": 116,
   "id": "16ea7aa9",
   "metadata": {
    "execution": {
     "iopub.execute_input": "2022-03-13T17:40:45.533242Z",
     "iopub.status.busy": "2022-03-13T17:40:45.532571Z",
     "iopub.status.idle": "2022-03-13T17:40:45.535553Z",
     "shell.execute_reply": "2022-03-13T17:40:45.536073Z"
    },
    "papermill": {
     "duration": 0.238051,
     "end_time": "2022-03-13T17:40:45.536335",
     "exception": false,
     "start_time": "2022-03-13T17:40:45.298284",
     "status": "completed"
    },
    "tags": []
   },
   "outputs": [],
   "source": [
    "#y_guess = good_log.predict(X_test)"
   ]
  },
  {
   "cell_type": "code",
   "execution_count": 117,
   "id": "37d1e13a",
   "metadata": {
    "execution": {
     "iopub.execute_input": "2022-03-13T17:40:46.003206Z",
     "iopub.status.busy": "2022-03-13T17:40:46.002519Z",
     "iopub.status.idle": "2022-03-13T17:40:46.005665Z",
     "shell.execute_reply": "2022-03-13T17:40:46.006208Z"
    },
    "papermill": {
     "duration": 0.23738,
     "end_time": "2022-03-13T17:40:46.006390",
     "exception": false,
     "start_time": "2022-03-13T17:40:45.769010",
     "status": "completed"
    },
    "tags": []
   },
   "outputs": [],
   "source": [
    "#"
   ]
  },
  {
   "cell_type": "code",
   "execution_count": 118,
   "id": "de80947c",
   "metadata": {
    "execution": {
     "iopub.execute_input": "2022-03-13T17:40:46.473618Z",
     "iopub.status.busy": "2022-03-13T17:40:46.472836Z",
     "iopub.status.idle": "2022-03-13T17:40:46.475672Z",
     "shell.execute_reply": "2022-03-13T17:40:46.476178Z"
    },
    "papermill": {
     "duration": 0.237567,
     "end_time": "2022-03-13T17:40:46.476444",
     "exception": false,
     "start_time": "2022-03-13T17:40:46.238877",
     "status": "completed"
    },
    "tags": []
   },
   "outputs": [],
   "source": [
    "#report = classification_report(y_test,y_guess,output_dict=True,zero_division=1)\n",
    "#print(pd.DataFrame(report).transpose())"
   ]
  },
  {
   "cell_type": "code",
   "execution_count": 119,
   "id": "25ab9018",
   "metadata": {
    "execution": {
     "iopub.execute_input": "2022-03-13T17:40:46.941567Z",
     "iopub.status.busy": "2022-03-13T17:40:46.940936Z",
     "iopub.status.idle": "2022-03-13T17:40:46.945283Z",
     "shell.execute_reply": "2022-03-13T17:40:46.944780Z"
    },
    "papermill": {
     "duration": 0.2394,
     "end_time": "2022-03-13T17:40:46.945435",
     "exception": false,
     "start_time": "2022-03-13T17:40:46.706035",
     "status": "completed"
    },
    "tags": []
   },
   "outputs": [],
   "source": [
    "#test_dfgood.isna().sum()"
   ]
  },
  {
   "cell_type": "code",
   "execution_count": 120,
   "id": "ac50dd1a",
   "metadata": {
    "execution": {
     "iopub.execute_input": "2022-03-13T17:40:47.422553Z",
     "iopub.status.busy": "2022-03-13T17:40:47.421284Z",
     "iopub.status.idle": "2022-03-13T17:40:47.425629Z",
     "shell.execute_reply": "2022-03-13T17:40:47.426335Z"
    },
    "papermill": {
     "duration": 0.240066,
     "end_time": "2022-03-13T17:40:47.426543",
     "exception": false,
     "start_time": "2022-03-13T17:40:47.186477",
     "status": "completed"
    },
    "tags": []
   },
   "outputs": [],
   "source": [
    "#X_train"
   ]
  },
  {
   "cell_type": "code",
   "execution_count": 121,
   "id": "248b953e",
   "metadata": {
    "execution": {
     "iopub.execute_input": "2022-03-13T17:40:47.905421Z",
     "iopub.status.busy": "2022-03-13T17:40:47.903794Z",
     "iopub.status.idle": "2022-03-13T17:40:47.907334Z",
     "shell.execute_reply": "2022-03-13T17:40:47.907893Z"
    },
    "papermill": {
     "duration": 0.243067,
     "end_time": "2022-03-13T17:40:47.908101",
     "exception": false,
     "start_time": "2022-03-13T17:40:47.665034",
     "status": "completed"
    },
    "tags": []
   },
   "outputs": [],
   "source": [
    "#y_final = good_log.predict(test_dfgood)"
   ]
  },
  {
   "cell_type": "code",
   "execution_count": 122,
   "id": "b505cb72",
   "metadata": {
    "execution": {
     "iopub.execute_input": "2022-03-13T17:40:48.376844Z",
     "iopub.status.busy": "2022-03-13T17:40:48.375884Z",
     "iopub.status.idle": "2022-03-13T17:40:48.379051Z",
     "shell.execute_reply": "2022-03-13T17:40:48.379616Z"
    },
    "papermill": {
     "duration": 0.239997,
     "end_time": "2022-03-13T17:40:48.379821",
     "exception": false,
     "start_time": "2022-03-13T17:40:48.139824",
     "status": "completed"
    },
    "tags": []
   },
   "outputs": [],
   "source": [
    "#len(y_final)"
   ]
  },
  {
   "cell_type": "code",
   "execution_count": 123,
   "id": "a21dcac4",
   "metadata": {
    "execution": {
     "iopub.execute_input": "2022-03-13T17:40:48.852597Z",
     "iopub.status.busy": "2022-03-13T17:40:48.851758Z",
     "iopub.status.idle": "2022-03-13T17:40:48.855148Z",
     "shell.execute_reply": "2022-03-13T17:40:48.855651Z"
    },
    "papermill": {
     "duration": 0.243435,
     "end_time": "2022-03-13T17:40:48.855834",
     "exception": false,
     "start_time": "2022-03-13T17:40:48.612399",
     "status": "completed"
    },
    "tags": []
   },
   "outputs": [
    {
     "data": {
      "text/plain": [
       "'ID_column = test_features[\"index\"]\\nresults = pd.concat([ID_column, pd.DataFrame(y_final)], axis=1)\\nresults.columns = [\\'index\\', \\'target\\']\\nresults.to_csv(\"submission.csv\",index = False)'"
      ]
     },
     "execution_count": 123,
     "metadata": {},
     "output_type": "execute_result"
    }
   ],
   "source": [
    "'''ID_column = test_features[\"index\"]\n",
    "results = pd.concat([ID_column, pd.DataFrame(y_final)], axis=1)\n",
    "results.columns = ['index', 'target']\n",
    "results.to_csv(\"submission.csv\",index = False)'''"
   ]
  },
  {
   "cell_type": "code",
   "execution_count": 124,
   "id": "9fe310fb",
   "metadata": {
    "execution": {
     "iopub.execute_input": "2022-03-13T17:40:49.330097Z",
     "iopub.status.busy": "2022-03-13T17:40:49.329064Z",
     "iopub.status.idle": "2022-03-13T17:40:49.332492Z",
     "shell.execute_reply": "2022-03-13T17:40:49.333161Z"
    },
    "papermill": {
     "duration": 0.243098,
     "end_time": "2022-03-13T17:40:49.333345",
     "exception": false,
     "start_time": "2022-03-13T17:40:49.090247",
     "status": "completed"
    },
    "tags": []
   },
   "outputs": [],
   "source": [
    "#results.head()"
   ]
  },
  {
   "cell_type": "markdown",
   "id": "7ced0f84",
   "metadata": {
    "papermill": {
     "duration": 0.233463,
     "end_time": "2022-03-13T17:40:49.809768",
     "exception": false,
     "start_time": "2022-03-13T17:40:49.576305",
     "status": "completed"
    },
    "tags": []
   },
   "source": [
    "**The Best Score for Linear Regression was 0.37**"
   ]
  },
  {
   "cell_type": "markdown",
   "id": "ee10b865",
   "metadata": {
    "papermill": {
     "duration": 0.237856,
     "end_time": "2022-03-13T17:40:50.283928",
     "exception": false,
     "start_time": "2022-03-13T17:40:50.046072",
     "status": "completed"
    },
    "tags": []
   },
   "source": [
    "**Using Random Forest**"
   ]
  },
  {
   "cell_type": "code",
   "execution_count": 125,
   "id": "518b2558",
   "metadata": {
    "execution": {
     "iopub.execute_input": "2022-03-13T17:40:50.764639Z",
     "iopub.status.busy": "2022-03-13T17:40:50.763485Z",
     "iopub.status.idle": "2022-03-13T17:40:50.766221Z",
     "shell.execute_reply": "2022-03-13T17:40:50.765658Z"
    },
    "papermill": {
     "duration": 0.240522,
     "end_time": "2022-03-13T17:40:50.766374",
     "exception": false,
     "start_time": "2022-03-13T17:40:50.525852",
     "status": "completed"
    },
    "tags": []
   },
   "outputs": [],
   "source": [
    "#param_grid = {} \n",
    "#param_grid['n_estimators']= [25,50,60]\n",
    "#param_grid['max_features']= [3,4,5]\n",
    "#param_grid['max_depth']= [5,6,7]\n",
    "#param_grid['min_samples_leaf']= [8,9,10,11]\n",
    "#param_grid['random_state']= [1,42]"
   ]
  },
  {
   "cell_type": "code",
   "execution_count": 126,
   "id": "651e31c0",
   "metadata": {
    "execution": {
     "iopub.execute_input": "2022-03-13T17:40:51.239439Z",
     "iopub.status.busy": "2022-03-13T17:40:51.238783Z",
     "iopub.status.idle": "2022-03-13T17:40:51.241477Z",
     "shell.execute_reply": "2022-03-13T17:40:51.241959Z"
    },
    "papermill": {
     "duration": 0.240454,
     "end_time": "2022-03-13T17:40:51.242133",
     "exception": false,
     "start_time": "2022-03-13T17:40:51.001679",
     "status": "completed"
    },
    "tags": []
   },
   "outputs": [],
   "source": [
    "#rand_for = RandomForestClassifier()\n",
    "#rf_cv =  GridSearchCV(rand_for, param_grid)"
   ]
  },
  {
   "cell_type": "code",
   "execution_count": 127,
   "id": "3666f201",
   "metadata": {
    "execution": {
     "iopub.execute_input": "2022-03-13T17:40:51.744239Z",
     "iopub.status.busy": "2022-03-13T17:40:51.743508Z",
     "iopub.status.idle": "2022-03-13T17:40:51.746958Z",
     "shell.execute_reply": "2022-03-13T17:40:51.747580Z"
    },
    "papermill": {
     "duration": 0.244129,
     "end_time": "2022-03-13T17:40:51.747801",
     "exception": false,
     "start_time": "2022-03-13T17:40:51.503672",
     "status": "completed"
    },
    "tags": []
   },
   "outputs": [],
   "source": [
    "#rf_cv.fit(X_train, y_train)\n",
    "#rfpre = rf_cv.predict(X_test)\n",
    "\n",
    "#rand_for.fit(X_train, y_train)\n",
    "#rfpre = rand_for.predict(X_test)"
   ]
  },
  {
   "cell_type": "code",
   "execution_count": 128,
   "id": "54b19726",
   "metadata": {
    "execution": {
     "iopub.execute_input": "2022-03-13T17:40:52.219147Z",
     "iopub.status.busy": "2022-03-13T17:40:52.218458Z",
     "iopub.status.idle": "2022-03-13T17:40:52.221331Z",
     "shell.execute_reply": "2022-03-13T17:40:52.221853Z"
    },
    "papermill": {
     "duration": 0.238491,
     "end_time": "2022-03-13T17:40:52.222041",
     "exception": false,
     "start_time": "2022-03-13T17:40:51.983550",
     "status": "completed"
    },
    "tags": []
   },
   "outputs": [],
   "source": [
    "#report_rf = classification_report(y_test,rfpre,output_dict=True,zero_division=1)\n",
    "#print(pd.DataFrame(report_rf).transpose())"
   ]
  },
  {
   "cell_type": "code",
   "execution_count": 129,
   "id": "0baae8e5",
   "metadata": {
    "execution": {
     "iopub.execute_input": "2022-03-13T17:40:52.693401Z",
     "iopub.status.busy": "2022-03-13T17:40:52.692668Z",
     "iopub.status.idle": "2022-03-13T17:40:52.695513Z",
     "shell.execute_reply": "2022-03-13T17:40:52.696063Z"
    },
    "papermill": {
     "duration": 0.238241,
     "end_time": "2022-03-13T17:40:52.696311",
     "exception": false,
     "start_time": "2022-03-13T17:40:52.458070",
     "status": "completed"
    },
    "tags": []
   },
   "outputs": [],
   "source": [
    "#y_final = rand_for.predict(test_dfgood)"
   ]
  },
  {
   "cell_type": "code",
   "execution_count": 130,
   "id": "f5a32dae",
   "metadata": {
    "execution": {
     "iopub.execute_input": "2022-03-13T17:40:53.171107Z",
     "iopub.status.busy": "2022-03-13T17:40:53.170428Z",
     "iopub.status.idle": "2022-03-13T17:40:53.173387Z",
     "shell.execute_reply": "2022-03-13T17:40:53.173970Z"
    },
    "papermill": {
     "duration": 0.243141,
     "end_time": "2022-03-13T17:40:53.174141",
     "exception": false,
     "start_time": "2022-03-13T17:40:52.931000",
     "status": "completed"
    },
    "tags": []
   },
   "outputs": [],
   "source": [
    "#ID_column = test_features[\"index\"]\n",
    "#results = pd.concat([ID_column, pd.DataFrame(y_final)], axis=1)"
   ]
  },
  {
   "cell_type": "code",
   "execution_count": 131,
   "id": "9cb0e313",
   "metadata": {
    "execution": {
     "iopub.execute_input": "2022-03-13T17:40:53.647921Z",
     "iopub.status.busy": "2022-03-13T17:40:53.647087Z",
     "iopub.status.idle": "2022-03-13T17:40:53.650536Z",
     "shell.execute_reply": "2022-03-13T17:40:53.651077Z"
    },
    "papermill": {
     "duration": 0.239772,
     "end_time": "2022-03-13T17:40:53.651270",
     "exception": false,
     "start_time": "2022-03-13T17:40:53.411498",
     "status": "completed"
    },
    "tags": []
   },
   "outputs": [],
   "source": [
    "#results.shape"
   ]
  },
  {
   "cell_type": "code",
   "execution_count": 132,
   "id": "9b40c454",
   "metadata": {
    "execution": {
     "iopub.execute_input": "2022-03-13T17:40:54.128122Z",
     "iopub.status.busy": "2022-03-13T17:40:54.127362Z",
     "iopub.status.idle": "2022-03-13T17:40:54.131737Z",
     "shell.execute_reply": "2022-03-13T17:40:54.132305Z"
    },
    "papermill": {
     "duration": 0.244483,
     "end_time": "2022-03-13T17:40:54.132487",
     "exception": false,
     "start_time": "2022-03-13T17:40:53.888004",
     "status": "completed"
    },
    "tags": []
   },
   "outputs": [],
   "source": [
    "#results.columns = ['index', 'target']"
   ]
  },
  {
   "cell_type": "code",
   "execution_count": 133,
   "id": "4ab1d4cb",
   "metadata": {
    "execution": {
     "iopub.execute_input": "2022-03-13T17:40:54.617254Z",
     "iopub.status.busy": "2022-03-13T17:40:54.616547Z",
     "iopub.status.idle": "2022-03-13T17:40:54.620510Z",
     "shell.execute_reply": "2022-03-13T17:40:54.619981Z"
    },
    "papermill": {
     "duration": 0.244041,
     "end_time": "2022-03-13T17:40:54.620660",
     "exception": false,
     "start_time": "2022-03-13T17:40:54.376619",
     "status": "completed"
    },
    "tags": []
   },
   "outputs": [],
   "source": [
    "#results.to_csv(\"submission.csv\",index = False)"
   ]
  },
  {
   "cell_type": "code",
   "execution_count": 134,
   "id": "58c5947e",
   "metadata": {
    "execution": {
     "iopub.execute_input": "2022-03-13T17:40:55.092005Z",
     "iopub.status.busy": "2022-03-13T17:40:55.091341Z",
     "iopub.status.idle": "2022-03-13T17:40:55.094215Z",
     "shell.execute_reply": "2022-03-13T17:40:55.094747Z"
    },
    "papermill": {
     "duration": 0.241331,
     "end_time": "2022-03-13T17:40:55.094920",
     "exception": false,
     "start_time": "2022-03-13T17:40:54.853589",
     "status": "completed"
    },
    "tags": []
   },
   "outputs": [],
   "source": [
    "#from sklearn.metrics import accuracy_score\n",
    "#acc_random_forest = accuracy_score(y_test, rfpre)"
   ]
  },
  {
   "cell_type": "code",
   "execution_count": 135,
   "id": "c33be294",
   "metadata": {
    "execution": {
     "iopub.execute_input": "2022-03-13T17:40:55.575877Z",
     "iopub.status.busy": "2022-03-13T17:40:55.575185Z",
     "iopub.status.idle": "2022-03-13T17:40:55.578122Z",
     "shell.execute_reply": "2022-03-13T17:40:55.578647Z"
    },
    "papermill": {
     "duration": 0.248451,
     "end_time": "2022-03-13T17:40:55.578840",
     "exception": false,
     "start_time": "2022-03-13T17:40:55.330389",
     "status": "completed"
    },
    "tags": []
   },
   "outputs": [],
   "source": [
    "#print(acc_random_forest)"
   ]
  },
  {
   "cell_type": "code",
   "execution_count": 136,
   "id": "4e5884be",
   "metadata": {
    "execution": {
     "iopub.execute_input": "2022-03-13T17:40:56.052654Z",
     "iopub.status.busy": "2022-03-13T17:40:56.051977Z",
     "iopub.status.idle": "2022-03-13T17:40:56.055400Z",
     "shell.execute_reply": "2022-03-13T17:40:56.055973Z"
    },
    "papermill": {
     "duration": 0.243084,
     "end_time": "2022-03-13T17:40:56.056147",
     "exception": false,
     "start_time": "2022-03-13T17:40:55.813063",
     "status": "completed"
    },
    "tags": []
   },
   "outputs": [],
   "source": [
    "#Y.shape"
   ]
  },
  {
   "cell_type": "code",
   "execution_count": 137,
   "id": "16dc7dac",
   "metadata": {
    "execution": {
     "iopub.execute_input": "2022-03-13T17:40:56.533364Z",
     "iopub.status.busy": "2022-03-13T17:40:56.532652Z",
     "iopub.status.idle": "2022-03-13T17:40:56.543251Z",
     "shell.execute_reply": "2022-03-13T17:40:56.543820Z"
    },
    "papermill": {
     "duration": 0.251403,
     "end_time": "2022-03-13T17:40:56.543998",
     "exception": false,
     "start_time": "2022-03-13T17:40:56.292595",
     "status": "completed"
    },
    "tags": []
   },
   "outputs": [],
   "source": [
    "X_train,X_test,y_train,y_test=train_test_split(X_smote,Y_smote,test_size=0.20)"
   ]
  },
  {
   "cell_type": "code",
   "execution_count": 138,
   "id": "728eeb52",
   "metadata": {
    "execution": {
     "iopub.execute_input": "2022-03-13T17:40:57.092092Z",
     "iopub.status.busy": "2022-03-13T17:40:57.091347Z",
     "iopub.status.idle": "2022-03-13T17:40:57.118937Z",
     "shell.execute_reply": "2022-03-13T17:40:57.119607Z"
    },
    "papermill": {
     "duration": 0.334023,
     "end_time": "2022-03-13T17:40:57.119844",
     "exception": false,
     "start_time": "2022-03-13T17:40:56.785821",
     "status": "completed"
    },
    "tags": []
   },
   "outputs": [],
   "source": [
    "sc=StandardScaler()\n",
    "X_train=sc.fit_transform(X_train)\n",
    "X_test=sc.fit_transform(X_test)\n",
    "test_final_df = sc.fit_transform(test_final_df)"
   ]
  },
  {
   "cell_type": "code",
   "execution_count": 139,
   "id": "a3c85eab",
   "metadata": {
    "execution": {
     "iopub.execute_input": "2022-03-13T17:40:57.630843Z",
     "iopub.status.busy": "2022-03-13T17:40:57.629887Z",
     "iopub.status.idle": "2022-03-13T17:40:57.632997Z",
     "shell.execute_reply": "2022-03-13T17:40:57.633561Z"
    },
    "papermill": {
     "duration": 0.255051,
     "end_time": "2022-03-13T17:40:57.633752",
     "exception": false,
     "start_time": "2022-03-13T17:40:57.378701",
     "status": "completed"
    },
    "tags": []
   },
   "outputs": [],
   "source": [
    "def metrics1(Y_test,Y_pred):\n",
    "    print(\"\\n\")\n",
    "    print(\"Accuracy :\",accuracy_score(Y_pred,Y_test))\n",
    "    print(\"\\n\")\n",
    "    print(\"Precision Score : \",precision_score(Y_pred,Y_test))\n",
    "    print(\"\\n\")\n",
    "    print(\"Recall Score : \",recall_score(Y_pred,Y_test))\n",
    "    print(\"\\n\")\n",
    "    print(\"ROC AUC Score : \",roc_auc_score(Y_pred,Y_test))\n",
    "    print(\"\\n\")\n",
    "    print(\"Classification Report\\n\\n\",classification_report(Y_pred,Y_test))\n",
    "    print(\"\\n\")\n",
    "    cf_matrix = confusion_matrix(Y_pred,Y_test)\n",
    "    group_names = ['True Neg','False Pos','False Neg','True Pos']\n",
    "    group_counts = [\"{0:0.0f}\".format(value) for value in cf_matrix.flatten()]\n",
    "    group_percentages = [\"{0:.2%}\".format(value) for value in cf_matrix.flatten()/np.sum(cf_matrix)]\n",
    "    labels = [f\"{v1}\\n{v2}\\n{v3}\" for v1, v2, v3 in zip(group_names,group_counts,group_percentages)]\n",
    "    labels = np.asarray(labels).reshape(2,2)\n",
    "    print(\"Confusion Matrix\")\n",
    "    sns.heatmap(cf_matrix, annot=labels, fmt=\"\", cmap='Blues')\n",
    "    plt.plot()"
   ]
  },
  {
   "cell_type": "code",
   "execution_count": 140,
   "id": "19d8d716",
   "metadata": {
    "execution": {
     "iopub.execute_input": "2022-03-13T17:40:58.138256Z",
     "iopub.status.busy": "2022-03-13T17:40:58.137090Z",
     "iopub.status.idle": "2022-03-13T17:40:58.140012Z",
     "shell.execute_reply": "2022-03-13T17:40:58.140587Z"
    },
    "papermill": {
     "duration": 0.256582,
     "end_time": "2022-03-13T17:40:58.140785",
     "exception": false,
     "start_time": "2022-03-13T17:40:57.884203",
     "status": "completed"
    },
    "tags": []
   },
   "outputs": [],
   "source": [
    "def train_model(model,params):\n",
    "    print(\"For\",str(model).split(\"(\")[0])\n",
    "    gsc = GridSearchCV(model, params, cv=5)\n",
    "    gsc.fit(X_train,y_train.values.ravel())\n",
    "    gsc_best = gsc.best_estimator_\n",
    "    y_pred=gsc_best.predict(X_test)\n",
    "    y_ans = gsc_best.predict(test_final_df)\n",
    "    y_prob = gsc_best.predict_proba(X_test)\n",
    "    fans_prob = gsc_best.predict_proba(test_final_df)\n",
    "    print(\"\\n\")\n",
    "    print(\"Best Parameters : \", gsc.best_estimator_)\n",
    "    metrics1(y_pred,y_test)\n",
    "    #report = classification_report(y_test,y_pred,output_dict=True,zero_division=1)\n",
    "    #print(pd.DataFrame(report).transpose())\n",
    "    #print(\"\\n\")\n",
    "    return y_ans,fans_prob"
   ]
  },
  {
   "cell_type": "code",
   "execution_count": 141,
   "id": "e8b7aea2",
   "metadata": {
    "execution": {
     "iopub.execute_input": "2022-03-13T17:40:58.619144Z",
     "iopub.status.busy": "2022-03-13T17:40:58.618325Z",
     "iopub.status.idle": "2022-03-13T17:40:58.621555Z",
     "shell.execute_reply": "2022-03-13T17:40:58.622039Z"
    },
    "papermill": {
     "duration": 0.243369,
     "end_time": "2022-03-13T17:40:58.622214",
     "exception": false,
     "start_time": "2022-03-13T17:40:58.378845",
     "status": "completed"
    },
    "tags": []
   },
   "outputs": [
    {
     "data": {
      "text/plain": [
       "(9992, 36)"
      ]
     },
     "execution_count": 141,
     "metadata": {},
     "output_type": "execute_result"
    }
   ],
   "source": [
    "X_train.shape"
   ]
  },
  {
   "cell_type": "code",
   "execution_count": 142,
   "id": "56337088",
   "metadata": {
    "execution": {
     "iopub.execute_input": "2022-03-13T17:40:59.104460Z",
     "iopub.status.busy": "2022-03-13T17:40:59.103439Z",
     "iopub.status.idle": "2022-03-13T17:40:59.109543Z",
     "shell.execute_reply": "2022-03-13T17:40:59.110152Z"
    },
    "papermill": {
     "duration": 0.251504,
     "end_time": "2022-03-13T17:40:59.110333",
     "exception": false,
     "start_time": "2022-03-13T17:40:58.858829",
     "status": "completed"
    },
    "tags": []
   },
   "outputs": [
    {
     "data": {
      "text/plain": [
       "array([[ 1.0173554 ,  1.74376574,  1.99906659, ...,  0.83418151,\n",
       "        -0.06947684, -0.48849412],\n",
       "       [ 0.85509051, -0.31153996, -0.44693658, ...,  0.83418151,\n",
       "        -0.06947684, -0.48849412],\n",
       "       [ 1.0405361 ,  1.30334309, -0.44693658, ...,  0.83418151,\n",
       "        -0.06947684, -0.48849412],\n",
       "       ...,\n",
       "       [ 0.73918702,  1.59695819,  0.77606501, ...,  0.83418151,\n",
       "        -0.06947684, -0.48849412],\n",
       "       [ 0.30645626, -0.89877016, -1.05843737, ..., -1.19877987,\n",
       "        -0.06947684,  2.04710756],\n",
       "       [-1.23877508,  0.12888269,  0.16456421, ...,  0.83418151,\n",
       "        -0.06947684, -0.48849412]])"
      ]
     },
     "execution_count": 142,
     "metadata": {},
     "output_type": "execute_result"
    }
   ],
   "source": [
    "X_train"
   ]
  },
  {
   "cell_type": "code",
   "execution_count": null,
   "id": "5a0aa0c0",
   "metadata": {
    "papermill": {
     "duration": 0.240591,
     "end_time": "2022-03-13T17:40:59.585769",
     "exception": false,
     "start_time": "2022-03-13T17:40:59.345178",
     "status": "completed"
    },
    "tags": []
   },
   "outputs": [],
   "source": []
  },
  {
   "cell_type": "code",
   "execution_count": 143,
   "id": "fe08f29c",
   "metadata": {
    "execution": {
     "iopub.execute_input": "2022-03-13T17:41:00.066671Z",
     "iopub.status.busy": "2022-03-13T17:41:00.066004Z",
     "iopub.status.idle": "2022-03-13T17:41:18.394643Z",
     "shell.execute_reply": "2022-03-13T17:41:18.394122Z"
    },
    "papermill": {
     "duration": 18.572312,
     "end_time": "2022-03-13T17:41:18.394840",
     "exception": false,
     "start_time": "2022-03-13T17:40:59.822528",
     "status": "completed"
    },
    "tags": []
   },
   "outputs": [
    {
     "name": "stdout",
     "output_type": "stream",
     "text": [
      "For RandomForestClassifier\n",
      "\n",
      "\n",
      "Best Parameters :  RandomForestClassifier(n_estimators=200, random_state=0)\n",
      "\n",
      "\n",
      "Accuracy : 0.9071257005604484\n",
      "\n",
      "\n",
      "Precision Score :  0.921794134560092\n",
      "\n",
      "\n",
      "Recall Score :  0.9434961742201294\n",
      "\n",
      "\n",
      "ROC AUC Score :  0.8866417041313412\n",
      "\n",
      "\n",
      "Classification Report\n",
      "\n",
      "               precision    recall  f1-score   support\n",
      "\n",
      "         0.0       0.87      0.83      0.85       799\n",
      "         1.0       0.92      0.94      0.93      1699\n",
      "\n",
      "    accuracy                           0.91      2498\n",
      "   macro avg       0.90      0.89      0.89      2498\n",
      "weighted avg       0.91      0.91      0.91      2498\n",
      "\n",
      "\n",
      "\n",
      "Confusion Matrix\n"
     ]
    },
    {
     "data": {
      "image/png": "[encoded data removed]",
      "text/plain": [
       "<Figure size 432x288 with 2 Axes>"
      ]
     },
     "metadata": {
      "needs_background": "light"
     },
     "output_type": "display_data"
    }
   ],
   "source": [
    "fans,ansprob = train_model(RandomForestClassifier(random_state=0),{'n_estimators': [50, 100, 200]})"
   ]
  },
  {
   "cell_type": "code",
   "execution_count": 144,
   "id": "f3b86b65",
   "metadata": {
    "execution": {
     "iopub.execute_input": "2022-03-13T17:41:18.885888Z",
     "iopub.status.busy": "2022-03-13T17:41:18.884985Z",
     "iopub.status.idle": "2022-03-13T17:41:18.889062Z",
     "shell.execute_reply": "2022-03-13T17:41:18.888485Z"
    },
    "papermill": {
     "duration": 0.251823,
     "end_time": "2022-03-13T17:41:18.889210",
     "exception": false,
     "start_time": "2022-03-13T17:41:18.637387",
     "status": "completed"
    },
    "tags": []
   },
   "outputs": [
    {
     "data": {
      "text/plain": [
       "array([[0.83 , 0.17 ],\n",
       "       [0.93 , 0.07 ],\n",
       "       [0.81 , 0.19 ],\n",
       "       ...,\n",
       "       [0.445, 0.555],\n",
       "       [0.105, 0.895],\n",
       "       [0.2  , 0.8  ]])"
      ]
     },
     "execution_count": 144,
     "metadata": {},
     "output_type": "execute_result"
    }
   ],
   "source": [
    "ansprob"
   ]
  },
  {
   "cell_type": "code",
   "execution_count": 145,
   "id": "b8649634",
   "metadata": {
    "execution": {
     "iopub.execute_input": "2022-03-13T17:41:19.388514Z",
     "iopub.status.busy": "2022-03-13T17:41:19.387742Z",
     "iopub.status.idle": "2022-03-13T17:41:20.840718Z",
     "shell.execute_reply": "2022-03-13T17:41:20.839935Z"
    },
    "papermill": {
     "duration": 1.708737,
     "end_time": "2022-03-13T17:41:20.840864",
     "exception": false,
     "start_time": "2022-03-13T17:41:19.132127",
     "status": "completed"
    },
    "tags": []
   },
   "outputs": [
    {
     "name": "stdout",
     "output_type": "stream",
     "text": [
      "For DecisionTreeClassifier\n",
      "\n",
      "\n",
      "Best Parameters :  DecisionTreeClassifier(criterion='entropy', max_depth=6)\n",
      "\n",
      "\n",
      "Accuracy : 0.8650920736589272\n",
      "\n",
      "\n",
      "Precision Score :  0.8783333333333333\n",
      "\n",
      "\n",
      "Recall Score :  0.9305473808122425\n",
      "\n",
      "\n",
      "ROC AUC Score :  0.8282273825212653\n",
      "\n",
      "\n",
      "Classification Report\n",
      "\n",
      "               precision    recall  f1-score   support\n",
      "\n",
      "         0.0       0.83      0.73      0.77       799\n",
      "         1.0       0.88      0.93      0.90      1699\n",
      "\n",
      "    accuracy                           0.87      2498\n",
      "   macro avg       0.85      0.83      0.84      2498\n",
      "weighted avg       0.86      0.87      0.86      2498\n",
      "\n",
      "\n",
      "\n",
      "Confusion Matrix\n"
     ]
    },
    {
     "data": {
      "image/png": "[encoded data removed]",
      "text/plain": [
       "<Figure size 432x288 with 2 Axes>"
      ]
     },
     "metadata": {
      "needs_background": "light"
     },
     "output_type": "display_data"
    }
   ],
   "source": [
    "from sklearn.tree import DecisionTreeClassifier\n",
    "fans1,ansprob1 = train_model(DecisionTreeClassifier(),{'max_depth': [1,2,3,4,5,6,7,8,9,10], 'criterion':['entropy']})"
   ]
  },
  {
   "cell_type": "code",
   "execution_count": 146,
   "id": "ea209932",
   "metadata": {
    "execution": {
     "iopub.execute_input": "2022-03-13T17:41:21.329110Z",
     "iopub.status.busy": "2022-03-13T17:41:21.328099Z",
     "iopub.status.idle": "2022-03-13T17:41:27.853189Z",
     "shell.execute_reply": "2022-03-13T17:41:27.853726Z"
    },
    "papermill": {
     "duration": 6.770561,
     "end_time": "2022-03-13T17:41:27.853947",
     "exception": false,
     "start_time": "2022-03-13T17:41:21.083386",
     "status": "completed"
    },
    "tags": []
   },
   "outputs": [
    {
     "name": "stdout",
     "output_type": "stream",
     "text": [
      "For LogisticRegression\n",
      "\n",
      "\n",
      "Best Parameters :  LogisticRegression(C=10.0, max_iter=5000, random_state=123, solver='liblinear')\n",
      "\n",
      "\n",
      "Accuracy : 0.8923138510808647\n",
      "\n",
      "\n",
      "Precision Score :  0.906712172923777\n",
      "\n",
      "\n",
      "Recall Score :  0.9381989405532666\n",
      "\n",
      "\n",
      "ROC AUC Score :  0.8664711849199375\n",
      "\n",
      "\n",
      "Classification Report\n",
      "\n",
      "               precision    recall  f1-score   support\n",
      "\n",
      "         0.0       0.86      0.79      0.83       799\n",
      "         1.0       0.91      0.94      0.92      1699\n",
      "\n",
      "    accuracy                           0.89      2498\n",
      "   macro avg       0.88      0.87      0.87      2498\n",
      "weighted avg       0.89      0.89      0.89      2498\n",
      "\n",
      "\n",
      "\n",
      "Confusion Matrix\n"
     ]
    },
    {
     "data": {
      "image/png": "[encoded data removed]",
      "text/plain": [
       "<Figure size 432x288 with 2 Axes>"
      ]
     },
     "metadata": {
      "needs_background": "light"
     },
     "output_type": "display_data"
    }
   ],
   "source": [
    "fans2,ansprob2 = train_model(LogisticRegression(random_state=123,solver='liblinear', penalty='l2', max_iter=5000),dict(C=np.logspace(1, 4, 10)))"
   ]
  },
  {
   "cell_type": "code",
   "execution_count": 147,
   "id": "00c03678",
   "metadata": {
    "execution": {
     "iopub.execute_input": "2022-03-13T17:41:28.354682Z",
     "iopub.status.busy": "2022-03-13T17:41:28.353503Z",
     "iopub.status.idle": "2022-03-13T17:41:28.358313Z",
     "shell.execute_reply": "2022-03-13T17:41:28.357666Z"
    },
    "papermill": {
     "duration": 0.253398,
     "end_time": "2022-03-13T17:41:28.358477",
     "exception": false,
     "start_time": "2022-03-13T17:41:28.105079",
     "status": "completed"
    },
    "tags": []
   },
   "outputs": [
    {
     "data": {
      "text/plain": [
       "array([0.09628611, 0.05050505, 0.52755906, ..., 0.88385995, 0.9689243 ,\n",
       "       0.88385995])"
      ]
     },
     "execution_count": 147,
     "metadata": {},
     "output_type": "execute_result"
    }
   ],
   "source": [
    "ansprob1[:,1]"
   ]
  },
  {
   "cell_type": "code",
   "execution_count": 148,
   "id": "ba5968a1",
   "metadata": {
    "execution": {
     "iopub.execute_input": "2022-03-13T17:41:28.863769Z",
     "iopub.status.busy": "2022-03-13T17:41:28.863074Z",
     "iopub.status.idle": "2022-03-13T17:41:28.865265Z",
     "shell.execute_reply": "2022-03-13T17:41:28.864643Z"
    },
    "papermill": {
     "duration": 0.260387,
     "end_time": "2022-03-13T17:41:28.865421",
     "exception": false,
     "start_time": "2022-03-13T17:41:28.605034",
     "status": "completed"
    },
    "tags": []
   },
   "outputs": [],
   "source": [
    "#results.target.value_counts()"
   ]
  },
  {
   "cell_type": "code",
   "execution_count": 149,
   "id": "68bc9fbd",
   "metadata": {
    "execution": {
     "iopub.execute_input": "2022-03-13T17:41:29.445115Z",
     "iopub.status.busy": "2022-03-13T17:41:29.444081Z",
     "iopub.status.idle": "2022-03-13T17:41:36.232033Z",
     "shell.execute_reply": "2022-03-13T17:41:36.231309Z"
    },
    "papermill": {
     "duration": 7.064926,
     "end_time": "2022-03-13T17:41:36.232194",
     "exception": false,
     "start_time": "2022-03-13T17:41:29.167268",
     "status": "completed"
    },
    "tags": []
   },
   "outputs": [],
   "source": [
    "import tensorflow as tf\n",
    "from tensorflow.keras.regularizers import l2"
   ]
  },
  {
   "cell_type": "code",
   "execution_count": 150,
   "id": "3e7a3d8f",
   "metadata": {
    "execution": {
     "iopub.execute_input": "2022-03-13T17:41:36.735176Z",
     "iopub.status.busy": "2022-03-13T17:41:36.734508Z",
     "iopub.status.idle": "2022-03-13T17:41:36.740240Z",
     "shell.execute_reply": "2022-03-13T17:41:36.739585Z"
    },
    "papermill": {
     "duration": 0.256412,
     "end_time": "2022-03-13T17:41:36.740391",
     "exception": false,
     "start_time": "2022-03-13T17:41:36.483979",
     "status": "completed"
    },
    "tags": []
   },
   "outputs": [
    {
     "data": {
      "text/plain": [
       "(9992, 36)"
      ]
     },
     "execution_count": 150,
     "metadata": {},
     "output_type": "execute_result"
    }
   ],
   "source": [
    "X_train.shape"
   ]
  },
  {
   "cell_type": "code",
   "execution_count": 151,
   "id": "240ca2dc",
   "metadata": {
    "execution": {
     "iopub.execute_input": "2022-03-13T17:41:37.249257Z",
     "iopub.status.busy": "2022-03-13T17:41:37.248437Z",
     "iopub.status.idle": "2022-03-13T17:41:37.428224Z",
     "shell.execute_reply": "2022-03-13T17:41:37.428762Z"
    },
    "papermill": {
     "duration": 0.438313,
     "end_time": "2022-03-13T17:41:37.428953",
     "exception": false,
     "start_time": "2022-03-13T17:41:36.990640",
     "status": "completed"
    },
    "tags": []
   },
   "outputs": [
    {
     "name": "stderr",
     "output_type": "stream",
     "text": [
      "2022-03-13 17:41:37.299756: I tensorflow/core/common_runtime/process_util.cc:146] Creating new thread pool with default inter op setting: 2. Tune using inter_op_parallelism_threads for best performance.\n"
     ]
    }
   ],
   "source": [
    "factor=0.0001\n",
    "rate=0.4\n",
    "model=tf.keras.models.Sequential([\n",
    "                                  tf.keras.layers.Dense(160,input_shape=(36,),activation=\"relu\",kernel_regularizer=l2(factor)),\n",
    "                                  tf.keras.layers.Dropout(rate),\n",
    "                                  tf.keras.layers.Dense(120,activation=\"relu\",kernel_regularizer=l2(factor)),\n",
    "                                  tf.keras.layers.Dropout(rate),\n",
    "                                  tf.keras.layers.Dense(80,activation='relu',kernel_regularizer=l2(factor)),\n",
    "                                  tf.keras.layers.Dropout(rate),\n",
    "                                  tf.keras.layers.Dense(40,activation='relu',kernel_regularizer=l2(factor)),\n",
    "                                  tf.keras.layers.Dropout(rate),\n",
    "                                  tf.keras.layers.Dense(20,activation='relu',kernel_regularizer=l2(factor)),\n",
    "                                  tf.keras.layers.Dropout(rate),\n",
    "                                  tf.keras.layers.Dense(10,activation='relu',kernel_regularizer=l2(factor)),\n",
    "                                  tf.keras.layers.Dropout(rate),\n",
    "                                  tf.keras.layers.Dense(units=1, activation='sigmoid')])"
   ]
  },
  {
   "cell_type": "code",
   "execution_count": 152,
   "id": "0c66b29f",
   "metadata": {
    "execution": {
     "iopub.execute_input": "2022-03-13T17:41:37.932766Z",
     "iopub.status.busy": "2022-03-13T17:41:37.931557Z",
     "iopub.status.idle": "2022-03-13T17:41:38.151452Z",
     "shell.execute_reply": "2022-03-13T17:41:38.150752Z"
    },
    "papermill": {
     "duration": 0.471788,
     "end_time": "2022-03-13T17:41:38.151593",
     "exception": false,
     "start_time": "2022-03-13T17:41:37.679805",
     "status": "completed"
    },
    "tags": []
   },
   "outputs": [],
   "source": [
    "model.compile(optimizer = 'adam', loss = 'binary_crossentropy', metrics = ['accuracy'])"
   ]
  },
  {
   "cell_type": "code",
   "execution_count": 153,
   "id": "155be5c9",
   "metadata": {
    "execution": {
     "iopub.execute_input": "2022-03-13T17:41:38.654325Z",
     "iopub.status.busy": "2022-03-13T17:41:38.653274Z",
     "iopub.status.idle": "2022-03-13T17:41:38.656398Z",
     "shell.execute_reply": "2022-03-13T17:41:38.655858Z"
    },
    "papermill": {
     "duration": 0.258388,
     "end_time": "2022-03-13T17:41:38.656553",
     "exception": false,
     "start_time": "2022-03-13T17:41:38.398165",
     "status": "completed"
    },
    "tags": []
   },
   "outputs": [],
   "source": [
    "class myCallback(tf.keras.callbacks.Callback):\n",
    "  def on_epoch_end(self,epoch,logs={}):\n",
    "    if(logs.get(\"val_accuracy\")>0.95):\n",
    "      print(\"Reached the accuracy required (ie) 90%\", logs)\n",
    "      self.model.stop_training=True\n",
    "callback=myCallback()"
   ]
  },
  {
   "cell_type": "code",
   "execution_count": 154,
   "id": "b9846248",
   "metadata": {
    "execution": {
     "iopub.execute_input": "2022-03-13T17:41:39.157173Z",
     "iopub.status.busy": "2022-03-13T17:41:39.156379Z",
     "iopub.status.idle": "2022-03-13T17:43:04.121162Z",
     "shell.execute_reply": "2022-03-13T17:43:04.121725Z"
    },
    "papermill": {
     "duration": 85.217319,
     "end_time": "2022-03-13T17:43:04.121925",
     "exception": false,
     "start_time": "2022-03-13T17:41:38.904606",
     "status": "completed"
    },
    "tags": []
   },
   "outputs": [
    {
     "name": "stderr",
     "output_type": "stream",
     "text": [
      "2022-03-13 17:41:39.238364: I tensorflow/compiler/mlir/mlir_graph_optimization_pass.cc:185] None of the MLIR Optimization Passes are enabled (registered 2)\n"
     ]
    },
    {
     "data": {
      "text/plain": [
       "<keras.callbacks.History at 0x7f204ce37390>"
      ]
     },
     "execution_count": 154,
     "metadata": {},
     "output_type": "execute_result"
    }
   ],
   "source": [
    "model.fit(X_train, y_train, batch_size = 256,verbose=0, epochs = 300, callbacks=[callback], validation_split=0.25)"
   ]
  },
  {
   "cell_type": "code",
   "execution_count": 155,
   "id": "117ec484",
   "metadata": {
    "execution": {
     "iopub.execute_input": "2022-03-13T17:43:04.627651Z",
     "iopub.status.busy": "2022-03-13T17:43:04.626840Z",
     "iopub.status.idle": "2022-03-13T17:43:05.087310Z",
     "shell.execute_reply": "2022-03-13T17:43:05.086668Z"
    },
    "papermill": {
     "duration": 0.716929,
     "end_time": "2022-03-13T17:43:05.087486",
     "exception": false,
     "start_time": "2022-03-13T17:43:04.370557",
     "status": "completed"
    },
    "tags": []
   },
   "outputs": [],
   "source": [
    "model_predictions = model.predict(test_final_df)"
   ]
  },
  {
   "cell_type": "code",
   "execution_count": 156,
   "id": "54822dc8",
   "metadata": {
    "execution": {
     "iopub.execute_input": "2022-03-13T17:43:05.589727Z",
     "iopub.status.busy": "2022-03-13T17:43:05.589030Z",
     "iopub.status.idle": "2022-03-13T17:43:05.594556Z",
     "shell.execute_reply": "2022-03-13T17:43:05.595174Z"
    },
    "papermill": {
     "duration": 0.262166,
     "end_time": "2022-03-13T17:43:05.595368",
     "exception": false,
     "start_time": "2022-03-13T17:43:05.333202",
     "status": "completed"
    },
    "tags": []
   },
   "outputs": [
    {
     "data": {
      "text/plain": [
       "4790"
      ]
     },
     "execution_count": 156,
     "metadata": {},
     "output_type": "execute_result"
    }
   ],
   "source": [
    "len(model_predictions)"
   ]
  },
  {
   "cell_type": "code",
   "execution_count": 157,
   "id": "101502a1",
   "metadata": {
    "execution": {
     "iopub.execute_input": "2022-03-13T17:43:06.123661Z",
     "iopub.status.busy": "2022-03-13T17:43:06.123011Z",
     "iopub.status.idle": "2022-03-13T17:43:06.127202Z",
     "shell.execute_reply": "2022-03-13T17:43:06.127854Z"
    },
    "papermill": {
     "duration": 0.284356,
     "end_time": "2022-03-13T17:43:06.128052",
     "exception": false,
     "start_time": "2022-03-13T17:43:05.843696",
     "status": "completed"
    },
    "tags": []
   },
   "outputs": [],
   "source": [
    "#ID_column = test_features[\"index\"]\n",
    "#results = pd.concat([ID_column, pd.DataFrame(model_predictions)], axis=1)\n",
    "#results.columns = ['index', 'target']\n",
    "#results.to_csv(\"submission.csv\",index = False)\n",
    "#results.shape\n",
    "#results"
   ]
  },
  {
   "cell_type": "code",
   "execution_count": 158,
   "id": "48e0d695",
   "metadata": {
    "execution": {
     "iopub.execute_input": "2022-03-13T17:43:06.692431Z",
     "iopub.status.busy": "2022-03-13T17:43:06.691402Z",
     "iopub.status.idle": "2022-03-13T17:43:07.190267Z",
     "shell.execute_reply": "2022-03-13T17:43:07.189551Z"
    },
    "papermill": {
     "duration": 0.75702,
     "end_time": "2022-03-13T17:43:07.190415",
     "exception": false,
     "start_time": "2022-03-13T17:43:06.433395",
     "status": "completed"
    },
    "tags": []
   },
   "outputs": [
    {
     "name": "stdout",
     "output_type": "stream",
     "text": [
      "\n",
      "\n",
      "Accuracy : 0.8783026421136909\n",
      "\n",
      "\n",
      "Precision Score :  0.8885793871866295\n",
      "\n",
      "\n",
      "Recall Score :  0.9387875220718069\n",
      "\n",
      "\n",
      "ROC AUC Score :  0.8442373154789573\n",
      "\n",
      "\n",
      "Classification Report\n",
      "\n",
      "               precision    recall  f1-score   support\n",
      "\n",
      "         0.0       0.85      0.75      0.80       799\n",
      "         1.0       0.89      0.94      0.91      1699\n",
      "\n",
      "    accuracy                           0.88      2498\n",
      "   macro avg       0.87      0.84      0.86      2498\n",
      "weighted avg       0.88      0.88      0.88      2498\n",
      "\n",
      "\n",
      "\n",
      "Confusion Matrix\n"
     ]
    },
    {
     "data": {
      "image/png": "[encoded data removed]",
      "text/plain": [
       "<Figure size 432x288 with 2 Axes>"
      ]
     },
     "metadata": {
      "needs_background": "light"
     },
     "output_type": "display_data"
    }
   ],
   "source": [
    "y_pred=model.predict(X_test)>0.5\n",
    "metrics1(y_pred.astype(int),y_test)"
   ]
  },
  {
   "cell_type": "code",
   "execution_count": 159,
   "id": "29c9745c",
   "metadata": {
    "execution": {
     "iopub.execute_input": "2022-03-13T17:43:07.707374Z",
     "iopub.status.busy": "2022-03-13T17:43:07.706615Z",
     "iopub.status.idle": "2022-03-13T17:43:07.734784Z",
     "shell.execute_reply": "2022-03-13T17:43:07.734137Z"
    },
    "papermill": {
     "duration": 0.285075,
     "end_time": "2022-03-13T17:43:07.734932",
     "exception": false,
     "start_time": "2022-03-13T17:43:07.449857",
     "status": "completed"
    },
    "tags": []
   },
   "outputs": [
    {
     "data": {
      "text/html": [
       "<div>\n",
       "<style scoped>\n",
       "    .dataframe tbody tr th:only-of-type {\n",
       "        vertical-align: middle;\n",
       "    }\n",
       "\n",
       "    .dataframe tbody tr th {\n",
       "        vertical-align: top;\n",
       "    }\n",
       "\n",
       "    .dataframe thead th {\n",
       "        text-align: right;\n",
       "    }\n",
       "</style>\n",
       "<table border=\"1\" class=\"dataframe\">\n",
       "  <thead>\n",
       "    <tr style=\"text-align: right;\">\n",
       "      <th></th>\n",
       "      <th>index</th>\n",
       "      <th>target</th>\n",
       "    </tr>\n",
       "  </thead>\n",
       "  <tbody>\n",
       "    <tr>\n",
       "      <th>0</th>\n",
       "      <td>16834</td>\n",
       "      <td>0.170</td>\n",
       "    </tr>\n",
       "    <tr>\n",
       "      <th>1</th>\n",
       "      <td>15437</td>\n",
       "      <td>0.070</td>\n",
       "    </tr>\n",
       "    <tr>\n",
       "      <th>2</th>\n",
       "      <td>8549</td>\n",
       "      <td>0.190</td>\n",
       "    </tr>\n",
       "    <tr>\n",
       "      <th>3</th>\n",
       "      <td>7222</td>\n",
       "      <td>0.075</td>\n",
       "    </tr>\n",
       "    <tr>\n",
       "      <th>4</th>\n",
       "      <td>17054</td>\n",
       "      <td>0.735</td>\n",
       "    </tr>\n",
       "    <tr>\n",
       "      <th>...</th>\n",
       "      <td>...</td>\n",
       "      <td>...</td>\n",
       "    </tr>\n",
       "    <tr>\n",
       "      <th>4785</th>\n",
       "      <td>5915</td>\n",
       "      <td>0.985</td>\n",
       "    </tr>\n",
       "    <tr>\n",
       "      <th>4786</th>\n",
       "      <td>11083</td>\n",
       "      <td>0.120</td>\n",
       "    </tr>\n",
       "    <tr>\n",
       "      <th>4787</th>\n",
       "      <td>2335</td>\n",
       "      <td>0.555</td>\n",
       "    </tr>\n",
       "    <tr>\n",
       "      <th>4788</th>\n",
       "      <td>7691</td>\n",
       "      <td>0.895</td>\n",
       "    </tr>\n",
       "    <tr>\n",
       "      <th>4789</th>\n",
       "      <td>17911</td>\n",
       "      <td>0.800</td>\n",
       "    </tr>\n",
       "  </tbody>\n",
       "</table>\n",
       "<p>4790 rows × 2 columns</p>\n",
       "</div>"
      ],
      "text/plain": [
       "      index  target\n",
       "0     16834   0.170\n",
       "1     15437   0.070\n",
       "2      8549   0.190\n",
       "3      7222   0.075\n",
       "4     17054   0.735\n",
       "...     ...     ...\n",
       "4785   5915   0.985\n",
       "4786  11083   0.120\n",
       "4787   2335   0.555\n",
       "4788   7691   0.895\n",
       "4789  17911   0.800\n",
       "\n",
       "[4790 rows x 2 columns]"
      ]
     },
     "execution_count": 159,
     "metadata": {},
     "output_type": "execute_result"
    }
   ],
   "source": [
    "ID_column = test_features[\"index\"]\n",
    "results = pd.concat([ID_column, pd.DataFrame(ansprob[:,1])], axis=1)\n",
    "results.columns = ['index', 'target']\n",
    "results.to_csv(\"submission1.csv\",index = False)\n",
    "results.shape\n",
    "results"
   ]
  },
  {
   "cell_type": "code",
   "execution_count": 160,
   "id": "d564b99f",
   "metadata": {
    "execution": {
     "iopub.execute_input": "2022-03-13T17:43:08.242658Z",
     "iopub.status.busy": "2022-03-13T17:43:08.242000Z",
     "iopub.status.idle": "2022-03-13T17:43:08.246596Z",
     "shell.execute_reply": "2022-03-13T17:43:08.247227Z"
    },
    "papermill": {
     "duration": 0.261735,
     "end_time": "2022-03-13T17:43:08.247483",
     "exception": false,
     "start_time": "2022-03-13T17:43:07.985748",
     "status": "completed"
    },
    "tags": []
   },
   "outputs": [
    {
     "data": {
      "text/plain": [
       "array([0.17 , 0.07 , 0.19 , ..., 0.555, 0.895, 0.8  ])"
      ]
     },
     "execution_count": 160,
     "metadata": {},
     "output_type": "execute_result"
    }
   ],
   "source": [
    "ansprob[:,1]"
   ]
  },
  {
   "cell_type": "code",
   "execution_count": null,
   "id": "ea14e27e",
   "metadata": {
    "papermill": {
     "duration": 0.253598,
     "end_time": "2022-03-13T17:43:08.751511",
     "exception": false,
     "start_time": "2022-03-13T17:43:08.497913",
     "status": "completed"
    },
    "tags": []
   },
   "outputs": [],
   "source": []
  },
  {
   "cell_type": "code",
   "execution_count": null,
   "id": "cfd6591c",
   "metadata": {
    "papermill": {
     "duration": 0.257613,
     "end_time": "2022-03-13T17:43:09.265877",
     "exception": false,
     "start_time": "2022-03-13T17:43:09.008264",
     "status": "completed"
    },
    "tags": []
   },
   "outputs": [],
   "source": []
  },
  {
   "cell_type": "code",
   "execution_count": null,
   "id": "806033c6",
   "metadata": {
    "papermill": {
     "duration": 0.256779,
     "end_time": "2022-03-13T17:43:09.782249",
     "exception": false,
     "start_time": "2022-03-13T17:43:09.525470",
     "status": "completed"
    },
    "tags": []
   },
   "outputs": [],
   "source": []
  },
  {
   "cell_type": "code",
   "execution_count": null,
   "id": "ae11e5b0",
   "metadata": {
    "papermill": {
     "duration": 0.252219,
     "end_time": "2022-03-13T17:43:10.286915",
     "exception": false,
     "start_time": "2022-03-13T17:43:10.034696",
     "status": "completed"
    },
    "tags": []
   },
   "outputs": [],
   "source": []
  },
  {
   "cell_type": "code",
   "execution_count": null,
   "id": "2483c474",
   "metadata": {
    "papermill": {
     "duration": 0.252529,
     "end_time": "2022-03-13T17:43:10.790640",
     "exception": false,
     "start_time": "2022-03-13T17:43:10.538111",
     "status": "completed"
    },
    "tags": []
   },
   "outputs": [],
   "source": []
  },
  {
   "cell_type": "code",
   "execution_count": null,
   "id": "4ccbb1e1",
   "metadata": {
    "papermill": {
     "duration": 0.252985,
     "end_time": "2022-03-13T17:43:11.299499",
     "exception": false,
     "start_time": "2022-03-13T17:43:11.046514",
     "status": "completed"
    },
    "tags": []
   },
   "outputs": [],
   "source": []
  }
 ],
 "metadata": {
  "kernelspec": {
   "display_name": "Python 3",
   "language": "python",
   "name": "python3"
  },
  "language_info": {
   "codemirror_mode": {
    "name": "ipython",
    "version": 3
   },
   "file_extension": ".py",
   "mimetype": "text/x-python",
   "name": "python",
   "nbconvert_exporter": "python",
   "pygments_lexer": "ipython3",
   "version": "3.7.12"
  },
  "papermill": {
   "default_parameters": {},
   "duration": 263.18986,
   "end_time": "2022-03-13T17:43:14.620026",
   "environment_variables": {},
   "exception": null,
   "input_path": "__notebook__.ipynb",
   "output_path": "__notebook__.ipynb",
   "parameters": {},
   "start_time": "2022-03-13T17:38:51.430166",
   "version": "2.3.3"
  }
 },
 "nbformat": 4,
 "nbformat_minor": 5
}
